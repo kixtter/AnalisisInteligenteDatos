{
  "nbformat": 4,
  "nbformat_minor": 0,
  "metadata": {
    "colab": {
      "name": "Caso 7 Regresión Polinómica.ipynb",
      "provenance": [],
      "authorship_tag": "ABX9TyNo77q/Og2QcLt02IsYeg/T",
      "include_colab_link": true
    },
    "kernelspec": {
      "name": "python3",
      "display_name": "Python 3"
    },
    "language_info": {
      "name": "python"
    }
  },
  "cells": [
    {
      "cell_type": "markdown",
      "metadata": {
        "id": "view-in-github",
        "colab_type": "text"
      },
      "source": [
        "<a href=\"https://colab.research.google.com/github/kixtter/AnalisisInteligenteDatos/blob/main/Unidad%201/Caso_7_Regresi%C3%B3n_Polin%C3%B3mica.ipynb\" target=\"_parent\"><img src=\"https://colab.research.google.com/assets/colab-badge.svg\" alt=\"Open In Colab\"/></a>"
      ]
    },
    {
      "cell_type": "markdown",
      "metadata": {
        "id": "gRjwbXYZeGxN"
      },
      "source": [
        "#Caso 7: Regresión Polinómica\n",
        "\n",
        "Yander Alexis Avila Medina\n",
        "05-Oct-2021"
      ]
    },
    {
      "cell_type": "markdown",
      "metadata": {
        "id": "JoWQPInXeTRf"
      },
      "source": [
        "##Objetivo\n",
        "Desarrollar predicciones y evaluación del modelo de regresión polinómica y comparar con el modelo de regresión simple\n",
        "\n",
        "##Descripción\n",
        "Se elabora un modelo de regresión lineal simple y se compara con un modelo de regresión polinómica confirme y de acuerdo al valor R Square o Coeficiente de Determinación\n",
        "\n",
        "Los datos se obtienen de [Kaggle](https://www.kaggle.com/akram24/position-salaries)\n",
        "\n",
        "La fuente originial del ejemplo se encuentra en [link](https://www.ellaberintodefalken.com/2019/12/regresion-polinomica-polinomial.html)\n",
        "\n",
        "*  Primero se crea un modelo de regresión lineal simple\n",
        "*  Se visualizan diagramas de dispersión\n",
        "*  Se comparan los modelos confirme al estadístico R Square\n",
        "*  Se crea un modelo de regresión polinómica de tercer nivel\n",
        "*  Se hacen interpretaciones del caso\n"
      ]
    },
    {
      "cell_type": "markdown",
      "metadata": {
        "id": "iaHZqy_-fjgE"
      },
      "source": [
        "##Marco Teórico\n",
        "\n",
        "Los modelos lineales tienen la ventaja de ser fácilmente interpretables, sin embargo, pueden tener limitaciones importantes en capacidad predictiva, esto se debe a que, la asunción de linealidad, es con frecuencia una aproximación demasiado simple para describir las relaciones reales entre variables. \n",
        "\n",
        "La forma más sencilla de incorporar flexibilidad a un modelo lineal es introduciendo nuevos predictores obtenidos al elevar a distintas potencias el predictor original.\n",
        "\n",
        "Partiendo del modelo lineal:\n",
        "\n",
        "$y=β0+β1xi+ϵi$\n",
        "\n",
        "Ahora se pretendie una ecuación polinomial:\n",
        "\n",
        "$y=β0+β1xi+β2xi2+β3xi3...+βnxin+ϵi$"
      ]
    },
    {
      "cell_type": "markdown",
      "metadata": {
        "id": "YHefZBZ0iBpw"
      },
      "source": [
        "##Desarrollo\n",
        "\n",
        "##Cargar los datos"
      ]
    },
    {
      "cell_type": "code",
      "metadata": {
        "colab": {
          "base_uri": "https://localhost:8080/",
          "height": 363
        },
        "id": "yOOyCNejFIP3",
        "outputId": "85535f9f-36ec-4dbd-d6fe-75d5bfd00ddc"
      },
      "source": [
        "import pandas as pd\n",
        "\n",
        "datos = pd.read_csv('https://raw.githubusercontent.com/rpizarrog/Analisis-Inteligente-de-datos/main/datos/Position_Salaries.csv')\n",
        "\n",
        "datos"
      ],
      "execution_count": 1,
      "outputs": [
        {
          "output_type": "execute_result",
          "data": {
            "text/html": [
              "<div>\n",
              "<style scoped>\n",
              "    .dataframe tbody tr th:only-of-type {\n",
              "        vertical-align: middle;\n",
              "    }\n",
              "\n",
              "    .dataframe tbody tr th {\n",
              "        vertical-align: top;\n",
              "    }\n",
              "\n",
              "    .dataframe thead th {\n",
              "        text-align: right;\n",
              "    }\n",
              "</style>\n",
              "<table border=\"1\" class=\"dataframe\">\n",
              "  <thead>\n",
              "    <tr style=\"text-align: right;\">\n",
              "      <th></th>\n",
              "      <th>Position</th>\n",
              "      <th>Level</th>\n",
              "      <th>Salary</th>\n",
              "    </tr>\n",
              "  </thead>\n",
              "  <tbody>\n",
              "    <tr>\n",
              "      <th>0</th>\n",
              "      <td>Business Analyst</td>\n",
              "      <td>1</td>\n",
              "      <td>45000</td>\n",
              "    </tr>\n",
              "    <tr>\n",
              "      <th>1</th>\n",
              "      <td>Junior Consultant</td>\n",
              "      <td>2</td>\n",
              "      <td>50000</td>\n",
              "    </tr>\n",
              "    <tr>\n",
              "      <th>2</th>\n",
              "      <td>Senior Consultant</td>\n",
              "      <td>3</td>\n",
              "      <td>60000</td>\n",
              "    </tr>\n",
              "    <tr>\n",
              "      <th>3</th>\n",
              "      <td>Manager</td>\n",
              "      <td>4</td>\n",
              "      <td>80000</td>\n",
              "    </tr>\n",
              "    <tr>\n",
              "      <th>4</th>\n",
              "      <td>Country Manager</td>\n",
              "      <td>5</td>\n",
              "      <td>110000</td>\n",
              "    </tr>\n",
              "    <tr>\n",
              "      <th>5</th>\n",
              "      <td>Region Manager</td>\n",
              "      <td>6</td>\n",
              "      <td>150000</td>\n",
              "    </tr>\n",
              "    <tr>\n",
              "      <th>6</th>\n",
              "      <td>Partner</td>\n",
              "      <td>7</td>\n",
              "      <td>200000</td>\n",
              "    </tr>\n",
              "    <tr>\n",
              "      <th>7</th>\n",
              "      <td>Senior Partner</td>\n",
              "      <td>8</td>\n",
              "      <td>300000</td>\n",
              "    </tr>\n",
              "    <tr>\n",
              "      <th>8</th>\n",
              "      <td>C-level</td>\n",
              "      <td>9</td>\n",
              "      <td>500000</td>\n",
              "    </tr>\n",
              "    <tr>\n",
              "      <th>9</th>\n",
              "      <td>CEO</td>\n",
              "      <td>10</td>\n",
              "      <td>1000000</td>\n",
              "    </tr>\n",
              "  </tbody>\n",
              "</table>\n",
              "</div>"
            ],
            "text/plain": [
              "            Position  Level   Salary\n",
              "0   Business Analyst      1    45000\n",
              "1  Junior Consultant      2    50000\n",
              "2  Senior Consultant      3    60000\n",
              "3            Manager      4    80000\n",
              "4    Country Manager      5   110000\n",
              "5     Region Manager      6   150000\n",
              "6            Partner      7   200000\n",
              "7     Senior Partner      8   300000\n",
              "8            C-level      9   500000\n",
              "9                CEO     10  1000000"
            ]
          },
          "metadata": {},
          "execution_count": 1
        }
      ]
    },
    {
      "cell_type": "markdown",
      "metadata": {
        "id": "BClahZEMiYu9"
      },
      "source": [
        "##Crear el modelo de regresión lineal"
      ]
    },
    {
      "cell_type": "code",
      "metadata": {
        "colab": {
          "base_uri": "https://localhost:8080/"
        },
        "id": "XiAC-wA6ie05",
        "outputId": "bed950ec-7658-4f34-a4a3-49e3fe27d8b2"
      },
      "source": [
        "from matplotlib import pyplot as plt\n",
        "\n",
        "#Convertir los datos en arreglos independientes\n",
        "x = datos['Level'].values.reshape(-1, 1)#Variable independiente\n",
        "y = datos['Salary'].values.reshape(-1, 1)# Variable dependiente\n",
        "\n",
        "print(x , '\\n\\n', y)"
      ],
      "execution_count": 6,
      "outputs": [
        {
          "output_type": "stream",
          "name": "stdout",
          "text": [
            "[[ 1]\n",
            " [ 2]\n",
            " [ 3]\n",
            " [ 4]\n",
            " [ 5]\n",
            " [ 6]\n",
            " [ 7]\n",
            " [ 8]\n",
            " [ 9]\n",
            " [10]] \n",
            "\n",
            " [[  45000]\n",
            " [  50000]\n",
            " [  60000]\n",
            " [  80000]\n",
            " [ 110000]\n",
            " [ 150000]\n",
            " [ 200000]\n",
            " [ 300000]\n",
            " [ 500000]\n",
            " [1000000]]\n"
          ]
        }
      ]
    },
    {
      "cell_type": "markdown",
      "metadata": {
        "id": "wTh_3xztjMru"
      },
      "source": [
        "###Visualizar datos\n",
        "Se construye la gráfica de dispersión con los datos"
      ]
    },
    {
      "cell_type": "code",
      "metadata": {
        "colab": {
          "base_uri": "https://localhost:8080/",
          "height": 294
        },
        "id": "nACSdGnJigoX",
        "outputId": "436288ef-2cae-4dc9-e1c2-d4c95aab2525"
      },
      "source": [
        "plt.scatter(x, y)"
      ],
      "execution_count": 7,
      "outputs": [
        {
          "output_type": "execute_result",
          "data": {
            "text/plain": [
              "<matplotlib.collections.PathCollection at 0x7fddf6f65750>"
            ]
          },
          "metadata": {},
          "execution_count": 7
        },
        {
          "output_type": "display_data",
          "data": {
            "image/png": "[encoded data removed]",
            "text/plain": [
              "<Figure size 432x288 with 1 Axes>"
            ]
          },
          "metadata": {
            "needs_background": "light"
          }
        }
      ]
    },
    {
      "cell_type": "markdown",
      "metadata": {
        "id": "e0wqVo31jfZS"
      },
      "source": [
        "###Crear modelo de regresión lineal simple"
      ]
    },
    {
      "cell_type": "code",
      "metadata": {
        "colab": {
          "base_uri": "https://localhost:8080/",
          "height": 276
        },
        "id": "h3q7PnBRji0C",
        "outputId": "f1761282-7bbd-4323-b36d-20f7e106ff93"
      },
      "source": [
        "from sklearn.linear_model import LinearRegression\n",
        "\n",
        "modelo_lin = LinearRegression()\n",
        "modelo_lin.fit(x, y)\n",
        "y_pred = modelo_lin.predict(x)\n",
        "\n",
        "plt.scatter(x, y)\n",
        "plt.plot(x, y_pred, color='#AA00AA')\n",
        "plt.show()"
      ],
      "execution_count": 9,
      "outputs": [
        {
          "output_type": "display_data",
          "data": {
            "image/png": "[encoded data removed]",
            "text/plain": [
              "<Figure size 432x288 with 1 Axes>"
            ]
          },
          "metadata": {
            "needs_background": "light"
          }
        }
      ]
    },
    {
      "cell_type": "markdown",
      "metadata": {
        "id": "hUp0oCCQkDiz"
      },
      "source": [
        "Se puede ver como el modelo de regresión lineal no se ajusta al conjunto de datos actual donde en cada nivel hay un aumento progresivo en vez de una acumulacion en varios puntos para poder formar algo parecido a un camino recto.\n",
        "\n",
        "Utilizar otro modelo sería una mejor solución para este análisis."
      ]
    },
    {
      "cell_type": "markdown",
      "metadata": {
        "id": "FUxT4EWmkq2_"
      },
      "source": [
        "###Evaluación del modelo con R Square"
      ]
    },
    {
      "cell_type": "code",
      "metadata": {
        "colab": {
          "base_uri": "https://localhost:8080/"
        },
        "id": "51w4Gqark1HY",
        "outputId": "95e3aaa0-e035-4c22-a02b-31759cac7fb4"
      },
      "source": [
        "import numpy as np\n",
        "from sklearn.metrics import mean_squared_error, r2_score\n",
        "\n",
        "rmse = np.sqrt(mean_squared_error(y, y_pred))\n",
        "r2 = r2_score(y, y_pred)\n",
        "print('RMSE:', rmse)\n",
        "print('R2:', r2)"
      ],
      "execution_count": 10,
      "outputs": [
        {
          "output_type": "stream",
          "name": "stdout",
          "text": [
            "RMSE: 163388.73519272613\n",
            "R2: 0.6690412331929895\n"
          ]
        }
      ]
    },
    {
      "cell_type": "markdown",
      "metadata": {
        "id": "6mRlzlEOla0e"
      },
      "source": [
        "###Coeficientes en el modelo de regresión lineal simple"
      ]
    },
    {
      "cell_type": "code",
      "metadata": {
        "colab": {
          "base_uri": "https://localhost:8080/"
        },
        "id": "52YzHmTmljul",
        "outputId": "c041133b-378b-458d-b477-baefa6d1891b"
      },
      "source": [
        "b0 = modelo_lin.intercept_\n",
        "b1 = modelo_lin.coef_\n",
        "\n",
        "print('B0:', b0)\n",
        "print('B1:', b1)"
      ],
      "execution_count": 14,
      "outputs": [
        {
          "output_type": "stream",
          "name": "stdout",
          "text": [
            "B0: [-195333.33333333]\n",
            "B1: [[80878.78787879]]\n"
          ]
        }
      ]
    },
    {
      "cell_type": "markdown",
      "metadata": {
        "id": "kwujelikl5pM"
      },
      "source": [
        "$y=b0+b1xi$\n",
        "$y.prediccion=−195333.3333333+80878.78787879×level$\n"
      ]
    },
    {
      "cell_type": "markdown",
      "metadata": {
        "id": "8sD2lM2Zmlrv"
      },
      "source": [
        "###Predecir un valor de 5 conforme a la fórmula"
      ]
    },
    {
      "cell_type": "code",
      "metadata": {
        "colab": {
          "base_uri": "https://localhost:8080/"
        },
        "id": "y_-YpW3zmr0B",
        "outputId": "9b09b757-316e-403a-b2a3-f996b237a3a7"
      },
      "source": [
        "prediccion = -195333.3333333 + 80878.78787879 * 5\n",
        "print(prediccion)"
      ],
      "execution_count": 15,
      "outputs": [
        {
          "output_type": "stream",
          "name": "stdout",
          "text": [
            "209060.60606065\n"
          ]
        }
      ]
    },
    {
      "cell_type": "markdown",
      "metadata": {
        "id": "yuLC52b4m1fx"
      },
      "source": [
        "###Predicir un valor de 5 confirma la función predict()"
      ]
    },
    {
      "cell_type": "code",
      "metadata": {
        "colab": {
          "base_uri": "https://localhost:8080/"
        },
        "id": "q4isqcNCm6wZ",
        "outputId": "82949e9c-5de1-4f24-d88f-71d54eb8f515"
      },
      "source": [
        "pred = modelo_lin.predict([[5]])\n",
        "print(pred)"
      ],
      "execution_count": 16,
      "outputs": [
        {
          "output_type": "stream",
          "name": "stdout",
          "text": [
            "[[209060.60606061]]\n"
          ]
        }
      ]
    },
    {
      "cell_type": "markdown",
      "metadata": {
        "id": "ix5V-9ulnDZu"
      },
      "source": [
        "##Modelo de regresión polinómica al cuadrado\n",
        "\n",
        "De acuerdo al modelo de regresión lineal simple, la variable independiente *Level* representa el 66.9% la variable dependiente *Salary*"
      ]
    },
    {
      "cell_type": "code",
      "metadata": {
        "colab": {
          "base_uri": "https://localhost:8080/"
        },
        "id": "xmx5ISUEndSW",
        "outputId": "16f0533e-d5c8-4d56-da61-949508c7fb09"
      },
      "source": [
        "from sklearn.preprocessing import PolynomialFeatures\n",
        "\n",
        "polyn = PolynomialFeatures(degree = 2)\n",
        "\n",
        "x_poly = polyn.fit_transform(x)\n",
        "print(x)\n",
        "print(x_poly)"
      ],
      "execution_count": 17,
      "outputs": [
        {
          "output_type": "stream",
          "name": "stdout",
          "text": [
            "[[ 1]\n",
            " [ 2]\n",
            " [ 3]\n",
            " [ 4]\n",
            " [ 5]\n",
            " [ 6]\n",
            " [ 7]\n",
            " [ 8]\n",
            " [ 9]\n",
            " [10]]\n",
            "[[  1.   1.   1.]\n",
            " [  1.   2.   4.]\n",
            " [  1.   3.   9.]\n",
            " [  1.   4.  16.]\n",
            " [  1.   5.  25.]\n",
            " [  1.   6.  36.]\n",
            " [  1.   7.  49.]\n",
            " [  1.   8.  64.]\n",
            " [  1.   9.  81.]\n",
            " [  1.  10. 100.]]\n"
          ]
        }
      ]
    },
    {
      "cell_type": "markdown",
      "metadata": {
        "id": "tyFJVTKon15z"
      },
      "source": [
        "###Modelo polinómico ajustado al cuadrado"
      ]
    },
    {
      "cell_type": "code",
      "metadata": {
        "colab": {
          "base_uri": "https://localhost:8080/",
          "height": 313
        },
        "id": "dOIcn7q9n5Kh",
        "outputId": "91282201-18e6-4e25-e54d-7339f3336902"
      },
      "source": [
        "modelo_pol2 = LinearRegression()\n",
        "modelo_pol2.fit(x_poly, y)\n",
        "\n",
        "y_pred = modelo_pol2.predict(x_poly)\n",
        "\n",
        "plt.scatter(x, y)\n",
        "plt.plot(x, y_pred, color=\"#F19933\")\n",
        "plt.show()\n",
        "\n",
        "rmse = np.sqrt(mean_squared_error(y, y_pred))\n",
        "r2 = r2_score(y, y_pred)\n",
        "print('RMSE:', rmse)\n",
        "print('R2:', r2)"
      ],
      "execution_count": 38,
      "outputs": [
        {
          "output_type": "display_data",
          "data": {
            "image/png": "[encoded data removed]",
            "text/plain": [
              "<Figure size 432x288 with 1 Axes>"
            ]
          },
          "metadata": {
            "needs_background": "light"
          }
        },
        {
          "output_type": "stream",
          "name": "stdout",
          "text": [
            "RMSE: 82212.12400451249\n",
            "R2: 0.9162082221443942\n"
          ]
        }
      ]
    },
    {
      "cell_type": "markdown",
      "metadata": {
        "id": "L1G5bIaXpA8i"
      },
      "source": [
        "Ahora con el modelo de regresión polinómica se puede ver como este modelo se ajusta mejor a los datos dando a entender que las predicción posiblemente sean buenas y esto lo podemos confirmar con el R Square ya que nos arroja un 91.6% que significa que tanto representa la variable independiente **level** a la variable dependiente **salary**."
      ]
    },
    {
      "cell_type": "markdown",
      "metadata": {
        "id": "RxMonXxkppRB"
      },
      "source": [
        "##Coeficientes en el modelo de regresión polinómica al cuadrado"
      ]
    },
    {
      "cell_type": "code",
      "metadata": {
        "colab": {
          "base_uri": "https://localhost:8080/"
        },
        "id": "hOVTl6E3pxxw",
        "outputId": "58f2bd21-0a8a-45c4-fc81-12084999ff04"
      },
      "source": [
        "b0 = modelo_pol2.intercept_\n",
        "b1 = modelo_pol2.coef_\n",
        "\n",
        "print(\"B0:\", b0)\n",
        "print(\"B1:\", b1)"
      ],
      "execution_count": 39,
      "outputs": [
        {
          "output_type": "stream",
          "name": "stdout",
          "text": [
            "B0: [232166.66666667]\n",
            "B1: [[      0.         -132871.21212121   19431.81818182]]\n"
          ]
        }
      ]
    },
    {
      "cell_type": "markdown",
      "metadata": {
        "id": "M1gyTjUEqObS"
      },
      "source": [
        "$y=β0+β1xi+β2xi2+β3xi3...+βnxin+ϵi$"
      ]
    },
    {
      "cell_type": "markdown",
      "metadata": {
        "id": "QDni9lvaqRF5"
      },
      "source": [
        "###Predecir conforme a la fórmula\n",
        "Valor de level igual a 5"
      ]
    },
    {
      "cell_type": "code",
      "metadata": {
        "colab": {
          "base_uri": "https://localhost:8080/"
        },
        "id": "UlcDNMe3qPqT",
        "outputId": "74d09bfa-6b18-4e23-db33-bfc039e9a5cd"
      },
      "source": [
        "prediccion = 232166.66666667 + (-132871.21212121 * 5) + (19431.81818182 * pow(5, 2))\n",
        "print(prediccion)"
      ],
      "execution_count": 41,
      "outputs": [
        {
          "output_type": "stream",
          "name": "stdout",
          "text": [
            "53606.06060611992\n"
          ]
        }
      ]
    },
    {
      "cell_type": "code",
      "metadata": {
        "colab": {
          "base_uri": "https://localhost:8080/"
        },
        "id": "tWBzEV33qr54",
        "outputId": "a50d9c62-2adc-4110-e96b-55311134839f"
      },
      "source": [
        "pred = modelo_pol2.predict(polyn.fit_transform([[5]]))\n",
        "print(pred)"
      ],
      "execution_count": 42,
      "outputs": [
        {
          "output_type": "stream",
          "name": "stdout",
          "text": [
            "[[53606.06060606]]\n"
          ]
        }
      ]
    },
    {
      "cell_type": "markdown",
      "metadata": {
        "id": "W3SODOfzvhLH"
      },
      "source": [
        "##Modelo polinómico ajustado al cubo"
      ]
    },
    {
      "cell_type": "code",
      "metadata": {
        "colab": {
          "base_uri": "https://localhost:8080/"
        },
        "id": "xPl_6lWEvosK",
        "outputId": "fa0ed87a-3a62-46af-d321-e8f5295dd920"
      },
      "source": [
        "polyn3 = PolynomialFeatures(degree = 3)\n",
        "\n",
        "x_poly3 = polyn3.fit_transform(x)\n",
        "print(x)\n",
        "print(x_poly3)"
      ],
      "execution_count": 43,
      "outputs": [
        {
          "output_type": "stream",
          "name": "stdout",
          "text": [
            "[[ 1]\n",
            " [ 2]\n",
            " [ 3]\n",
            " [ 4]\n",
            " [ 5]\n",
            " [ 6]\n",
            " [ 7]\n",
            " [ 8]\n",
            " [ 9]\n",
            " [10]]\n",
            "[[   1.    1.    1.    1.]\n",
            " [   1.    2.    4.    8.]\n",
            " [   1.    3.    9.   27.]\n",
            " [   1.    4.   16.   64.]\n",
            " [   1.    5.   25.  125.]\n",
            " [   1.    6.   36.  216.]\n",
            " [   1.    7.   49.  343.]\n",
            " [   1.    8.   64.  512.]\n",
            " [   1.    9.   81.  729.]\n",
            " [   1.   10.  100. 1000.]]\n"
          ]
        }
      ]
    },
    {
      "cell_type": "markdown",
      "metadata": {
        "id": "S-snj0f_v4m1"
      },
      "source": [
        "###Modelo polinómico al cubo"
      ]
    },
    {
      "cell_type": "code",
      "metadata": {
        "colab": {
          "base_uri": "https://localhost:8080/",
          "height": 313
        },
        "id": "AqGuU6M8v-ic",
        "outputId": "9fee8de7-05fe-48ae-8d78-1dbe35ad720a"
      },
      "source": [
        "modelo_pol3 = LinearRegression()\n",
        "modelo_pol3.fit(x_poly3, y)\n",
        "\n",
        "y_pred = modelo_pol3.predict(x_poly3)\n",
        "\n",
        "plt.scatter(x, y)\n",
        "plt.plot(x, y_pred, color='#11FF11')\n",
        "plt.show()\n",
        "\n",
        "rmse = np.sqrt(mean_squared_error(y, y_pred))\n",
        "r2 = r2_score(y, y_pred)\n",
        "print('RMSE:', rmse)\n",
        "print('R2:', r2)"
      ],
      "execution_count": 44,
      "outputs": [
        {
          "output_type": "display_data",
          "data": {
            "image/png": "[encoded data removed]",
            "text/plain": [
              "<Figure size 432x288 with 1 Axes>"
            ]
          },
          "metadata": {
            "needs_background": "light"
          }
        },
        {
          "output_type": "stream",
          "name": "stdout",
          "text": [
            "RMSE: 38931.50401232919\n",
            "R2: 0.9812097727913367\n"
          ]
        }
      ]
    },
    {
      "cell_type": "markdown",
      "metadata": {
        "id": "5b_ZlAfXwrCf"
      },
      "source": [
        "Haciendo uso del modelo de regresión polinómico de nivel 3 podemos observar que se ajusta más a los datos que el modelo de nivel 2"
      ]
    },
    {
      "cell_type": "markdown",
      "metadata": {
        "id": "dsrGeY38xJLk"
      },
      "source": [
        "###Coeficientes en el modelo de regresión polinómica al cubo"
      ]
    },
    {
      "cell_type": "code",
      "metadata": {
        "colab": {
          "base_uri": "https://localhost:8080/"
        },
        "id": "Xx3E2HffxNk1",
        "outputId": "bb107d24-f1fc-44ed-8fe5-22a318f87408"
      },
      "source": [
        "b0 = modelo_pol3.intercept_\n",
        "b1 = modelo_pol3.coef_\n",
        "\n",
        "print(\"B0:\", b0)\n",
        "print(\"B1:\", b1)"
      ],
      "execution_count": 45,
      "outputs": [
        {
          "output_type": "stream",
          "name": "stdout",
          "text": [
            "B0: [-121333.33333331]\n",
            "B1: [[     0.         180664.33566432 -48548.95104895   4120.04662005]]\n"
          ]
        }
      ]
    },
    {
      "cell_type": "markdown",
      "metadata": {
        "id": "uY1hdK7MxZaS"
      },
      "source": [
        "###Predecir"
      ]
    },
    {
      "cell_type": "markdown",
      "metadata": {
        "id": "FSTSexY_xjPX"
      },
      "source": [
        "####Predecir confirme a la fórmula\n",
        "Valor de Level = 5"
      ]
    },
    {
      "cell_type": "code",
      "metadata": {
        "colab": {
          "base_uri": "https://localhost:8080/"
        },
        "id": "T1iJjTCexkbD",
        "outputId": "a415b3dd-6881-4f81-bb3a-5ee3fbdce5f7"
      },
      "source": [
        "prediccion = -121333.33333331 + (180664.33566432 * 5) + (-48548.95104895 * pow(5, 2) + (4120.04662005 * pow(5, 3)))\n",
        "print(prediccion)"
      ],
      "execution_count": 46,
      "outputs": [
        {
          "output_type": "stream",
          "name": "stdout",
          "text": [
            "83270.39627079002\n"
          ]
        }
      ]
    },
    {
      "cell_type": "markdown",
      "metadata": {
        "id": "mLbXprMjxlhi"
      },
      "source": [
        "####Predecir confirme a la función predict()"
      ]
    },
    {
      "cell_type": "code",
      "metadata": {
        "colab": {
          "base_uri": "https://localhost:8080/"
        },
        "id": "yGfOToDZx-2t",
        "outputId": "8a6f4f97-fc2c-4d07-a496-2b6a45202881"
      },
      "source": [
        "pred = modelo_pol3.predict(polyn3.fit_transform([[5]]))\n",
        "print(pred)"
      ],
      "execution_count": 47,
      "outputs": [
        {
          "output_type": "stream",
          "name": "stdout",
          "text": [
            "[[83270.39627039]]\n"
          ]
        }
      ]
    },
    {
      "cell_type": "markdown",
      "metadata": {
        "id": "51tZgu4Tq566"
      },
      "source": [
        "#Interpretación\n",
        "\n",
        "De los dos modelos vistos (Lineal y Polinómico) el modelo de regresión polinómica es el adecuado para poder llevar a cabo un análisis además de que tiene un 91.6% de precisión en la prediccion de **salary**.\n",
        "\n",
        "Aunque usando este modelo de nivel **2** es bueno para poder llegar a sacar predicciones que se asemejan a los datos reales, es posible haya un mejor modelo que se ajuste con mayor precisión al conjunto de datos.\n",
        "\n",
        "Haciendo uso del modelo de regresión polinómica de nivel 3 se puede observar como se ajusta mejor a los datos que el modelo de nivel 2, a tal grado se ajusta que el porcentaje de predicción que se acerca a los valores reales es de 98.1%, de esta forma se tiene un mejor análisis.\n",
        "\n",
        "Aunque el conjunto de datos tiene muy pocos registros aun nos sirve para poder hacer pruebas y ver como haciendo uso de diferentes modelos nos podemos acercar al nivel de precisión que buscamos y llegará un punto que un modelo nos será util para hacer un análisis completo y predicciones más precisas."
      ]
    }
  ]
}