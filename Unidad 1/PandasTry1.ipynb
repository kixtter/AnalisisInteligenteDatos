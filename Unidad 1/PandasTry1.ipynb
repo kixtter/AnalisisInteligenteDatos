{
  "nbformat": 4,
  "nbformat_minor": 0,
  "metadata": {
    "colab": {
      "name": "PandasTry1.ipynb",
      "provenance": [],
      "authorship_tag": "ABX9TyNWBi7KVeXLKcD0Lm1YYR5p",
      "include_colab_link": true
    },
    "kernelspec": {
      "name": "python3",
      "display_name": "Python 3"
    },
    "language_info": {
      "name": "python"
    }
  },
  "cells": [
    {
      "cell_type": "markdown",
      "metadata": {
        "id": "view-in-github",
        "colab_type": "text"
      },
      "source": [
        "<a href=\"https://colab.research.google.com/github/kixtter/AnalisisInteligenteDatos/blob/main/Unidad%201/PandasTry1.ipynb\" target=\"_parent\"><img src=\"https://colab.research.google.com/assets/colab-badge.svg\" alt=\"Open In Colab\"/></a>"
      ]
    },
    {
      "cell_type": "markdown",
      "metadata": {
        "id": "kzpbptudh15q"
      },
      "source": [
        "# Importar datos\n",
        "\n",
        "##Objetivo\n",
        "Leer datos de un archivo csv del conjunto de promedios de alumnos y analizar las observaciones\n",
        "\n",
        "## Descripcion\n",
        "Leer el archivo de promedios.csv y determinar algunas estadisticas\n",
        "Determinar la media y la desviacion estandar de los datos\n",
        "Elaborar un histograma de los datos para identificar frecuencias numericas\n",
        "\n",
        "## Desarrollo\n",
        "Importar los datos, se utiliza la funcion read_csv() de la libreria pandas para importar datos en formato csv"
      ]
    },
    {
      "cell_type": "code",
      "metadata": {
        "id": "QxXQPQL2Zva7"
      },
      "source": [
        "import pandas as pd\n",
        "df = pd.read_csv(\"https://raw.githubusercontent.com/rpizarrog/Analisis-Inteligente-de-datos-prueba/main/datos/promedios.csv\")"
      ],
      "execution_count": 1,
      "outputs": []
    },
    {
      "cell_type": "markdown",
      "metadata": {
        "id": "Ama6I5oHi1lU"
      },
      "source": [
        "# Mostrar datos\n",
        "Se visualizan los datos"
      ]
    },
    {
      "cell_type": "code",
      "metadata": {
        "colab": {
          "base_uri": "https://localhost:8080/"
        },
        "id": "Nc4OEKoQjV3a",
        "outputId": "0106afd4-c2dd-4b1f-8f12-51c9afba1c78"
      },
      "source": [
        "print(df)"
      ],
      "execution_count": 2,
      "outputs": [
        {
          "output_type": "stream",
          "name": "stdout",
          "text": [
            "        no   promedio\n",
            "0        1  91.608914\n",
            "1        2  86.685638\n",
            "2        3  84.062916\n",
            "3        4  80.946240\n",
            "4        5  88.497999\n",
            "...    ...        ...\n",
            "5595  5596  87.749383\n",
            "5596  5597  86.643837\n",
            "5597  5598  88.444287\n",
            "5598  5599  88.198064\n",
            "5599  5600  83.749403\n",
            "\n",
            "[5600 rows x 2 columns]\n"
          ]
        }
      ]
    },
    {
      "cell_type": "markdown",
      "metadata": {
        "id": "VnAUqOcjklFo"
      },
      "source": [
        "# Determinar la media"
      ]
    },
    {
      "cell_type": "code",
      "metadata": {
        "colab": {
          "base_uri": "https://localhost:8080/"
        },
        "id": "ccoATO2gknb6",
        "outputId": "e38d9c60-9e28-48d4-c1f5-ed779b81cbda"
      },
      "source": [
        "import numpy as np\n",
        "media = np.mean(df[\"promedio\"])\n",
        "print(media)\n"
      ],
      "execution_count": 6,
      "outputs": [
        {
          "output_type": "stream",
          "name": "stdout",
          "text": [
            "84.01414678778036\n"
          ]
        }
      ]
    }
  ]
}