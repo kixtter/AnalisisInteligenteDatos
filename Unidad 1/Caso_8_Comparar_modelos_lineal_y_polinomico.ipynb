{
  "nbformat": 4,
  "nbformat_minor": 0,
  "metadata": {
    "colab": {
      "name": "Caso 8 Comparar modelos lineal y polinomico.ipynb",
      "provenance": [],
      "authorship_tag": "ABX9TyNygIp2WEyebAgKE7iW6zrM",
      "include_colab_link": true
    },
    "kernelspec": {
      "name": "python3",
      "display_name": "Python 3"
    },
    "language_info": {
      "name": "python"
    }
  },
  "cells": [
    {
      "cell_type": "markdown",
      "metadata": {
        "id": "view-in-github",
        "colab_type": "text"
      },
      "source": [
        "<a href=\"https://colab.research.google.com/github/kixtter/AnalisisInteligenteDatos/blob/main/Unidad%201/Caso_8_Comparar_modelos_lineal_y_polinomico.ipynb\" target=\"_parent\"><img src=\"https://colab.research.google.com/assets/colab-badge.svg\" alt=\"Open In Colab\"/></a>"
      ]
    },
    {
      "cell_type": "markdown",
      "metadata": {
        "id": "LLjYXxYehzUK"
      },
      "source": [
        "#Caso 8. Comparar modelos lineal y polinómica\n",
        "\n",
        "##Objetivo\n",
        "Construir modelos de regresión lineal simple y polinómica con la finalidad de evaluar la métrica R Square y determinar la utilidad de las predicciones en cada modelo.\n",
        "\n",
        "##Descripción\n",
        "\n",
        "*  Cargar librerías\n",
        "*  Cargar datos\n",
        "*  Identificar variables de interés: variable independiente y la variable dependiente de los datos\n",
        "*  Construir datos de entrenamiento\n",
        "*  Construir datos de validación\n",
        "*  Modelo lineal simple\n",
        "  *  Construir el modelo\n",
        "  *  Evaluar el modelo con R Square o coeficiente de determinación\n",
        "  *  Interpretar el modelo\n",
        "  *  Predicciones\n",
        "*  Modelo polinómico de segunda potencia\n",
        "  *  Construir el modelo polinóminco de segunda potencia\n",
        "  *  Evaluar el modelo con R Square o coeficiente de determinación\n",
        "  *  Interpretar el modelo\n",
        "  *  Predicciones\n",
        "*  Modelo polinómico de quinta potencia\n",
        "  *  Construir un modelo polinómico de quinta potencia\n",
        "  *  Evaluar el modelo con R Square o coeficiente de determinación\n",
        "  *  Interpretar el modelo\n",
        "  *  Predicciones\n",
        "*  Interpretación del caso"
      ]
    },
    {
      "cell_type": "markdown",
      "metadata": {
        "id": "5LdMglUKjoNQ"
      },
      "source": [
        "##Desarrollo\n",
        "\n",
        "###Cargar librerías"
      ]
    },
    {
      "cell_type": "code",
      "metadata": {
        "id": "Rrb6K-OBhOs7"
      },
      "source": [
        "import pandas as pd\n",
        "import numpy as np\n",
        "\n",
        "#Gráficos\n",
        "import matplotlib.pyplot as plt\n",
        "from matplotlib import style\n",
        "import seaborn as sns\n",
        "\n",
        "#Preprocesado y modelado\n",
        "from scipy.stats import pearsonr #Para correlación\n",
        "from sklearn.linear_model import LinearRegression #Para regresión\n",
        "from sklearn.model_selection import train_test_split #Partir datos\n",
        "from sklearn.metrics import r2_score #R Square\n",
        "from sklearn.metrics import mean_squared_error\n",
        "import statsmodels.api as sm\n",
        "import statsmodels.formula.api as smf"
      ],
      "execution_count": 38,
      "outputs": []
    },
    {
      "cell_type": "markdown",
      "metadata": {
        "id": "xOjyKviRGIBu"
      },
      "source": [
        "##Cargar los datos"
      ]
    },
    {
      "cell_type": "code",
      "metadata": {
        "colab": {
          "base_uri": "https://localhost:8080/",
          "height": 424
        },
        "id": "ekvbQuT4GP0z",
        "outputId": "1a92403c-438c-4cea-b710-c9f53ba57b9f"
      },
      "source": [
        "datos = pd.read_csv(\"https://raw.githubusercontent.com/rpizarrog/Analisis-Inteligente-de-datos/main/datos/datos.fifa.csv\", encoding= 'unicode_escape')\n",
        "\n",
        "datos[['Overall', 'Valor']]"
      ],
      "execution_count": 39,
      "outputs": [
        {
          "output_type": "execute_result",
          "data": {
            "text/html": [
              "<div>\n",
              "<style scoped>\n",
              "    .dataframe tbody tr th:only-of-type {\n",
              "        vertical-align: middle;\n",
              "    }\n",
              "\n",
              "    .dataframe tbody tr th {\n",
              "        vertical-align: top;\n",
              "    }\n",
              "\n",
              "    .dataframe thead th {\n",
              "        text-align: right;\n",
              "    }\n",
              "</style>\n",
              "<table border=\"1\" class=\"dataframe\">\n",
              "  <thead>\n",
              "    <tr style=\"text-align: right;\">\n",
              "      <th></th>\n",
              "      <th>Overall</th>\n",
              "      <th>Valor</th>\n",
              "    </tr>\n",
              "  </thead>\n",
              "  <tbody>\n",
              "    <tr>\n",
              "      <th>0</th>\n",
              "      <td>94</td>\n",
              "      <td>110500000</td>\n",
              "    </tr>\n",
              "    <tr>\n",
              "      <th>1</th>\n",
              "      <td>94</td>\n",
              "      <td>77000000</td>\n",
              "    </tr>\n",
              "    <tr>\n",
              "      <th>2</th>\n",
              "      <td>92</td>\n",
              "      <td>118500000</td>\n",
              "    </tr>\n",
              "    <tr>\n",
              "      <th>3</th>\n",
              "      <td>91</td>\n",
              "      <td>72000000</td>\n",
              "    </tr>\n",
              "    <tr>\n",
              "      <th>4</th>\n",
              "      <td>91</td>\n",
              "      <td>102000000</td>\n",
              "    </tr>\n",
              "    <tr>\n",
              "      <th>...</th>\n",
              "      <td>...</td>\n",
              "      <td>...</td>\n",
              "    </tr>\n",
              "    <tr>\n",
              "      <th>17950</th>\n",
              "      <td>47</td>\n",
              "      <td>60000</td>\n",
              "    </tr>\n",
              "    <tr>\n",
              "      <th>17951</th>\n",
              "      <td>47</td>\n",
              "      <td>60000</td>\n",
              "    </tr>\n",
              "    <tr>\n",
              "      <th>17952</th>\n",
              "      <td>47</td>\n",
              "      <td>60000</td>\n",
              "    </tr>\n",
              "    <tr>\n",
              "      <th>17953</th>\n",
              "      <td>47</td>\n",
              "      <td>60000</td>\n",
              "    </tr>\n",
              "    <tr>\n",
              "      <th>17954</th>\n",
              "      <td>46</td>\n",
              "      <td>60000</td>\n",
              "    </tr>\n",
              "  </tbody>\n",
              "</table>\n",
              "<p>17955 rows × 2 columns</p>\n",
              "</div>"
            ],
            "text/plain": [
              "       Overall      Valor\n",
              "0           94  110500000\n",
              "1           94   77000000\n",
              "2           92  118500000\n",
              "3           91   72000000\n",
              "4           91  102000000\n",
              "...        ...        ...\n",
              "17950       47      60000\n",
              "17951       47      60000\n",
              "17952       47      60000\n",
              "17953       47      60000\n",
              "17954       46      60000\n",
              "\n",
              "[17955 rows x 2 columns]"
            ]
          },
          "metadata": {},
          "execution_count": 39
        }
      ]
    },
    {
      "cell_type": "markdown",
      "metadata": {
        "id": "CWk9ybf9Gm8b"
      },
      "source": [
        "Las variables de interés son **Overall** como variable independiente que significa el valor cuantitativo entre 0 y 100 de un jugador de futbol a nivel internacional y la variable **Valor** que es el estimado económico que vale un jugador de fútbol a nivel mundial."
      ]
    },
    {
      "cell_type": "code",
      "metadata": {
        "colab": {
          "base_uri": "https://localhost:8080/",
          "height": 301
        },
        "id": "o6SYbWFHHbbA",
        "outputId": "756a3ed6-cf37-4660-9f5c-34f2b51bacb6"
      },
      "source": [
        "datos[['Overall', 'Valor']].describe()"
      ],
      "execution_count": 40,
      "outputs": [
        {
          "output_type": "execute_result",
          "data": {
            "text/html": [
              "<div>\n",
              "<style scoped>\n",
              "    .dataframe tbody tr th:only-of-type {\n",
              "        vertical-align: middle;\n",
              "    }\n",
              "\n",
              "    .dataframe tbody tr th {\n",
              "        vertical-align: top;\n",
              "    }\n",
              "\n",
              "    .dataframe thead th {\n",
              "        text-align: right;\n",
              "    }\n",
              "</style>\n",
              "<table border=\"1\" class=\"dataframe\">\n",
              "  <thead>\n",
              "    <tr style=\"text-align: right;\">\n",
              "      <th></th>\n",
              "      <th>Overall</th>\n",
              "      <th>Valor</th>\n",
              "    </tr>\n",
              "  </thead>\n",
              "  <tbody>\n",
              "    <tr>\n",
              "      <th>count</th>\n",
              "      <td>17955.000000</td>\n",
              "      <td>1.795500e+04</td>\n",
              "    </tr>\n",
              "    <tr>\n",
              "      <th>mean</th>\n",
              "      <td>66.228237</td>\n",
              "      <td>2.444530e+06</td>\n",
              "    </tr>\n",
              "    <tr>\n",
              "      <th>std</th>\n",
              "      <td>6.921015</td>\n",
              "      <td>5.626715e+06</td>\n",
              "    </tr>\n",
              "    <tr>\n",
              "      <th>min</th>\n",
              "      <td>46.000000</td>\n",
              "      <td>1.000000e+04</td>\n",
              "    </tr>\n",
              "    <tr>\n",
              "      <th>25%</th>\n",
              "      <td>62.000000</td>\n",
              "      <td>3.250000e+05</td>\n",
              "    </tr>\n",
              "    <tr>\n",
              "      <th>50%</th>\n",
              "      <td>66.000000</td>\n",
              "      <td>7.000000e+05</td>\n",
              "    </tr>\n",
              "    <tr>\n",
              "      <th>75%</th>\n",
              "      <td>71.000000</td>\n",
              "      <td>2.100000e+06</td>\n",
              "    </tr>\n",
              "    <tr>\n",
              "      <th>max</th>\n",
              "      <td>94.000000</td>\n",
              "      <td>1.185000e+08</td>\n",
              "    </tr>\n",
              "  </tbody>\n",
              "</table>\n",
              "</div>"
            ],
            "text/plain": [
              "            Overall         Valor\n",
              "count  17955.000000  1.795500e+04\n",
              "mean      66.228237  2.444530e+06\n",
              "std        6.921015  5.626715e+06\n",
              "min       46.000000  1.000000e+04\n",
              "25%       62.000000  3.250000e+05\n",
              "50%       66.000000  7.000000e+05\n",
              "75%       71.000000  2.100000e+06\n",
              "max       94.000000  1.185000e+08"
            ]
          },
          "metadata": {},
          "execution_count": 40
        }
      ]
    },
    {
      "cell_type": "markdown",
      "metadata": {
        "id": "JKgzYRxmHjhy"
      },
      "source": [
        "Con esta descripción básica de los datos podemos ver que el promedio de valoracion de jugadores(Overall) esta en 66.22 lo cual indica que la mayoria esta por encima de la media lo cual da buenas impresiones y con respecto a su promedio de valoración económica esta en los 2.5 millones de dolares lo cual indica que tienen un buen valor para poder ser contratados."
      ]
    },
    {
      "cell_type": "markdown",
      "metadata": {
        "id": "Z-JwU1xVIV6g"
      },
      "source": [
        "##Diagrama de dispersión de los datos\n",
        "\n",
        "Se muestra el diagrama con todo el conjunto de datos"
      ]
    },
    {
      "cell_type": "code",
      "metadata": {
        "colab": {
          "base_uri": "https://localhost:8080/",
          "height": 295
        },
        "id": "Kl21aaoZIgmi",
        "outputId": "2739ec45-a29a-4329-a6bc-e9479dc189dd"
      },
      "source": [
        "Overall = datos['Overall'].values.reshape(-1, 1) #Variable independiente\n",
        "Valor = datos['Valor'].values.reshape(-1, 1)#Variable dependiente\n",
        "plt.scatter(Overall, Valor)"
      ],
      "execution_count": 41,
      "outputs": [
        {
          "output_type": "execute_result",
          "data": {
            "text/plain": [
              "<matplotlib.collections.PathCollection at 0x7fb732a8b7d0>"
            ]
          },
          "metadata": {},
          "execution_count": 41
        },
        {
          "output_type": "display_data",
          "data": {
            "image/png": "[encoded data removed]",
            "text/plain": [
              "<Figure size 432x288 with 1 Axes>"
            ]
          },
          "metadata": {
            "needs_background": "light"
          }
        }
      ]
    },
    {
      "cell_type": "markdown",
      "metadata": {
        "id": "BCrtUnR-JIAu"
      },
      "source": [
        "##Construir datos de entrenamiento\n"
      ]
    },
    {
      "cell_type": "code",
      "metadata": {
        "id": "RXHSpwzkJUHJ"
      },
      "source": [
        "entrena_Overall, valida_Overall, entrena_Valor, valida_Valor = train_test_split(\n",
        "    Overall,\n",
        "    Valor,\n",
        "    train_size = 0.8,\n",
        "    random_state = 2021,\n",
        "    shuffle = True\n",
        ")"
      ],
      "execution_count": 42,
      "outputs": []
    },
    {
      "cell_type": "markdown",
      "metadata": {
        "id": "_6UxUH7jJtU1"
      },
      "source": [
        "###Datos de entrenamiento"
      ]
    },
    {
      "cell_type": "code",
      "metadata": {
        "colab": {
          "base_uri": "https://localhost:8080/",
          "height": 424
        },
        "id": "ZcgWBIAIJvFJ",
        "outputId": "db7670cc-6030-4bed-d604-9716e9cbdf02"
      },
      "source": [
        "entrenamiento = pd.DataFrame(np.concatenate((entrena_Overall, entrena_Valor), axis = 1))\n",
        "entrenamiento.columns = ['Overall', 'Valor']\n",
        "entrenamiento"
      ],
      "execution_count": 43,
      "outputs": [
        {
          "output_type": "execute_result",
          "data": {
            "text/html": [
              "<div>\n",
              "<style scoped>\n",
              "    .dataframe tbody tr th:only-of-type {\n",
              "        vertical-align: middle;\n",
              "    }\n",
              "\n",
              "    .dataframe tbody tr th {\n",
              "        vertical-align: top;\n",
              "    }\n",
              "\n",
              "    .dataframe thead th {\n",
              "        text-align: right;\n",
              "    }\n",
              "</style>\n",
              "<table border=\"1\" class=\"dataframe\">\n",
              "  <thead>\n",
              "    <tr style=\"text-align: right;\">\n",
              "      <th></th>\n",
              "      <th>Overall</th>\n",
              "      <th>Valor</th>\n",
              "    </tr>\n",
              "  </thead>\n",
              "  <tbody>\n",
              "    <tr>\n",
              "      <th>0</th>\n",
              "      <td>49</td>\n",
              "      <td>40000</td>\n",
              "    </tr>\n",
              "    <tr>\n",
              "      <th>1</th>\n",
              "      <td>59</td>\n",
              "      <td>220000</td>\n",
              "    </tr>\n",
              "    <tr>\n",
              "      <th>2</th>\n",
              "      <td>53</td>\n",
              "      <td>90000</td>\n",
              "    </tr>\n",
              "    <tr>\n",
              "      <th>3</th>\n",
              "      <td>69</td>\n",
              "      <td>140000</td>\n",
              "    </tr>\n",
              "    <tr>\n",
              "      <th>4</th>\n",
              "      <td>60</td>\n",
              "      <td>290000</td>\n",
              "    </tr>\n",
              "    <tr>\n",
              "      <th>...</th>\n",
              "      <td>...</td>\n",
              "      <td>...</td>\n",
              "    </tr>\n",
              "    <tr>\n",
              "      <th>14359</th>\n",
              "      <td>60</td>\n",
              "      <td>325000</td>\n",
              "    </tr>\n",
              "    <tr>\n",
              "      <th>14360</th>\n",
              "      <td>57</td>\n",
              "      <td>220000</td>\n",
              "    </tr>\n",
              "    <tr>\n",
              "      <th>14361</th>\n",
              "      <td>73</td>\n",
              "      <td>3700000</td>\n",
              "    </tr>\n",
              "    <tr>\n",
              "      <th>14362</th>\n",
              "      <td>52</td>\n",
              "      <td>110000</td>\n",
              "    </tr>\n",
              "    <tr>\n",
              "      <th>14363</th>\n",
              "      <td>69</td>\n",
              "      <td>1000000</td>\n",
              "    </tr>\n",
              "  </tbody>\n",
              "</table>\n",
              "<p>14364 rows × 2 columns</p>\n",
              "</div>"
            ],
            "text/plain": [
              "       Overall    Valor\n",
              "0           49    40000\n",
              "1           59   220000\n",
              "2           53    90000\n",
              "3           69   140000\n",
              "4           60   290000\n",
              "...        ...      ...\n",
              "14359       60   325000\n",
              "14360       57   220000\n",
              "14361       73  3700000\n",
              "14362       52   110000\n",
              "14363       69  1000000\n",
              "\n",
              "[14364 rows x 2 columns]"
            ]
          },
          "metadata": {},
          "execution_count": 43
        }
      ]
    },
    {
      "cell_type": "markdown",
      "metadata": {
        "id": "r1QP1F5yKOEb"
      },
      "source": [
        "###Validación"
      ]
    },
    {
      "cell_type": "code",
      "metadata": {
        "colab": {
          "base_uri": "https://localhost:8080/",
          "height": 424
        },
        "id": "gBl_fsPlKPi9",
        "outputId": "59bfb487-5d87-4ce4-d630-1af5e8916044"
      },
      "source": [
        "validacion = pd.DataFrame(np.concatenate((valida_Overall, valida_Valor), axis = 1))\n",
        "validacion.columns = ['Overall', 'Valor']\n",
        "validacion"
      ],
      "execution_count": 44,
      "outputs": [
        {
          "output_type": "execute_result",
          "data": {
            "text/html": [
              "<div>\n",
              "<style scoped>\n",
              "    .dataframe tbody tr th:only-of-type {\n",
              "        vertical-align: middle;\n",
              "    }\n",
              "\n",
              "    .dataframe tbody tr th {\n",
              "        vertical-align: top;\n",
              "    }\n",
              "\n",
              "    .dataframe thead th {\n",
              "        text-align: right;\n",
              "    }\n",
              "</style>\n",
              "<table border=\"1\" class=\"dataframe\">\n",
              "  <thead>\n",
              "    <tr style=\"text-align: right;\">\n",
              "      <th></th>\n",
              "      <th>Overall</th>\n",
              "      <th>Valor</th>\n",
              "    </tr>\n",
              "  </thead>\n",
              "  <tbody>\n",
              "    <tr>\n",
              "      <th>0</th>\n",
              "      <td>75</td>\n",
              "      <td>7500000</td>\n",
              "    </tr>\n",
              "    <tr>\n",
              "      <th>1</th>\n",
              "      <td>62</td>\n",
              "      <td>450000</td>\n",
              "    </tr>\n",
              "    <tr>\n",
              "      <th>2</th>\n",
              "      <td>63</td>\n",
              "      <td>400000</td>\n",
              "    </tr>\n",
              "    <tr>\n",
              "      <th>3</th>\n",
              "      <td>74</td>\n",
              "      <td>5000000</td>\n",
              "    </tr>\n",
              "    <tr>\n",
              "      <th>4</th>\n",
              "      <td>66</td>\n",
              "      <td>400000</td>\n",
              "    </tr>\n",
              "    <tr>\n",
              "      <th>...</th>\n",
              "      <td>...</td>\n",
              "      <td>...</td>\n",
              "    </tr>\n",
              "    <tr>\n",
              "      <th>3586</th>\n",
              "      <td>70</td>\n",
              "      <td>1300000</td>\n",
              "    </tr>\n",
              "    <tr>\n",
              "      <th>3587</th>\n",
              "      <td>64</td>\n",
              "      <td>500000</td>\n",
              "    </tr>\n",
              "    <tr>\n",
              "      <th>3588</th>\n",
              "      <td>62</td>\n",
              "      <td>325000</td>\n",
              "    </tr>\n",
              "    <tr>\n",
              "      <th>3589</th>\n",
              "      <td>60</td>\n",
              "      <td>210000</td>\n",
              "    </tr>\n",
              "    <tr>\n",
              "      <th>3590</th>\n",
              "      <td>60</td>\n",
              "      <td>400000</td>\n",
              "    </tr>\n",
              "  </tbody>\n",
              "</table>\n",
              "<p>3591 rows × 2 columns</p>\n",
              "</div>"
            ],
            "text/plain": [
              "      Overall    Valor\n",
              "0          75  7500000\n",
              "1          62   450000\n",
              "2          63   400000\n",
              "3          74  5000000\n",
              "4          66   400000\n",
              "...       ...      ...\n",
              "3586       70  1300000\n",
              "3587       64   500000\n",
              "3588       62   325000\n",
              "3589       60   210000\n",
              "3590       60   400000\n",
              "\n",
              "[3591 rows x 2 columns]"
            ]
          },
          "metadata": {},
          "execution_count": 44
        }
      ]
    },
    {
      "cell_type": "markdown",
      "metadata": {
        "id": "kXx2ik-AKtMF"
      },
      "source": [
        "###Diagrama de dispersión con datos de entrenamiento"
      ]
    },
    {
      "cell_type": "code",
      "metadata": {
        "colab": {
          "base_uri": "https://localhost:8080/",
          "height": 295
        },
        "id": "5uu7brZxKw-p",
        "outputId": "2c25d704-c829-4152-e47f-0cd02f43391f"
      },
      "source": [
        "Overall = entrenamiento['Overall'].values.reshape(-1, 1)\n",
        "Valor = entrenamiento['Valor'].values.reshape(-1, 1)\n",
        "plt.scatter(Overall, Valor)"
      ],
      "execution_count": 45,
      "outputs": [
        {
          "output_type": "execute_result",
          "data": {
            "text/plain": [
              "<matplotlib.collections.PathCollection at 0x7fb7329fd310>"
            ]
          },
          "metadata": {},
          "execution_count": 45
        },
        {
          "output_type": "display_data",
          "data": {
            "image/png": "[encoded data removed]",
            "text/plain": [
              "<Figure size 432x288 with 1 Axes>"
            ]
          },
          "metadata": {
            "needs_background": "light"
          }
        }
      ]
    },
    {
      "cell_type": "markdown",
      "metadata": {
        "id": "w39agjvmLA3V"
      },
      "source": [
        "##Modelo de regresión lineal simple"
      ]
    },
    {
      "cell_type": "markdown",
      "metadata": {
        "id": "M05LgjWrLEPj"
      },
      "source": [
        "###Construyendo el modelo de regresión lineal simple"
      ]
    },
    {
      "cell_type": "code",
      "metadata": {
        "id": "KjV6uGbrLIxm"
      },
      "source": [
        "modelo_lin = LinearRegression()\n",
        "modelo_lin.fit(X = entrena_Overall.reshape(-1, 1), y = entrena_Valor)\n",
        "\n",
        "y_pred = modelo_lin.predict(Overall)"
      ],
      "execution_count": 46,
      "outputs": []
    },
    {
      "cell_type": "markdown",
      "metadata": {
        "id": "Y4hicLhiLcfV"
      },
      "source": [
        "###Evaluando el modelo de regresión lineal simple"
      ]
    },
    {
      "cell_type": "code",
      "metadata": {
        "colab": {
          "base_uri": "https://localhost:8080/"
        },
        "id": "xjNfH8LgLgbU",
        "outputId": "55ec8227-7703-4da4-b947-4163535b7bd4"
      },
      "source": [
        "print('Coeficiente de la intercepción:', modelo_lin.intercept_)\n",
        "print('Coeficiente de la pendiente:', modelo_lin.coef_)\n",
        "print('Coeficiente de determinación R^2 o R Square:', modelo_lin.score(X = entrena_Overall, y = entrena_Valor))"
      ],
      "execution_count": 47,
      "outputs": [
        {
          "output_type": "stream",
          "name": "stdout",
          "text": [
            "Coeficiente de la intercepción: [-31818186.001252]\n",
            "Coeficiente de la pendiente: [[517268.60261868]]\n",
            "Coeficiente de determinación R^2 o R Square: 0.3931398886597335\n"
          ]
        }
      ]
    },
    {
      "cell_type": "markdown",
      "metadata": {
        "id": "kGwRmQAJMFzV"
      },
      "source": [
        "Se construye la recta de regresión con los datos de entrenamiento y el modelo construido a partir de estos datos."
      ]
    },
    {
      "cell_type": "code",
      "metadata": {
        "colab": {
          "base_uri": "https://localhost:8080/",
          "height": 276
        },
        "id": "oVvVOF6FMTNG",
        "outputId": "86027341-1a51-47a7-9c1c-76c727c5fe81"
      },
      "source": [
        "plt.scatter(Overall, Valor)\n",
        "plt.plot(Overall, y_pred, color = 'black')\n",
        "plt.show()"
      ],
      "execution_count": 48,
      "outputs": [
        {
          "output_type": "display_data",
          "data": {
            "image/png": "[encoded data removed]",
            "text/plain": [
              "<Figure size 432x288 with 1 Axes>"
            ]
          },
          "metadata": {
            "needs_background": "light"
          }
        }
      ]
    },
    {
      "cell_type": "markdown",
      "metadata": {
        "id": "msGu5Tb6MraM"
      },
      "source": [
        "##Interpretación del modelo de regresión lineal simple\n",
        "\n",
        "Como podemos ver en la gráfica la relación que hay entre la variable independiente **Overall** y la variable dependiente **Valor** se comporta como una curva y muy poco de manera lineal.\n",
        "\n",
        "Haciendo uso del modelo de regresión lineal presenta un valor de R Square del 39.31% significa que la variable **Overall** representa ese porcentaje sobre la variable **Valor**.\n",
        "\n",
        "Las predicciones que se puedan llevar a cabo estan muy lejos de lo que son los valores reales."
      ]
    },
    {
      "cell_type": "markdown",
      "metadata": {
        "id": "cunBonKHOb5T"
      },
      "source": [
        "###Predicciones de regresión lineal simple\n",
        "\n",
        "Se elige un valor del conjunto de datos de validación para comparar el valor real con el valor de la predicción del modelo de regresión simple.\n",
        "\n",
        "Se elige el registro 10, 500 y 1000 del conjunto de datos de validación."
      ]
    },
    {
      "cell_type": "code",
      "metadata": {
        "colab": {
          "base_uri": "https://localhost:8080/"
        },
        "id": "IaMV2kt_PUzF",
        "outputId": "fceced39-1481-4d07-ee99-194b74f4517b"
      },
      "source": [
        "registro = 10\n",
        "print(validacion.loc[registro])\n",
        "\n",
        "a_predecir = validacion.loc[registro, 'Overall']\n",
        "print(a_predecir)\n",
        "\n",
        "pred_lin = modelo_lin.predict([[a_predecir]])\n",
        "\n",
        "print('La predicción con el modelo de regresión lineal simple haciendo uso del valor',a_predecir, 'da como resultado',float(pred_lin), '\\nEl valor real conforme a los datos de validación es de:', validacion.loc[registro, 'Valor'])"
      ],
      "execution_count": 49,
      "outputs": [
        {
          "output_type": "stream",
          "name": "stdout",
          "text": [
            "Overall        57\n",
            "Valor      160000\n",
            "Name: 10, dtype: int64\n",
            "57\n",
            "La predicción con el modelo de regresión lineal simple haciendo uso del valor 57 da como resultado -2333875.6519870013 \n",
            "El valor real conforme a los datos de validación es de: 160000\n"
          ]
        }
      ]
    },
    {
      "cell_type": "code",
      "metadata": {
        "colab": {
          "base_uri": "https://localhost:8080/"
        },
        "id": "7Owp07sFQx-J",
        "outputId": "da920e73-dedc-4e67-f910-5829433c845e"
      },
      "source": [
        "registro = 500\n",
        "print(validacion.loc[registro])\n",
        "\n",
        "a_predecir = validacion.loc[registro, 'Overall']\n",
        "print(a_predecir)\n",
        "\n",
        "pred_lin = modelo_lin.predict([[a_predecir]])\n",
        "\n",
        "print('La predicción con el modelo de regresión lineal simple haciendo uso del valor',a_predecir, 'da como resultado',float(pred_lin), '\\nEl valor real conforme a los datos de validación es de:', validacion.loc[registro, 'Valor'])"
      ],
      "execution_count": 50,
      "outputs": [
        {
          "output_type": "stream",
          "name": "stdout",
          "text": [
            "Overall          79\n",
            "Valor      11500000\n",
            "Name: 500, dtype: int64\n",
            "79\n",
            "La predicción con el modelo de regresión lineal simple haciendo uso del valor 79 da como resultado 9046033.60562405 \n",
            "El valor real conforme a los datos de validación es de: 11500000\n"
          ]
        }
      ]
    },
    {
      "cell_type": "code",
      "metadata": {
        "colab": {
          "base_uri": "https://localhost:8080/"
        },
        "id": "V-Kh6OspQyNc",
        "outputId": "ff192f34-96ce-472c-8c12-69d4f62174c0"
      },
      "source": [
        "registro = 1000\n",
        "print(validacion.loc[registro])\n",
        "\n",
        "a_predecir = validacion.loc[registro, 'Overall']\n",
        "print(a_predecir)\n",
        "\n",
        "pred_lin = modelo_lin.predict([[a_predecir]])\n",
        "\n",
        "print('La predicción con el modelo de regresión lineal simple haciendo uso del valor',a_predecir, 'da como resultado',float(pred_lin), '\\nEl valor real conforme a los datos de validación es de:', validacion.loc[registro, 'Valor'])"
      ],
      "execution_count": 51,
      "outputs": [
        {
          "output_type": "stream",
          "name": "stdout",
          "text": [
            "Overall        58\n",
            "Valor      230000\n",
            "Name: 1000, dtype: int64\n",
            "58\n",
            "La predicción con el modelo de regresión lineal simple haciendo uso del valor 58 da como resultado -1816607.0493683182 \n",
            "El valor real conforme a los datos de validación es de: 230000\n"
          ]
        }
      ]
    },
    {
      "cell_type": "markdown",
      "metadata": {
        "id": "OX7NFZnYRAkx"
      },
      "source": [
        "##Modelo polinómico de segundo nivel\n",
        "\n",
        "Se crea un modelo polinómico con los mismos datos de entrenamiento y evaluar el R Square así como las predicciones con los datos de validación.\n",
        "\n"
      ]
    },
    {
      "cell_type": "code",
      "metadata": {
        "colab": {
          "base_uri": "https://localhost:8080/"
        },
        "id": "C-f3SRbiRPNe",
        "outputId": "141eb9b8-020f-46cc-fdae-1a0b1f6f6b7c"
      },
      "source": [
        "from sklearn.preprocessing import PolynomialFeatures\n",
        "\n",
        "polyn = PolynomialFeatures(degree = 2)\n",
        "\n",
        "x_poly = polyn.fit_transform(entrena_Overall)\n",
        "\n",
        "print(entrena_Overall)\n",
        "print(x_poly)"
      ],
      "execution_count": 52,
      "outputs": [
        {
          "output_type": "stream",
          "name": "stdout",
          "text": [
            "[[49]\n",
            " [59]\n",
            " [53]\n",
            " ...\n",
            " [73]\n",
            " [52]\n",
            " [69]]\n",
            "[[1.000e+00 4.900e+01 2.401e+03]\n",
            " [1.000e+00 5.900e+01 3.481e+03]\n",
            " [1.000e+00 5.300e+01 2.809e+03]\n",
            " ...\n",
            " [1.000e+00 7.300e+01 5.329e+03]\n",
            " [1.000e+00 5.200e+01 2.704e+03]\n",
            " [1.000e+00 6.900e+01 4.761e+03]]\n"
          ]
        }
      ]
    },
    {
      "cell_type": "markdown",
      "metadata": {
        "id": "MgfVZVqSR0a8"
      },
      "source": [
        "Luego se crea el modelo de regresión polinomial de segundo nivel"
      ]
    },
    {
      "cell_type": "code",
      "metadata": {
        "colab": {
          "base_uri": "https://localhost:8080/",
          "height": 313
        },
        "id": "jCNBqv4mR4ur",
        "outputId": "37c9ed8d-3661-4fc6-b89f-2b2a6579e24e"
      },
      "source": [
        "modelo_pol2 = LinearRegression()\n",
        "modelo_pol2.fit(x_poly, entrena_Valor)\n",
        "\n",
        "y_pred = modelo_pol2.predict(x_poly)\n",
        "# print(y_pred)\n",
        "\n",
        "plt.scatter(entrena_Overall, entrena_Valor)\n",
        "plt.plot(entrena_Overall, y_pred, color = 'black')\n",
        "plt.show()\n",
        "\n",
        "rmse = np.sqrt(mean_squared_error(Valor, y_pred))\n",
        "r2 = r2_score(entrena_Valor, y_pred)\n",
        "print('RMSE:', str(rmse))\n",
        "print('R2:', str(r2))"
      ],
      "execution_count": 55,
      "outputs": [
        {
          "output_type": "display_data",
          "data": {
            "image/png": "[encoded data removed]",
            "text/plain": [
              "<Figure size 432x288 with 1 Axes>"
            ]
          },
          "metadata": {
            "needs_background": "light"
          }
        },
        {
          "output_type": "stream",
          "name": "stdout",
          "text": [
            "RMSE: 2796715.519337346\n",
            "R2: 0.7594680604382035\n"
          ]
        }
      ]
    },
    {
      "cell_type": "markdown",
      "metadata": {
        "id": "DewnsWcdbCDC"
      },
      "source": [
        "##Interpretación del modelo polinómico de segundo nivel\n",
        "\n",
        "El valor de R Square es de 75.94% lo cual representa que este modelo tiene gran presencia dentro de los datos de entrenamiento, de esta forma se tiene la confianza de que la precisión al predecir un valor real es mucho mayor que usando el modelo de regresión lineal simple."
      ]
    },
    {
      "cell_type": "markdown",
      "metadata": {
        "id": "ggIIgydnbo_u"
      },
      "source": [
        "###Predicciones con el modelo de regresión polinomial de segundo nivel"
      ]
    },
    {
      "cell_type": "code",
      "metadata": {
        "colab": {
          "base_uri": "https://localhost:8080/"
        },
        "id": "OYqxZ7oCbv6P",
        "outputId": "99ff087f-0550-45d8-a68c-fa6a4f6f499c"
      },
      "source": [
        "registro = 10\n",
        "print(validacion.loc[registro])\n",
        "\n",
        "a_predecir = validacion.loc[registro, 'Overall']\n",
        "\n",
        "pred2 = modelo_pol2.predict(polyn.fit_transform([[a_predecir]]))\n",
        "print('La predicción con el modelo de regresión polinomial de segundo nivel haciendo uso del valor',a_predecir, 'da como resultado',float(pred2), '\\nEl valor real conforme a los datos de validación es de:', validacion.loc[registro, 'Valor'])"
      ],
      "execution_count": 56,
      "outputs": [
        {
          "output_type": "stream",
          "name": "stdout",
          "text": [
            "Overall        57\n",
            "Valor      160000\n",
            "Name: 10, dtype: int64\n",
            "La predicción con el modelo de regresión polinomial de segundo nivel haciendo uso del valor 57 da como resultado -238130.13155829906 \n",
            "El valor real conforme a los datos de validación es de: 160000\n"
          ]
        }
      ]
    },
    {
      "cell_type": "code",
      "metadata": {
        "colab": {
          "base_uri": "https://localhost:8080/"
        },
        "id": "N0WzUyMwcfFW",
        "outputId": "70c3bc47-5132-423b-c083-04956cb49298"
      },
      "source": [
        "registro = 500\n",
        "print(validacion.loc[registro])\n",
        "\n",
        "a_predecir = validacion.loc[registro, 'Overall']\n",
        "\n",
        "pred2 = modelo_pol2.predict(polyn.fit_transform([[a_predecir]]))\n",
        "print('La predicción con el modelo de regresión polinomial de segundo nivel haciendo uso del valor',a_predecir, 'da como resultado',float(pred2), '\\nEl valor real conforme a los datos de validación es de:', validacion.loc[registro, 'Valor'])"
      ],
      "execution_count": 57,
      "outputs": [
        {
          "output_type": "stream",
          "name": "stdout",
          "text": [
            "Overall          79\n",
            "Valor      11500000\n",
            "Name: 500, dtype: int64\n",
            "La predicción con el modelo de regresión polinomial de segundo nivel haciendo uso del valor 79 da como resultado 14453190.177258044 \n",
            "El valor real conforme a los datos de validación es de: 11500000\n"
          ]
        }
      ]
    },
    {
      "cell_type": "code",
      "metadata": {
        "colab": {
          "base_uri": "https://localhost:8080/"
        },
        "id": "HL7PtHdxcfbb",
        "outputId": "77a7848b-3031-4e10-9484-f1fd98cdec67"
      },
      "source": [
        "registro = 1000\n",
        "print(validacion.loc[registro])\n",
        "\n",
        "a_predecir = validacion.loc[registro, 'Overall']\n",
        "\n",
        "pred2 = modelo_pol2.predict(polyn.fit_transform([[a_predecir]]))\n",
        "print('La predicción con el modelo de regresión polinomial de segundo nivel haciendo uso del valor',a_predecir, 'da como resultado',float(pred2), '\\nEl valor real conforme a los datos de validación es de:', validacion.loc[registro, 'Valor'])"
      ],
      "execution_count": 63,
      "outputs": [
        {
          "output_type": "stream",
          "name": "stdout",
          "text": [
            "Overall        58\n",
            "Valor      230000\n",
            "Name: 1000, dtype: int64\n",
            "La predicción con el modelo de regresión polinomial de segundo nivel haciendo uso del valor 58 da como resultado -614470.1224907041 \n",
            "El valor real conforme a los datos de validación es de: 230000\n"
          ]
        }
      ]
    },
    {
      "cell_type": "markdown",
      "metadata": {
        "id": "AukTSmyadFsi"
      },
      "source": [
        "##Modelo polinómico de quinto nivel"
      ]
    },
    {
      "cell_type": "code",
      "metadata": {
        "id": "jFNXq0RkdLr3"
      },
      "source": [
        "polyn = PolynomialFeatures(degree=5)\n",
        "\n",
        "x_poly = polyn.fit_transform(entrena_Overall)"
      ],
      "execution_count": 65,
      "outputs": []
    },
    {
      "cell_type": "code",
      "metadata": {
        "colab": {
          "base_uri": "https://localhost:8080/",
          "height": 313
        },
        "id": "d-LUMG-TflDd",
        "outputId": "bbead764-0415-4d87-ad52-d34533785ca1"
      },
      "source": [
        "modelo_pol5 = LinearRegression()\n",
        "modelo_pol5.fit(x_poly, entrena_Valor)\n",
        "\n",
        "y_pred = modelo_pol5.predict(x_poly)\n",
        "\n",
        "plt.scatter(entrena_Overall, entrena_Valor)\n",
        "plt.plot(entrena_Overall, y_pred, color='black')\n",
        "plt.show()\n",
        "\n",
        "rmse = np.sqrt(mean_squared_error(entrena_Valor, y_pred))\n",
        "r2 = r2_score(entrena_Valor, y_pred)\n",
        "print('RMSE:', str(rmse))\n",
        "print('R2:', str(r2))"
      ],
      "execution_count": 68,
      "outputs": [
        {
          "output_type": "display_data",
          "data": {
            "image/png": "[encoded data removed]",
            "text/plain": [
              "<Figure size 432x288 with 1 Axes>"
            ]
          },
          "metadata": {
            "needs_background": "light"
          }
        },
        {
          "output_type": "stream",
          "name": "stdout",
          "text": [
            "RMSE: 1791820.4787536587\n",
            "R2: 0.9012663573094013\n"
          ]
        }
      ]
    },
    {
      "cell_type": "markdown",
      "metadata": {
        "id": "1oZappXAgON4"
      },
      "source": [
        "##Interpretación del modelo de regresión polinomial de nivel 5\n",
        "\n",
        "El valor de R Square ahora es del 90.12% lo cual es mucho mayor que los anteriores modelos así de esta forma las predicciones serán mucho más precisas y más acordes a los datos reales, incluso es posible que usando un nivel más alto se pueda conseguir una mejor precisión en la predicción del valor económico de un jugador pero con esto ya tenemos una mayor seguridad para poder llegar aun mejor estimacion."
      ]
    },
    {
      "cell_type": "markdown",
      "metadata": {
        "id": "euyqpzR7hF3h"
      },
      "source": [
        "###Predicciones con el modelo de regresión polinómico de quinto nivel"
      ]
    },
    {
      "cell_type": "code",
      "metadata": {
        "colab": {
          "base_uri": "https://localhost:8080/"
        },
        "id": "5SjtrJgkhVYy",
        "outputId": "99b620d0-9667-4d0c-8c25-1f693219901a"
      },
      "source": [
        "registro = 10\n",
        "print(validacion.loc[registro])\n",
        "\n",
        "a_predecir = validacion.loc[registro, 'Overall']\n",
        "\n",
        "pred5 = modelo_pol5.predict(polyn.fit_transform([[a_predecir]]))\n",
        "print('La predicción con el modelo de regresión polinomial de quinto nivel haciendo uso del valor',a_predecir, 'da como resultado',float(pred5), '\\nEl valor real conforme a los datos de validación es de:', validacion.loc[registro, 'Valor'])"
      ],
      "execution_count": 70,
      "outputs": [
        {
          "output_type": "stream",
          "name": "stdout",
          "text": [
            "Overall        57\n",
            "Valor      160000\n",
            "Name: 10, dtype: int64\n",
            "La predicción con el modelo de regresión polinomial de quinto nivel haciendo uso del valor 57 da como resultado 196483.466246292 \n",
            "El valor real conforme a los datos de validación es de: 160000\n"
          ]
        }
      ]
    },
    {
      "cell_type": "code",
      "metadata": {
        "colab": {
          "base_uri": "https://localhost:8080/"
        },
        "id": "9D_F6IdIhoHe",
        "outputId": "7b866960-fab4-462c-fef3-5d2020234d5b"
      },
      "source": [
        "registro = 500\n",
        "print(validacion.loc[registro])\n",
        "\n",
        "a_predecir = validacion.loc[registro, 'Overall']\n",
        "\n",
        "pred5 = modelo_pol5.predict(polyn.fit_transform([[a_predecir]]))\n",
        "print('La predicción con el modelo de regresión polinomial de quinto nivel haciendo uso del valor',a_predecir, 'da como resultado',float(pred5), '\\nEl valor real conforme a los datos de validación es de:', validacion.loc[registro, 'Valor'])"
      ],
      "execution_count": 71,
      "outputs": [
        {
          "output_type": "stream",
          "name": "stdout",
          "text": [
            "Overall          79\n",
            "Valor      11500000\n",
            "Name: 500, dtype: int64\n",
            "La predicción con el modelo de regresión polinomial de quinto nivel haciendo uso del valor 79 da como resultado 12940891.805972591 \n",
            "El valor real conforme a los datos de validación es de: 11500000\n"
          ]
        }
      ]
    },
    {
      "cell_type": "code",
      "metadata": {
        "colab": {
          "base_uri": "https://localhost:8080/"
        },
        "id": "-8ZCnHrLhoPd",
        "outputId": "e8db4507-40c1-47bd-88ba-d10169b5bad7"
      },
      "source": [
        "registro = 1000\n",
        "print(validacion.loc[registro])\n",
        "\n",
        "a_predecir = validacion.loc[registro, 'Overall']\n",
        "\n",
        "pred5 = modelo_pol5.predict(polyn.fit_transform([[a_predecir]]))\n",
        "print('La predicción con el modelo de regresión polinomial de quinto nivel haciendo uso del valor',a_predecir, 'da como resultado',float(pred5), '\\nEl valor real conforme a los datos de validación es de:', validacion.loc[registro, 'Valor'])"
      ],
      "execution_count": 72,
      "outputs": [
        {
          "output_type": "stream",
          "name": "stdout",
          "text": [
            "Overall        58\n",
            "Valor      230000\n",
            "Name: 1000, dtype: int64\n",
            "La predicción con el modelo de regresión polinomial de quinto nivel haciendo uso del valor 58 da como resultado 220752.49816434085 \n",
            "El valor real conforme a los datos de validación es de: 230000\n"
          ]
        }
      ]
    },
    {
      "cell_type": "markdown",
      "metadata": {
        "id": "hOgwXbSnhvvB"
      },
      "source": [
        "#Interpretación de todo el caso\n",
        "\n",
        "Para poder saber que tipo de modelo hay que aplicar a los datos con los que se cuentan hay que conocer la dispersión de estos, haciendo esto de forma gráfica se puede observar la tendencia de los datos y así poder determinar si haciendo uso del modelo de regresión lineal simple o del modelo de regresión polinomial nos acercará a los valores reales y de esta forma cuando queramos estimar un valor solo va a faltar tener el datos de entrada y de esta forma conoceremos un resultado muy cercano a la realidad.\n",
        "\n",
        "Para poder determinar que modelo es el más adecuado podemos probar hasta que demos con el indicado o con ciertas condiciones poder saber el que mejor de adapta a nuestras necesidades.\n",
        "\n",
        "En esta caso se uso la regresión lineal simple, regresión polinomial de segundo nivel y la regresión polinomial de quinto nivel, se hicieron pruebas con las tres y hasta que llegamos al modelo del quinto nivel pudimos observar valores más cercamos a los reales, este sentido, a los valores de validación, esto nos indica que este ultimo intento es el mas adecuado a lo que buscamos pero siempre puede haber uno mejor."
      ]
    }
  ]
}