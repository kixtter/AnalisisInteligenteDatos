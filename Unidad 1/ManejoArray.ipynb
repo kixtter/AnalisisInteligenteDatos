{
  "nbformat": 4,
  "nbformat_minor": 0,
  "metadata": {
    "colab": {
      "name": "ManejoArray.ipynb",
      "provenance": [],
      "authorship_tag": "ABX9TyPtHWtKorlUbgRC1NhRN/of",
      "include_colab_link": true
    },
    "kernelspec": {
      "name": "python3",
      "display_name": "Python 3"
    },
    "language_info": {
      "name": "python"
    }
  },
  "cells": [
    {
      "cell_type": "markdown",
      "metadata": {
        "id": "view-in-github",
        "colab_type": "text"
      },
      "source": [
        "<a href=\"https://colab.research.google.com/github/kixtter/AnalisisInteligenteDatos/blob/main/Unidad%201/ManejoArray.ipynb\" target=\"_parent\"><img src=\"https://colab.research.google.com/assets/colab-badge.svg\" alt=\"Open In Colab\"/></a>"
      ]
    },
    {
      "cell_type": "code",
      "metadata": {
        "id": "mwyl9C0lv8XP",
        "colab": {
          "base_uri": "https://localhost:8080/"
        },
        "outputId": "c6665aaf-4a9c-41ed-bda9-4ce2b982c0cf"
      },
      "source": [
        "nombres = [\"Juan\", \"Cesar\", \"Alejandra\", \"Daniel\", \"Pancho\"]\n",
        "print(nombres)"
      ],
      "execution_count": 13,
      "outputs": [
        {
          "output_type": "stream",
          "name": "stdout",
          "text": [
            "['Juan', 'Cesar', 'Alejandra', 'Daniel', 'Pancho']\n"
          ]
        }
      ]
    },
    {
      "cell_type": "markdown",
      "metadata": {
        "id": "2MGKMEp2AO0y"
      },
      "source": [
        "Acceder a los valores del array a traves de index"
      ]
    },
    {
      "cell_type": "code",
      "metadata": {
        "colab": {
          "base_uri": "https://localhost:8080/"
        },
        "id": "_z-mVtdCAUL6",
        "outputId": "ad39196f-dab2-401c-c1ee-bf209d6114ec"
      },
      "source": [
        "print(nombres[0])"
      ],
      "execution_count": 14,
      "outputs": [
        {
          "output_type": "stream",
          "name": "stdout",
          "text": [
            "Juan\n"
          ]
        }
      ]
    },
    {
      "cell_type": "markdown",
      "metadata": {
        "id": "xwdadOa_AXq7"
      },
      "source": [
        "Acceder a un determinado rango de valores de un array"
      ]
    },
    {
      "cell_type": "code",
      "metadata": {
        "colab": {
          "base_uri": "https://localhost:8080/"
        },
        "id": "Ul6JK9d3AfU8",
        "outputId": "32ed5604-70fc-4239-f874-ebdad446b674"
      },
      "source": [
        "print(nombres[1:3])"
      ],
      "execution_count": 15,
      "outputs": [
        {
          "output_type": "stream",
          "name": "stdout",
          "text": [
            "['Cesar', 'Alejandra']\n"
          ]
        }
      ]
    },
    {
      "cell_type": "markdown",
      "metadata": {
        "id": "UDhrXKwTBCEy"
      },
      "source": [
        "Conocer la cantidad de elementos que tiene un array\n"
      ]
    },
    {
      "cell_type": "code",
      "metadata": {
        "colab": {
          "base_uri": "https://localhost:8080/"
        },
        "id": "qmtSfpucBjS6",
        "outputId": "0fae52b4-a0ed-41c4-e8fd-7492278b18fc"
      },
      "source": [
        "print(len(nombres))"
      ],
      "execution_count": 19,
      "outputs": [
        {
          "output_type": "stream",
          "name": "stdout",
          "text": [
            "5\n"
          ]
        }
      ]
    },
    {
      "cell_type": "markdown",
      "metadata": {
        "id": "Yq0MP5oY8xJi"
      },
      "source": [
        "Mediante un ciclo recorrer el arreglo nombres"
      ]
    },
    {
      "cell_type": "code",
      "metadata": {
        "colab": {
          "base_uri": "https://localhost:8080/"
        },
        "id": "BlPdfdR8-sTB",
        "outputId": "3de9fda3-e8d1-4c2d-a3cc-4a7f4f052a79"
      },
      "source": [
        "for x in nombres:\n",
        "  print(x)"
      ],
      "execution_count": 16,
      "outputs": [
        {
          "output_type": "stream",
          "name": "stdout",
          "text": [
            "Juan\n",
            "Cesar\n",
            "Alejandra\n",
            "Daniel\n",
            "Pancho\n"
          ]
        }
      ]
    },
    {
      "cell_type": "markdown",
      "metadata": {
        "id": "ivQUS0GS-8WM"
      },
      "source": [
        "Ordenar un arreglo usando sort, esta función solo ordena a los elementos, hay que hacer print por separado"
      ]
    },
    {
      "cell_type": "code",
      "metadata": {
        "colab": {
          "base_uri": "https://localhost:8080/"
        },
        "id": "bD_TcS26_DEN",
        "outputId": "6410293a-352c-49ce-fe7f-b6ea7094b2fa"
      },
      "source": [
        "nombres.sort()\n",
        "print(nombres)"
      ],
      "execution_count": 17,
      "outputs": [
        {
          "output_type": "stream",
          "name": "stdout",
          "text": [
            "['Alejandra', 'Cesar', 'Daniel', 'Juan', 'Pancho']\n"
          ]
        }
      ]
    }
  ]
}