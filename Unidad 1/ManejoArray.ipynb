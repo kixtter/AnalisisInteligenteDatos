{
  "nbformat": 4,
  "nbformat_minor": 0,
  "metadata": {
    "colab": {
      "name": "ManejoArray.ipynb",
      "provenance": [],
      "authorship_tag": "ABX9TyPeJDTPAR72orJ2rnfZoB1E",
      "include_colab_link": true
    },
    "kernelspec": {
      "name": "python3",
      "display_name": "Python 3"
    },
    "language_info": {
      "name": "python"
    }
  },
  "cells": [
    {
      "cell_type": "markdown",
      "metadata": {
        "id": "view-in-github",
        "colab_type": "text"
      },
      "source": [
        "<a href=\"https://colab.research.google.com/github/kixtter/AnalisisInteligenteDatos/blob/main/Unidad%201/ManejoArray.ipynb\" target=\"_parent\"><img src=\"https://colab.research.google.com/assets/colab-badge.svg\" alt=\"Open In Colab\"/></a>"
      ]
    },
    {
      "cell_type": "code",
      "metadata": {
        "id": "mwyl9C0lv8XP",
        "colab": {
          "base_uri": "https://localhost:8080/"
        },
        "outputId": "dd382a67-bb98-4cbb-aa6f-8f28c44896ee"
      },
      "source": [
        "nombres = [\"Juan\", \"Cesar\", \"Alejandra\", \"Daniel\", \"Pancho\"]\n",
        "print(nombres)"
      ],
      "execution_count": 9,
      "outputs": [
        {
          "output_type": "stream",
          "name": "stdout",
          "text": [
            "['Juan', 'Cesar', 'Alejandra', 'Daniel', 'Pancho']\n"
          ]
        }
      ]
    },
    {
      "cell_type": "markdown",
      "metadata": {
        "id": "Yq0MP5oY8xJi"
      },
      "source": [
        "Mediante un ciclo recorrer el arreglo nombres"
      ]
    },
    {
      "cell_type": "code",
      "metadata": {
        "colab": {
          "base_uri": "https://localhost:8080/"
        },
        "id": "BlPdfdR8-sTB",
        "outputId": "81f0d801-cd4f-49f9-f98a-7da51c113721"
      },
      "source": [
        "for x in nombres:\n",
        "  print(x)"
      ],
      "execution_count": 4,
      "outputs": [
        {
          "output_type": "stream",
          "name": "stdout",
          "text": [
            "Juan\n",
            "Cesar\n",
            "Alejandra\n",
            "\n"
          ]
        }
      ]
    },
    {
      "cell_type": "markdown",
      "metadata": {
        "id": "ivQUS0GS-8WM"
      },
      "source": [
        "Ordenar un arreglo usando sort, esta función solo ordena a los elementos, hay que hacer print por separado"
      ]
    },
    {
      "cell_type": "code",
      "metadata": {
        "colab": {
          "base_uri": "https://localhost:8080/"
        },
        "id": "bD_TcS26_DEN",
        "outputId": "07562d77-74d9-4e3c-b9c8-2b9258e488e2"
      },
      "source": [
        "nombres.sort()\n",
        "print(nombres)"
      ],
      "execution_count": 10,
      "outputs": [
        {
          "output_type": "stream",
          "name": "stdout",
          "text": [
            "['Alejandra', 'Cesar', 'Daniel', 'Juan', 'Pancho']\n"
          ]
        }
      ]
    }
  ]
}