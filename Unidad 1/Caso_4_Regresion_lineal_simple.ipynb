{
  "nbformat": 4,
  "nbformat_minor": 0,
  "metadata": {
    "colab": {
      "name": "Caso 4 Regresion lineal simple.ipynb",
      "provenance": [],
      "authorship_tag": "ABX9TyMYsvuvA10OPLatdHwjfZiX",
      "include_colab_link": true
    },
    "kernelspec": {
      "name": "python3",
      "display_name": "Python 3"
    },
    "language_info": {
      "name": "python"
    }
  },
  "cells": [
    {
      "cell_type": "markdown",
      "metadata": {
        "id": "view-in-github",
        "colab_type": "text"
      },
      "source": [
        "<a href=\"https://colab.research.google.com/github/kixtter/AnalisisInteligenteDatos/blob/main/Unidad%201/Caso_4_Regresion_lineal_simple.ipynb\" target=\"_parent\"><img src=\"https://colab.research.google.com/assets/colab-badge.svg\" alt=\"Open In Colab\"/></a>"
      ]
    },
    {
      "cell_type": "markdown",
      "metadata": {
        "id": "1C0e4F7765-t"
      },
      "source": [
        "# Caso 4. Regresión Lineal Simple\n",
        "\n",
        "## Objetivo\n",
        "Realizar una teria de predicción de casos confirmados mediante el algoritmo de machine learning de regresión lineal simple.\n",
        "\n",
        "## Descripción\n",
        "\n",
        "*  Cargar datos de cantidad de habitantes de una población y sus casos confirmados de COVID. Los datos son casos confirmados de 02-02-2020 al 18-09-2021 en formato DD-MM-AAAA(dia-mes-año).\n",
        "*  Archivo csv localizado en: https://raw.githubusercontent.com/rpizarrog/Analisis-Inteligente-de-datos/main/datos/poblacion%20confirmados.csv\n",
        "*  Fuente obtenida de datos del gobiendo de México: https://datos.covid-19.conacyt.mx/#DownZCSV\n",
        "*  Explorar los datos.\n",
        "*  Definir la variable independiente y la variable dependiente.\n",
        "*  Aplicar el modelo de regresión lineal simple.\n",
        "*  Evaluar el modelo, con error cuadrado medio y su significado.\n",
        "*  Hacer estimaciones para una cierta cantidad de población para determinar cuantos casos confirmados sería. Son predicciones.\n",
        "\n",
        "\n",
        "## Fundamento Teórico\n",
        "\n",
        "**Regresión Lineal Simple.**\n",
        "\n",
        "El objetivo de un modelo de regresión es tratar de explicar la relación que existe entre una variable dependiente(variable respuesta) Y un conjunto de variables independientes (variables explicativas) X1,..., Xn.\n",
        "\n",
        "En un modelo de regresión lineal simple tratamos de explicar la relación que existe entre la variable respuesta Y y una única variable explicativa X. \n",
        "\n",
        "Mediante las técnicas de regresión de una variable Y sobre una variable X, buscamos una función que sea una buena aproximación de una nube de puntos(xi, yi).\n",
        "\n",
        "El modelo de regresión lineal simple tiene la siguiente expresión:\n",
        "\n",
        "$ Y = \\alpha + \\beta X + \\epsilon $\n",
        "\n",
        "En donde $\\alpha$ es la ordenada en el origen (el valor que toma Y cuando X vale 0), $\\beta$ es la pendiente de la recta (e indica cómo cambia Y al incrementar X en una unidad) y $\\epsilon$ una variable que incluye un conjunto grande de factores, cada uno de los cuales influye en la respuesta sólo en pequeña magnitud, a la que llamaremos error. X e Y son variables aleatorias, por lo que no se puede establecer una relación lineal exacta entre ellas.\n"
      ]
    },
    {
      "cell_type": "markdown",
      "metadata": {
        "id": "gkkfZdEKKe65"
      },
      "source": [
        "## Desarrollo\n",
        "\n",
        "### Librerias"
      ]
    },
    {
      "cell_type": "code",
      "metadata": {
        "id": "iZjZxgr26nRa"
      },
      "source": [
        "# Datos\n",
        "import numpy as np\n",
        "import pandas as pd\n",
        "import seaborn as sb\n",
        "\n",
        "# Gráficos\n",
        "import matplotlib.pyplot as plt\n",
        "%matplotlib inline\n",
        "from mpl_toolkits.mplot3d import Axes3D\n",
        "from matplotlib import cm\n",
        "plt.rcParams['figure.figsize'] = (16, 9)\n",
        "plt.style.use('ggplot')\n",
        "\n",
        "# Regresiones lineales\n",
        "from sklearn import linear_model\n",
        "from sklearn.metrics import mean_squared_error, r2_score"
      ],
      "execution_count": 51,
      "outputs": []
    },
    {
      "cell_type": "markdown",
      "metadata": {
        "id": "gaFZp_WBLWHA"
      },
      "source": [
        "##Cargar los datos"
      ]
    },
    {
      "cell_type": "code",
      "metadata": {
        "colab": {
          "base_uri": "https://localhost:8080/"
        },
        "id": "gUmKU-ABLYiS",
        "outputId": "4942d0b5-a8f2-47ae-ec93-bdf81d0cbdae"
      },
      "source": [
        "datos = pd.read_csv('https://raw.githubusercontent.com/rpizarrog/Analisis-Inteligente-de-datos/main/datos/poblacion%20confirmados.csv')\n",
        "\n",
        "datos.shape"
      ],
      "execution_count": 52,
      "outputs": [
        {
          "output_type": "execute_result",
          "data": {
            "text/plain": [
              "(32, 4)"
            ]
          },
          "metadata": {},
          "execution_count": 52
        }
      ]
    },
    {
      "cell_type": "code",
      "metadata": {
        "colab": {
          "base_uri": "https://localhost:8080/",
          "height": 300
        },
        "id": "wzs-vNOcLlkY",
        "outputId": "d729bb9b-998f-48dd-962f-c9db82acd66c"
      },
      "source": [
        "# Estadísticas elementales\n",
        "datos[['poblacion', 'confirmados']].describe()"
      ],
      "execution_count": 53,
      "outputs": [
        {
          "output_type": "execute_result",
          "data": {
            "text/html": [
              "<div>\n",
              "<style scoped>\n",
              "    .dataframe tbody tr th:only-of-type {\n",
              "        vertical-align: middle;\n",
              "    }\n",
              "\n",
              "    .dataframe tbody tr th {\n",
              "        vertical-align: top;\n",
              "    }\n",
              "\n",
              "    .dataframe thead th {\n",
              "        text-align: right;\n",
              "    }\n",
              "</style>\n",
              "<table border=\"1\" class=\"dataframe\">\n",
              "  <thead>\n",
              "    <tr style=\"text-align: right;\">\n",
              "      <th></th>\n",
              "      <th>poblacion</th>\n",
              "      <th>confirmados</th>\n",
              "    </tr>\n",
              "  </thead>\n",
              "  <tbody>\n",
              "    <tr>\n",
              "      <th>count</th>\n",
              "      <td>3.200000e+01</td>\n",
              "      <td>32.000000</td>\n",
              "    </tr>\n",
              "    <tr>\n",
              "      <th>mean</th>\n",
              "      <td>3.993509e+06</td>\n",
              "      <td>111552.406250</td>\n",
              "    </tr>\n",
              "    <tr>\n",
              "      <th>std</th>\n",
              "      <td>3.339196e+06</td>\n",
              "      <td>162782.981721</td>\n",
              "    </tr>\n",
              "    <tr>\n",
              "      <th>min</th>\n",
              "      <td>7.851530e+05</td>\n",
              "      <td>21443.000000</td>\n",
              "    </tr>\n",
              "    <tr>\n",
              "      <th>25%</th>\n",
              "      <td>1.832562e+06</td>\n",
              "      <td>46325.000000</td>\n",
              "    </tr>\n",
              "    <tr>\n",
              "      <th>50%</th>\n",
              "      <td>3.121544e+06</td>\n",
              "      <td>69892.500000</td>\n",
              "    </tr>\n",
              "    <tr>\n",
              "      <th>75%</th>\n",
              "      <td>5.021589e+06</td>\n",
              "      <td>107953.250000</td>\n",
              "    </tr>\n",
              "    <tr>\n",
              "      <th>max</th>\n",
              "      <td>1.742779e+07</td>\n",
              "      <td>931135.000000</td>\n",
              "    </tr>\n",
              "  </tbody>\n",
              "</table>\n",
              "</div>"
            ],
            "text/plain": [
              "          poblacion    confirmados\n",
              "count  3.200000e+01      32.000000\n",
              "mean   3.993509e+06  111552.406250\n",
              "std    3.339196e+06  162782.981721\n",
              "min    7.851530e+05   21443.000000\n",
              "25%    1.832562e+06   46325.000000\n",
              "50%    3.121544e+06   69892.500000\n",
              "75%    5.021589e+06  107953.250000\n",
              "max    1.742779e+07  931135.000000"
            ]
          },
          "metadata": {},
          "execution_count": 53
        }
      ]
    },
    {
      "cell_type": "code",
      "metadata": {
        "colab": {
          "base_uri": "https://localhost:8080/",
          "height": 1000
        },
        "id": "fWpEqvdXMBGc",
        "outputId": "c5df7dfc-371f-4361-c6bf-1cbb924aef08"
      },
      "source": [
        "datos"
      ],
      "execution_count": 54,
      "outputs": [
        {
          "output_type": "execute_result",
          "data": {
            "text/html": [
              "<div>\n",
              "<style scoped>\n",
              "    .dataframe tbody tr th:only-of-type {\n",
              "        vertical-align: middle;\n",
              "    }\n",
              "\n",
              "    .dataframe tbody tr th {\n",
              "        vertical-align: top;\n",
              "    }\n",
              "\n",
              "    .dataframe thead th {\n",
              "        text-align: right;\n",
              "    }\n",
              "</style>\n",
              "<table border=\"1\" class=\"dataframe\">\n",
              "  <thead>\n",
              "    <tr style=\"text-align: right;\">\n",
              "      <th></th>\n",
              "      <th>cve_ent</th>\n",
              "      <th>nombre</th>\n",
              "      <th>poblacion</th>\n",
              "      <th>confirmados</th>\n",
              "    </tr>\n",
              "  </thead>\n",
              "  <tbody>\n",
              "    <tr>\n",
              "      <th>0</th>\n",
              "      <td>1</td>\n",
              "      <td>AGUASCALIENTES</td>\n",
              "      <td>1434635</td>\n",
              "      <td>32795</td>\n",
              "    </tr>\n",
              "    <tr>\n",
              "      <th>1</th>\n",
              "      <td>2</td>\n",
              "      <td>BAJA CALIFORNIA</td>\n",
              "      <td>3634868</td>\n",
              "      <td>59049</td>\n",
              "    </tr>\n",
              "    <tr>\n",
              "      <th>2</th>\n",
              "      <td>3</td>\n",
              "      <td>BAJA CALIFORNIA SUR</td>\n",
              "      <td>804708</td>\n",
              "      <td>54730</td>\n",
              "    </tr>\n",
              "    <tr>\n",
              "      <th>3</th>\n",
              "      <td>4</td>\n",
              "      <td>CAMPECHE</td>\n",
              "      <td>1000617</td>\n",
              "      <td>21961</td>\n",
              "    </tr>\n",
              "    <tr>\n",
              "      <th>4</th>\n",
              "      <td>7</td>\n",
              "      <td>CHIAPAS</td>\n",
              "      <td>5730367</td>\n",
              "      <td>21443</td>\n",
              "    </tr>\n",
              "    <tr>\n",
              "      <th>5</th>\n",
              "      <td>8</td>\n",
              "      <td>CHIHUAHUA</td>\n",
              "      <td>3801487</td>\n",
              "      <td>64386</td>\n",
              "    </tr>\n",
              "    <tr>\n",
              "      <th>6</th>\n",
              "      <td>9</td>\n",
              "      <td>DISTRITO FEDERAL</td>\n",
              "      <td>9018645</td>\n",
              "      <td>931135</td>\n",
              "    </tr>\n",
              "    <tr>\n",
              "      <th>7</th>\n",
              "      <td>5</td>\n",
              "      <td>COAHUILA</td>\n",
              "      <td>3218720</td>\n",
              "      <td>86766</td>\n",
              "    </tr>\n",
              "    <tr>\n",
              "      <th>8</th>\n",
              "      <td>6</td>\n",
              "      <td>COLIMA</td>\n",
              "      <td>785153</td>\n",
              "      <td>30069</td>\n",
              "    </tr>\n",
              "    <tr>\n",
              "      <th>9</th>\n",
              "      <td>10</td>\n",
              "      <td>DURANGO</td>\n",
              "      <td>1868996</td>\n",
              "      <td>46394</td>\n",
              "    </tr>\n",
              "    <tr>\n",
              "      <th>10</th>\n",
              "      <td>11</td>\n",
              "      <td>GUANAJUATO</td>\n",
              "      <td>6228175</td>\n",
              "      <td>166331</td>\n",
              "    </tr>\n",
              "    <tr>\n",
              "      <th>11</th>\n",
              "      <td>12</td>\n",
              "      <td>GUERRERO</td>\n",
              "      <td>3657048</td>\n",
              "      <td>73397</td>\n",
              "    </tr>\n",
              "    <tr>\n",
              "      <th>12</th>\n",
              "      <td>13</td>\n",
              "      <td>HIDALGO</td>\n",
              "      <td>3086414</td>\n",
              "      <td>58760</td>\n",
              "    </tr>\n",
              "    <tr>\n",
              "      <th>13</th>\n",
              "      <td>14</td>\n",
              "      <td>JALISCO</td>\n",
              "      <td>8409693</td>\n",
              "      <td>148185</td>\n",
              "    </tr>\n",
              "    <tr>\n",
              "      <th>14</th>\n",
              "      <td>15</td>\n",
              "      <td>MEXICO</td>\n",
              "      <td>17427790</td>\n",
              "      <td>353717</td>\n",
              "    </tr>\n",
              "    <tr>\n",
              "      <th>15</th>\n",
              "      <td>16</td>\n",
              "      <td>MICHOACAN</td>\n",
              "      <td>4825401</td>\n",
              "      <td>69115</td>\n",
              "    </tr>\n",
              "    <tr>\n",
              "      <th>16</th>\n",
              "      <td>17</td>\n",
              "      <td>MORELOS</td>\n",
              "      <td>2044058</td>\n",
              "      <td>46118</td>\n",
              "    </tr>\n",
              "    <tr>\n",
              "      <th>17</th>\n",
              "      <td>18</td>\n",
              "      <td>NAYARIT</td>\n",
              "      <td>1288571</td>\n",
              "      <td>31851</td>\n",
              "    </tr>\n",
              "    <tr>\n",
              "      <th>18</th>\n",
              "      <td>19</td>\n",
              "      <td>NUEVO LEON</td>\n",
              "      <td>5610153</td>\n",
              "      <td>192059</td>\n",
              "    </tr>\n",
              "    <tr>\n",
              "      <th>19</th>\n",
              "      <td>20</td>\n",
              "      <td>OAXACA</td>\n",
              "      <td>4143593</td>\n",
              "      <td>73852</td>\n",
              "    </tr>\n",
              "    <tr>\n",
              "      <th>20</th>\n",
              "      <td>21</td>\n",
              "      <td>PUEBLA</td>\n",
              "      <td>6604451</td>\n",
              "      <td>115456</td>\n",
              "    </tr>\n",
              "    <tr>\n",
              "      <th>21</th>\n",
              "      <td>22</td>\n",
              "      <td>QUERETARO</td>\n",
              "      <td>2279637</td>\n",
              "      <td>90915</td>\n",
              "    </tr>\n",
              "    <tr>\n",
              "      <th>22</th>\n",
              "      <td>23</td>\n",
              "      <td>QUINTANA ROO</td>\n",
              "      <td>1723259</td>\n",
              "      <td>57020</td>\n",
              "    </tr>\n",
              "    <tr>\n",
              "      <th>23</th>\n",
              "      <td>24</td>\n",
              "      <td>SAN LUIS POTOSI</td>\n",
              "      <td>2866142</td>\n",
              "      <td>96746</td>\n",
              "    </tr>\n",
              "    <tr>\n",
              "      <th>24</th>\n",
              "      <td>25</td>\n",
              "      <td>SINALOA</td>\n",
              "      <td>3156674</td>\n",
              "      <td>70670</td>\n",
              "    </tr>\n",
              "    <tr>\n",
              "      <th>25</th>\n",
              "      <td>26</td>\n",
              "      <td>SONORA</td>\n",
              "      <td>3074745</td>\n",
              "      <td>105906</td>\n",
              "    </tr>\n",
              "    <tr>\n",
              "      <th>26</th>\n",
              "      <td>27</td>\n",
              "      <td>TABASCO</td>\n",
              "      <td>2572287</td>\n",
              "      <td>128415</td>\n",
              "    </tr>\n",
              "    <tr>\n",
              "      <th>27</th>\n",
              "      <td>28</td>\n",
              "      <td>TAMAULIPAS</td>\n",
              "      <td>3650602</td>\n",
              "      <td>93751</td>\n",
              "    </tr>\n",
              "    <tr>\n",
              "      <th>28</th>\n",
              "      <td>29</td>\n",
              "      <td>TLAXCALA</td>\n",
              "      <td>1380011</td>\n",
              "      <td>27541</td>\n",
              "    </tr>\n",
              "    <tr>\n",
              "      <th>29</th>\n",
              "      <td>30</td>\n",
              "      <td>VERACRUZ</td>\n",
              "      <td>8539862</td>\n",
              "      <td>114095</td>\n",
              "    </tr>\n",
              "    <tr>\n",
              "      <th>30</th>\n",
              "      <td>31</td>\n",
              "      <td>YUCATAN</td>\n",
              "      <td>2259098</td>\n",
              "      <td>67103</td>\n",
              "    </tr>\n",
              "    <tr>\n",
              "      <th>31</th>\n",
              "      <td>32</td>\n",
              "      <td>ZACATECAS</td>\n",
              "      <td>1666426</td>\n",
              "      <td>39946</td>\n",
              "    </tr>\n",
              "  </tbody>\n",
              "</table>\n",
              "</div>"
            ],
            "text/plain": [
              "    cve_ent               nombre  poblacion  confirmados\n",
              "0         1       AGUASCALIENTES    1434635        32795\n",
              "1         2      BAJA CALIFORNIA    3634868        59049\n",
              "2         3  BAJA CALIFORNIA SUR     804708        54730\n",
              "3         4             CAMPECHE    1000617        21961\n",
              "4         7              CHIAPAS    5730367        21443\n",
              "5         8            CHIHUAHUA    3801487        64386\n",
              "6         9     DISTRITO FEDERAL    9018645       931135\n",
              "7         5             COAHUILA    3218720        86766\n",
              "8         6               COLIMA     785153        30069\n",
              "9        10              DURANGO    1868996        46394\n",
              "10       11           GUANAJUATO    6228175       166331\n",
              "11       12             GUERRERO    3657048        73397\n",
              "12       13              HIDALGO    3086414        58760\n",
              "13       14              JALISCO    8409693       148185\n",
              "14       15               MEXICO   17427790       353717\n",
              "15       16            MICHOACAN    4825401        69115\n",
              "16       17              MORELOS    2044058        46118\n",
              "17       18              NAYARIT    1288571        31851\n",
              "18       19           NUEVO LEON    5610153       192059\n",
              "19       20               OAXACA    4143593        73852\n",
              "20       21               PUEBLA    6604451       115456\n",
              "21       22            QUERETARO    2279637        90915\n",
              "22       23         QUINTANA ROO    1723259        57020\n",
              "23       24      SAN LUIS POTOSI    2866142        96746\n",
              "24       25              SINALOA    3156674        70670\n",
              "25       26               SONORA    3074745       105906\n",
              "26       27              TABASCO    2572287       128415\n",
              "27       28           TAMAULIPAS    3650602        93751\n",
              "28       29             TLAXCALA    1380011        27541\n",
              "29       30             VERACRUZ    8539862       114095\n",
              "30       31              YUCATAN    2259098        67103\n",
              "31       32            ZACATECAS    1666426        39946"
            ]
          },
          "metadata": {},
          "execution_count": 54
        }
      ]
    },
    {
      "cell_type": "markdown",
      "metadata": {
        "id": "pSF-eiv-MFDy"
      },
      "source": [
        "## Visualización de datos\n",
        "\n",
        "#### Histograma\n",
        "Se visualizan los histogramas únicamente de las variables numericas dependiente e independiente"
      ]
    },
    {
      "cell_type": "code",
      "metadata": {
        "colab": {
          "base_uri": "https://localhost:8080/",
          "height": 567
        },
        "id": "xtFx3K-PMX1I",
        "outputId": "def8ac35-f565-4889-8348-3910088d514e"
      },
      "source": [
        "datos[['poblacion', 'confirmados']].hist()\n",
        "plt.show()"
      ],
      "execution_count": 55,
      "outputs": [
        {
          "output_type": "display_data",
          "data": {
            "image/png": "[encoded data removed]",
            "text/plain": [
              "<Figure size 1152x648 with 2 Axes>"
            ]
          },
          "metadata": {}
        }
      ]
    },
    {
      "cell_type": "markdown",
      "metadata": {
        "id": "_3eYodhUUsrQ"
      },
      "source": [
        "Las variables al no contar con un comportamiento gaussiano o parten de una distribución normal, se planea la situación de si valdrá la pena aplicar la regresión lineal simple."
      ]
    },
    {
      "cell_type": "markdown",
      "metadata": {
        "id": "vMnoaxe3VIRi"
      },
      "source": [
        "####Diagrama de dispersión"
      ]
    },
    {
      "cell_type": "code",
      "metadata": {
        "colab": {
          "base_uri": "https://localhost:8080/",
          "height": 568
        },
        "id": "QyFXHw9XVM8L",
        "outputId": "45972186-1a1c-4797-f642-a4abb4e9faa7"
      },
      "source": [
        "plt.scatter(datos['poblacion'], datos['confirmados'], c='red')\n",
        "plt.show"
      ],
      "execution_count": 56,
      "outputs": [
        {
          "output_type": "execute_result",
          "data": {
            "text/plain": [
              "<function matplotlib.pyplot.show>"
            ]
          },
          "metadata": {},
          "execution_count": 56
        },
        {
          "output_type": "display_data",
          "data": {
            "image/png": "[encoded data removed]",
            "text/plain": [
              "<Figure size 1152x648 with 1 Axes>"
            ]
          },
          "metadata": {}
        }
      ]
    },
    {
      "cell_type": "markdown",
      "metadata": {
        "id": "m5Jk-fyMVeg4"
      },
      "source": [
        "## Aplicar modelos de regresión\n",
        "\n",
        "Se utiliza la función linear_model.LinearRegression() para construir la regresión lineal.\n",
        "\n",
        "Se almacena la regresión en una variable llamada regr.\n",
        "\n",
        "Se construye un modelo de entrenamiento con todos los datos"
      ]
    },
    {
      "cell_type": "code",
      "metadata": {
        "colab": {
          "base_uri": "https://localhost:8080/"
        },
        "id": "Qg5irHZfV3q9",
        "outputId": "dc858083-e9bc-48ad-ba6c-ea370969b04f"
      },
      "source": [
        "regr = linear_model.LinearRegression()\n",
        "poblacion = np.array(datos['poblacion'])\n",
        "\n",
        "poblacion"
      ],
      "execution_count": 57,
      "outputs": [
        {
          "output_type": "execute_result",
          "data": {
            "text/plain": [
              "array([ 1434635,  3634868,   804708,  1000617,  5730367,  3801487,\n",
              "        9018645,  3218720,   785153,  1868996,  6228175,  3657048,\n",
              "        3086414,  8409693, 17427790,  4825401,  2044058,  1288571,\n",
              "        5610153,  4143593,  6604451,  2279637,  1723259,  2866142,\n",
              "        3156674,  3074745,  2572287,  3650602,  1380011,  8539862,\n",
              "        2259098,  1666426])"
            ]
          },
          "metadata": {},
          "execution_count": 57
        }
      ]
    },
    {
      "cell_type": "code",
      "metadata": {
        "colab": {
          "base_uri": "https://localhost:8080/"
        },
        "id": "93E84zhKWQSA",
        "outputId": "a28a95ea-557e-4791-c48d-97667d2e720c"
      },
      "source": [
        "confirmados = np.array(datos['confirmados'])\n",
        "confirmados"
      ],
      "execution_count": 58,
      "outputs": [
        {
          "output_type": "execute_result",
          "data": {
            "text/plain": [
              "array([ 32795,  59049,  54730,  21961,  21443,  64386, 931135,  86766,\n",
              "        30069,  46394, 166331,  73397,  58760, 148185, 353717,  69115,\n",
              "        46118,  31851, 192059,  73852, 115456,  90915,  57020,  96746,\n",
              "        70670, 105906, 128415,  93751,  27541, 114095,  67103,  39946])"
            ]
          },
          "metadata": {},
          "execution_count": 58
        }
      ]
    },
    {
      "cell_type": "code",
      "metadata": {
        "colab": {
          "base_uri": "https://localhost:8080/"
        },
        "id": "LEItbwOcWSb5",
        "outputId": "1f971003-08f0-4350-c1a6-2fc9ba208afe"
      },
      "source": [
        "regr.fit(poblacion.reshape(-1, 1), confirmados)"
      ],
      "execution_count": 59,
      "outputs": [
        {
          "output_type": "execute_result",
          "data": {
            "text/plain": [
              "LinearRegression(copy_X=True, fit_intercept=True, n_jobs=None, normalize=False)"
            ]
          },
          "metadata": {},
          "execution_count": 59
        }
      ]
    },
    {
      "cell_type": "markdown",
      "metadata": {
        "id": "kBEyPnm5WblS"
      },
      "source": [
        "## Objeto de predicción\n",
        "Se construye objeto de predicción para construir la recta lineal"
      ]
    },
    {
      "cell_type": "code",
      "metadata": {
        "colab": {
          "base_uri": "https://localhost:8080/"
        },
        "id": "ls3Af-MCWa9o",
        "outputId": "77a26fa7-2e82-49d3-f94a-4393b042a5a2"
      },
      "source": [
        "y_pred = regr.predict(poblacion.reshape(-1, 1))\n",
        "y_pred"
      ],
      "execution_count": 60,
      "outputs": [
        {
          "output_type": "execute_result",
          "data": {
            "text/plain": [
              "array([ 39204.94607726, 101412.49253176,  21394.91726874,  26933.88437739,\n",
              "       160658.87752275, 106123.33869338, 253628.89771621,  89646.67225639,\n",
              "        20842.03556443,  51485.70547207, 174733.4842964 , 102039.59128919,\n",
              "        85905.96314003, 236411.8985036 , 491382.02578499, 135072.62620993,\n",
              "        56435.26194969,  35075.25478305, 157260.04749453, 115795.75742692,\n",
              "       185371.99701288,  63095.82543829,  47365.25950219,  79678.17695892,\n",
              "        87892.43557904,  85576.04359988,  71369.96661784, 101857.34247989,\n",
              "        37660.5528164 , 240092.18787042,  62515.12294149,  45758.41082405])"
            ]
          },
          "metadata": {},
          "execution_count": 60
        }
      ]
    },
    {
      "cell_type": "markdown",
      "metadata": {
        "id": "dGKO4RUVWuyP"
      },
      "source": [
        "##Evaluar el modelo\n",
        "Se muestran los valores de los coeficientes de la ecuación\n",
        "\n",
        "$Y = \\beta 0 + \\beta\\cdot{x_i}$"
      ]
    },
    {
      "cell_type": "code",
      "metadata": {
        "colab": {
          "base_uri": "https://localhost:8080/"
        },
        "id": "Uiaj1YnWXTYi",
        "outputId": "5babf362-67c5-4fd9-ee79-3606ff94aa6f"
      },
      "source": [
        "print(\"Coeficiente: \", regr.coef_)\n",
        "\n",
        "# Este es el valor donde corta el eje Y (en X = 0)\n",
        "print('Termino independiente: %.2f' % regr.intercept_)\n",
        "\n",
        "# Error Cuadrado Medio\n",
        "print('Error Cuadrado Medio: %.2f' % mean_squared_error(confirmados, y_pred))\n",
        "\n",
        "# Puntaje de Varianza. El mejor  puntaje es un 1.0\n",
        "print('Puntaje de Varianza: %.2f' % r2_score(confirmados, y_pred))"
      ],
      "execution_count": 61,
      "outputs": [
        {
          "output_type": "stream",
          "name": "stdout",
          "text": [
            "Coeficiente:  [0.02827316]\n",
            "Termino independiente: -1356.72\n",
            "Error Cuadrado Medio: 17035583585.45\n",
            "Puntaje de Varianza: 0.34\n"
          ]
        }
      ]
    },
    {
      "cell_type": "markdown",
      "metadata": {
        "id": "tGfARMvMdx0F"
      },
      "source": [
        "$\\beta 1$ = -1356.72\n",
        "\n",
        "Y = -1356.72 + 0.02827316 $\\cdot{x_i}$\n",
        "\n",
        "¿Cuántos casos confirmados serían para una población de 500000?\n",
        "\n",
        "12,779.86 = -1356.72 + 0.02827316 * 500000"
      ]
    },
    {
      "cell_type": "markdown",
      "metadata": {
        "id": "QmmGtSereu4J"
      },
      "source": [
        "## Visualizar recta"
      ]
    },
    {
      "cell_type": "code",
      "metadata": {
        "colab": {
          "base_uri": "https://localhost:8080/",
          "height": 550
        },
        "id": "sNAIxQ5fexj_",
        "outputId": "e1142487-abfb-4c44-8dba-5561771f5b64"
      },
      "source": [
        "plt.scatter(datos['poblacion'], datos['confirmados'], c='red')\n",
        "plt.plot(poblacion, y_pred, c='green')\n",
        "plt.show()"
      ],
      "execution_count": 62,
      "outputs": [
        {
          "output_type": "display_data",
          "data": {
            "image/png": "[encoded data removed]",
            "text/plain": [
              "<Figure size 1152x648 with 1 Axes>"
            ]
          },
          "metadata": {}
        }
      ]
    },
    {
      "cell_type": "markdown",
      "metadata": {
        "id": "Zc8VLcCiqspO"
      },
      "source": [
        "##Predecir valores\n",
        "\n",
        "¿Cuál es la predicción de casos confirmados para una población de 500,000?\n",
        "\n",
        "¿Cuál es la predicción de casos confirmados para una población de 1,000,000?\n",
        "\n",
        "¿Cuál es la predicción de casos confirmados para una población de 2,000,000?"
      ]
    },
    {
      "cell_type": "code",
      "metadata": {
        "colab": {
          "base_uri": "https://localhost:8080/"
        },
        "id": "TU4opGY6q-8Y",
        "outputId": "ba4cf852-5f6a-441e-fd0a-2aec4107b640"
      },
      "source": [
        "prediccion = regr.predict([[500000]])\n",
        "print(int(prediccion))"
      ],
      "execution_count": 63,
      "outputs": [
        {
          "output_type": "stream",
          "name": "stdout",
          "text": [
            "12779\n"
          ]
        }
      ]
    },
    {
      "cell_type": "code",
      "metadata": {
        "colab": {
          "base_uri": "https://localhost:8080/"
        },
        "id": "8Q1ah0YErVXp",
        "outputId": "6c374781-8275-4a01-f400-3c9f52b057c5"
      },
      "source": [
        "prediccion = regr.predict([[1000000]])\n",
        "print(int(prediccion))"
      ],
      "execution_count": 64,
      "outputs": [
        {
          "output_type": "stream",
          "name": "stdout",
          "text": [
            "26916\n"
          ]
        }
      ]
    },
    {
      "cell_type": "code",
      "metadata": {
        "colab": {
          "base_uri": "https://localhost:8080/"
        },
        "id": "TYuaHbpFrVrF",
        "outputId": "b5d2d2ab-62c2-473f-c63d-21c69c534c09"
      },
      "source": [
        "prediccion = regr.predict([[2500000]])\n",
        "print(int(prediccion))"
      ],
      "execution_count": 65,
      "outputs": [
        {
          "output_type": "stream",
          "name": "stdout",
          "text": [
            "69326\n"
          ]
        }
      ]
    },
    {
      "cell_type": "code",
      "metadata": {
        "colab": {
          "base_uri": "https://localhost:8080/"
        },
        "id": "ku5DEpbDrWFm",
        "outputId": "61d1747f-cc90-4d86-b651-6064f4f9f009"
      },
      "source": [
        "prediccion = regr.predict([[5000000]])\n",
        "print(int(prediccion))"
      ],
      "execution_count": 66,
      "outputs": [
        {
          "output_type": "stream",
          "name": "stdout",
          "text": [
            "140009\n"
          ]
        }
      ]
    },
    {
      "cell_type": "code",
      "metadata": {
        "colab": {
          "base_uri": "https://localhost:8080/"
        },
        "id": "4Y57actlrX7N",
        "outputId": "a162e6ed-003f-4774-a28d-7323ba08524e"
      },
      "source": [
        "prediccion = regr.predict([[7500000]])\n",
        "print(int(prediccion))"
      ],
      "execution_count": 67,
      "outputs": [
        {
          "output_type": "stream",
          "name": "stdout",
          "text": [
            "210691\n"
          ]
        }
      ]
    },
    {
      "cell_type": "markdown",
      "metadata": {
        "id": "mo-UxEbDrujG"
      },
      "source": [
        "#Interpretación\n",
        "\n",
        "En este caso 4. Regresión lineal simple aplicada a los datos sobre los casos confimados de COVID por estado, en la República Mexicana, existe un promedio de contagidos de 111,552 casos en todo el país lo cual puede representar una pequeña cantidad teniendo en cuenta que México cuenta con 127.6 millones de habitantes, la cantidad real de contagiados ronda el millón lo pues representa el 0.72% de la población.\n",
        "\n",
        "Haciendo uso de la regresión lineal se explica la relación que existe entre la población por estado y la cantidad de casos confirmados, por lo cual se puede observar que tiene la cantidad de casos confimados va de la mano con la cantidad de habitantes por estado, entre más personas existan en una misma ubicación es mayor la posibilidad de contraer el virus.\n",
        "\n",
        "Haciendo uso de predicciones se puede estimar la cantidad de contagiados que pueden haber según la cantidad de habitantes existentes en 'X' ubicación, por ejemplo:\n",
        "*  Para 500,000 habitantes se estima que existan 12,779 casos confirmados.\n",
        "*  Para 1,000,000 habitantes se estima que existan 26916 casos confirmados.\n",
        "*  Para 2,500,000 habitantes se estima que existan 69326 casos confirmados.\n",
        "*  Para 5,000,000 habitantes se estima que existan 140009 casos confirmados.\n",
        "*  Para 7,500,000 habitantes se estima que existan 210691 casos confirmados.\n",
        "\n",
        "Aun viendo estas estimaciones la cantidad de posibles casos de contagios sigue siendo poca pero eso solo seria temporal sí las personas no tuvieran en cuenta su salud y la de sus seres queridos."
      ]
    }
  ]
}