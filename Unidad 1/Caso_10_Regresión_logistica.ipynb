{
  "nbformat": 4,
  "nbformat_minor": 0,
  "metadata": {
    "colab": {
      "name": "Caso 10 Regresión logistica.ipynb",
      "provenance": [],
      "authorship_tag": "ABX9TyPQOkf3fHPROvP1NS/uRM4Y",
      "include_colab_link": true
    },
    "kernelspec": {
      "name": "python3",
      "display_name": "Python 3"
    },
    "language_info": {
      "name": "python"
    }
  },
  "cells": [
    {
      "cell_type": "markdown",
      "metadata": {
        "id": "view-in-github",
        "colab_type": "text"
      },
      "source": [
        "<a href=\"https://colab.research.google.com/github/kixtter/AnalisisInteligenteDatos/blob/main/Unidad%201/Caso_10_Regresi%C3%B3n_logistica.ipynb\" target=\"_parent\"><img src=\"https://colab.research.google.com/assets/colab-badge.svg\" alt=\"Open In Colab\"/></a>"
      ]
    },
    {
      "cell_type": "markdown",
      "metadata": {
        "id": "ng1t0FO_sws8"
      },
      "source": [
        "#Caso 10. Regresión Logística\n",
        "Yander Alexis Avila Medina\n",
        "\n",
        "##Objetivo\n",
        "Construir e interpretar modelos de regresión logística\n",
        "\n",
        "##Descripción\n",
        "Cargar librerías\n",
        "\n",
        "Cargar datos\n",
        "\n",
        "Datos de entrenamiento y validación \n",
        "\n",
        "Crear el modelo\n",
        "\n",
        "Predecir con el modelo\n",
        "\n",
        "Evaluar el modelo conforme a caractterísticas de MATRIZ DE CONFUSION"
      ]
    },
    {
      "cell_type": "markdown",
      "metadata": {
        "id": "t42pLzqMtNXY"
      },
      "source": [
        "##Marco conceptual\n",
        "El set de datos [Spam](https://github.com/JoaquinAmatRodrigo/Estadistica-machine-learning-python/tree/master/data), obtenido de [UCI Repository Of Machine Learning Databases](http://www.ics.uci.edu/~mlearn/MLRepository.html) contiene información sobre 4601 correos electrónicos clasificados como spam y no spam.\n",
        "\n",
        "Para cada correo electrónico se dispone de 58 variables: las 48 primeras contienen la frecuencia con la que aparecen en el texto del email determinadas palabras. Las variables 49-54 indican la frecuencia con la que aparecen los caracteres ;’, ‘(’, ‘[’, ‘!’, ‘$’, ‘#’. Las variables 55-57 contienen la media, a longitud máxima y el número total de letras mayúsculas.\n",
        "\n",
        "Se crear un modelo de regresión logística con el objetivo de clasificar si un correo es spam o no. "
      ]
    },
    {
      "cell_type": "markdown",
      "metadata": {
        "id": "mbI-g9U5uUts"
      },
      "source": [
        "##Librerias"
      ]
    },
    {
      "cell_type": "code",
      "metadata": {
        "id": "Zb8_BjbciHMk"
      },
      "source": [
        "# Tratamiento de datos\n",
        "import pandas as pd\n",
        "import numpy as np\n",
        "\n",
        "# Gráficos\n",
        "import matplotlib.pyplot as plt\n",
        "from matplotlib import style\n",
        "import seaborn as sns\n",
        "\n",
        "# Preprocesado y modelado\n",
        "from sklearn.linear_model import LogisticRegression\n",
        "from sklearn.model_selection import train_test_split\n",
        "from sklearn.metrics import accuracy_score\n",
        "from sklearn.metrics import plot_confusion_matrix\n",
        "import statsmodels.api as sm\n",
        "import statsmodels.formula.api as smf\n",
        "\n",
        "# Configuración matplotlib\n",
        "plt.rcParams['image.cmap'] = \"bwr\"\n",
        "plt.rcParams['savefig.bbox'] = \"tight\"\n",
        "style.use('ggplot') or plt.style.use('ggplot')\n"
      ],
      "execution_count": 4,
      "outputs": []
    },
    {
      "cell_type": "markdown",
      "metadata": {
        "id": "dMLl6RTlugUn"
      },
      "source": [
        "##Datos"
      ]
    },
    {
      "cell_type": "code",
      "metadata": {
        "colab": {
          "base_uri": "https://localhost:8080/"
        },
        "id": "pnwPM0MpvLeh",
        "outputId": "b3b0df4c-3a6f-4cf7-ce2b-354e997af4d8"
      },
      "source": [
        "datos = pd.read_csv('https://raw.githubusercontent.com/JoaquinAmatRodrigo/' \\\n",
        "       + 'Estadistica-machine-learning-python/master/data/spam.csv')\n",
        "datos['type'] = np.where(datos['type'] == 'spam', 1, 0)\n",
        "\n",
        "print('Porcentaje de correo spam y no spam')\n",
        "print(100 * datos['type'].value_counts(normalize = True))"
      ],
      "execution_count": 7,
      "outputs": [
        {
          "output_type": "stream",
          "name": "stdout",
          "text": [
            "Porcentaje de correo spam y no spam\n",
            "0    60.595523\n",
            "1    39.404477\n",
            "Name: type, dtype: float64\n"
          ]
        }
      ]
    },
    {
      "cell_type": "markdown",
      "metadata": {
        "id": "hpuHeQ8ewwLh"
      },
      "source": [
        "Con esto podemos ver como el 60.60% de los correos no son spam y que el 39.40% si lo son."
      ]
    },
    {
      "cell_type": "markdown",
      "metadata": {
        "id": "xmq3V-GEw-kC"
      },
      "source": [
        "##Datos de entrenamiento y validación"
      ]
    },
    {
      "cell_type": "code",
      "metadata": {
        "id": "PguIxXYyxDex"
      },
      "source": [
        "X = datos.drop(columns = 'type')\n",
        "Y = datos['type']\n",
        "\n",
        "X_train, X_test, y_train, y_test = train_test_split(\n",
        "    X,\n",
        "    Y.values.reshape(-1,1),\n",
        "    train_size = 0.8,\n",
        "    random_state = 1234, \n",
        "    shuffle = True)"
      ],
      "execution_count": 13,
      "outputs": []
    },
    {
      "cell_type": "markdown",
      "metadata": {
        "id": "YFPU_HEqyTEm"
      },
      "source": [
        "##Modelo de regresión logística"
      ]
    },
    {
      "cell_type": "code",
      "metadata": {
        "colab": {
          "base_uri": "https://localhost:8080/"
        },
        "id": "JaNFFR0jyXQb",
        "outputId": "c4e0d405-2635-4bde-a07c-b0b2415e69ad"
      },
      "source": [
        "X_train = sm.add_constant(X_train, prepend=True)\n",
        "modelo = sm.Logit(endog = y_train, exog = X_train,)\n",
        "modelo = modelo.fit()\n",
        "\n",
        "print(modelo.summary())"
      ],
      "execution_count": 15,
      "outputs": [
        {
          "output_type": "stream",
          "name": "stdout",
          "text": [
            "Optimization terminated successfully.\n",
            "         Current function value: 0.200751\n",
            "         Iterations 15\n",
            "                           Logit Regression Results                           \n",
            "==============================================================================\n",
            "Dep. Variable:                      y   No. Observations:                 3680\n",
            "Model:                          Logit   Df Residuals:                     3622\n",
            "Method:                           MLE   Df Model:                           57\n",
            "Date:                Sun, 07 Nov 2021   Pseudo R-squ.:                  0.7009\n",
            "Time:                        05:09:04   Log-Likelihood:                -738.76\n",
            "converged:                       True   LL-Null:                       -2469.6\n",
            "Covariance Type:            nonrobust   LLR p-value:                     0.000\n",
            "=====================================================================================\n",
            "                        coef    std err          z      P>|z|      [0.025      0.975]\n",
            "-------------------------------------------------------------------------------------\n",
            "const                -1.5530      0.156     -9.956      0.000      -1.859      -1.247\n",
            "make                 -0.3077      0.255     -1.205      0.228      -0.808       0.193\n",
            "address              -0.1464      0.079     -1.860      0.063      -0.301       0.008\n",
            "all                   0.0882      0.125      0.705      0.481      -0.157       0.333\n",
            "num3d                 2.2531      1.454      1.550      0.121      -0.596       5.103\n",
            "our                   0.7254      0.128      5.682      0.000       0.475       0.976\n",
            "over                  0.7286      0.255      2.859      0.004       0.229       1.228\n",
            "remove                1.9991      0.332      6.022      0.000       1.348       2.650\n",
            "internet              0.5267      0.183      2.884      0.004       0.169       0.885\n",
            "order                 0.6556      0.316      2.076      0.038       0.037       1.274\n",
            "mail                  0.0833      0.075      1.106      0.269      -0.064       0.231\n",
            "receive              -0.1917      0.333     -0.576      0.565      -0.844       0.461\n",
            "will                 -0.1788      0.087     -2.050      0.040      -0.350      -0.008\n",
            "people               -0.1835      0.251     -0.732      0.464      -0.675       0.308\n",
            "report                0.1589      0.156      1.016      0.310      -0.148       0.466\n",
            "addresses             1.0691      0.710      1.507      0.132      -0.322       2.460\n",
            "free                  1.0272      0.163      6.309      0.000       0.708       1.346\n",
            "business              1.0484      0.258      4.059      0.000       0.542       1.555\n",
            "email                 0.0832      0.131      0.634      0.526      -0.174       0.340\n",
            "you                   0.0760      0.040      1.894      0.058      -0.003       0.155\n",
            "credit                1.4274      0.750      1.903      0.057      -0.043       2.897\n",
            "your                  0.2196      0.057      3.826      0.000       0.107       0.332\n",
            "font                  0.2320      0.192      1.208      0.227      -0.144       0.608\n",
            "num000                2.3195      0.540      4.296      0.000       1.261       3.378\n",
            "money                 0.3512      0.146      2.403      0.016       0.065       0.638\n",
            "hp                   -1.8795      0.320     -5.880      0.000      -2.506      -1.253\n",
            "hpl                  -1.1604      0.486     -2.387      0.017      -2.113      -0.207\n",
            "george              -12.9370      2.497     -5.182      0.000     -17.830      -8.044\n",
            "num650                0.4662      0.208      2.243      0.025       0.059       0.874\n",
            "lab                  -3.9850      2.593     -1.537      0.124      -9.067       1.097\n",
            "labs                 -0.1316      0.342     -0.385      0.700      -0.801       0.538\n",
            "telnet                1.0132      0.884      1.146      0.252      -0.720       2.746\n",
            "num857                2.3901      3.536      0.676      0.499      -4.541       9.321\n",
            "data                 -0.7578      0.363     -2.086      0.037      -1.470      -0.046\n",
            "num415                0.8594      1.678      0.512      0.608      -2.429       4.147\n",
            "num85                -1.9348      0.870     -2.225      0.026      -3.639      -0.231\n",
            "technology            0.8951      0.354      2.529      0.011       0.201       1.589\n",
            "num1999               0.0493      0.204      0.241      0.809      -0.351       0.449\n",
            "parts                 1.9359      1.232      1.571      0.116      -0.480       4.351\n",
            "pm                   -0.9294      0.464     -2.001      0.045      -1.840      -0.019\n",
            "direct               -0.3704      0.432     -0.857      0.391      -1.217       0.477\n",
            "cs                  -43.9842     27.447     -1.603      0.109     -97.779       9.811\n",
            "meeting              -3.0673      0.988     -3.104      0.002      -5.004      -1.130\n",
            "original             -0.8759      0.810     -1.082      0.279      -2.463       0.711\n",
            "project              -1.6666      0.583     -2.858      0.004      -2.809      -0.524\n",
            "re                   -0.8289      0.171     -4.856      0.000      -1.163      -0.494\n",
            "edu                  -1.1653      0.268     -4.355      0.000      -1.690      -0.641\n",
            "table                -2.0108      1.691     -1.189      0.234      -5.326       1.304\n",
            "conference           -5.0363      2.136     -2.358      0.018      -9.223      -0.850\n",
            "charSemicolon        -1.2001      0.491     -2.443      0.015      -2.163      -0.237\n",
            "charRoundbracket     -0.2822      0.278     -1.015      0.310      -0.827       0.263\n",
            "charSquarebracket    -0.8608      1.059     -0.813      0.416      -2.937       1.215\n",
            "charExclamation       0.2735      0.072      3.798      0.000       0.132       0.415\n",
            "charDollar            5.7530      0.836      6.880      0.000       4.114       7.392\n",
            "charHash              1.4144      1.287      1.099      0.272      -1.108       3.936\n",
            "capitalAve            0.0389      0.021      1.842      0.066      -0.002       0.080\n",
            "capitalLong           0.0048      0.003      1.799      0.072      -0.000       0.010\n",
            "capitalTotal          0.0014      0.000      5.068      0.000       0.001       0.002\n",
            "=====================================================================================\n",
            "\n",
            "Possibly complete quasi-separation: A fraction 0.28 of observations can be\n",
            "perfectly predicted. This might indicate that there is complete\n",
            "quasi-separation. In this case some parameters will not be identified.\n"
          ]
        }
      ]
    },
    {
      "cell_type": "markdown",
      "metadata": {
        "id": "RBrA4FEQzamU"
      },
      "source": [
        "##Predicciones\n"
      ]
    },
    {
      "cell_type": "code",
      "metadata": {
        "colab": {
          "base_uri": "https://localhost:8080/"
        },
        "id": "0bkQItR5zexF",
        "outputId": "2fb6fe44-9be5-4297-d08e-4bc6d6155804"
      },
      "source": [
        "# Predicciones con intervalo de confianza \n",
        "predicciones = modelo.predict(exog = X_train)\n",
        "\n",
        "# Clasificación predicha\n",
        "clasificacion = np.where(predicciones<0.5, 0, 1)\n",
        "clasificacion"
      ],
      "execution_count": 18,
      "outputs": [
        {
          "output_type": "execute_result",
          "data": {
            "text/plain": [
              "array([0, 0, 0, ..., 1, 1, 0])"
            ]
          },
          "metadata": {},
          "execution_count": 18
        }
      ]
    },
    {
      "cell_type": "markdown",
      "metadata": {
        "id": "6bQd8ayhz7Ci"
      },
      "source": [
        "##Precisión de la prueba"
      ]
    },
    {
      "cell_type": "code",
      "metadata": {
        "colab": {
          "base_uri": "https://localhost:8080/"
        },
        "id": "G_R5Bhwd0Brk",
        "outputId": "ed5b9552-9014-4032-cbc3-bb251145b1ee"
      },
      "source": [
        "# Precisión de test del modelo \n",
        "X_test = sm.add_constant(X_test, prepend=True)\n",
        "predicciones = modelo.predict(exog = X_test)\n",
        "clasificacion = np.where(predicciones<0.5, 0, 1)\n",
        "precision = accuracy_score(\n",
        "            y_true    = y_test,\n",
        "            y_pred    = clasificacion,\n",
        "            normalize = True\n",
        "           )\n",
        "print(\"\")\n",
        "print(f\"La precisión de test es: {100 * precision}%\")"
      ],
      "execution_count": 19,
      "outputs": [
        {
          "output_type": "stream",
          "name": "stdout",
          "text": [
            "\n",
            "La precisión de test es: 92.83387622149837%\n"
          ]
        }
      ]
    },
    {
      "cell_type": "markdown",
      "metadata": {
        "id": "jt4UBWx00SPr"
      },
      "source": [
        "##Matriz de confusión"
      ]
    },
    {
      "cell_type": "code",
      "metadata": {
        "colab": {
          "base_uri": "https://localhost:8080/",
          "height": 143
        },
        "id": "3Et4E1LM0Vdy",
        "outputId": "659b6a90-cff2-4f42-a866-ba6412ae546c"
      },
      "source": [
        "# Matriz de confusión de las predicciones de test\n",
        "confusion_matrix = pd.crosstab(\n",
        "    y_test.ravel(),\n",
        "    clasificacion,\n",
        "    rownames=['Real'],\n",
        "    colnames=['Predicción']\n",
        ")\n",
        "confusion_matrix"
      ],
      "execution_count": 20,
      "outputs": [
        {
          "output_type": "execute_result",
          "data": {
            "text/html": [
              "<div>\n",
              "<style scoped>\n",
              "    .dataframe tbody tr th:only-of-type {\n",
              "        vertical-align: middle;\n",
              "    }\n",
              "\n",
              "    .dataframe tbody tr th {\n",
              "        vertical-align: top;\n",
              "    }\n",
              "\n",
              "    .dataframe thead th {\n",
              "        text-align: right;\n",
              "    }\n",
              "</style>\n",
              "<table border=\"1\" class=\"dataframe\">\n",
              "  <thead>\n",
              "    <tr style=\"text-align: right;\">\n",
              "      <th>Predicción</th>\n",
              "      <th>0</th>\n",
              "      <th>1</th>\n",
              "    </tr>\n",
              "    <tr>\n",
              "      <th>Real</th>\n",
              "      <th></th>\n",
              "      <th></th>\n",
              "    </tr>\n",
              "  </thead>\n",
              "  <tbody>\n",
              "    <tr>\n",
              "      <th>0</th>\n",
              "      <td>535</td>\n",
              "      <td>28</td>\n",
              "    </tr>\n",
              "    <tr>\n",
              "      <th>1</th>\n",
              "      <td>38</td>\n",
              "      <td>320</td>\n",
              "    </tr>\n",
              "  </tbody>\n",
              "</table>\n",
              "</div>"
            ],
            "text/plain": [
              "Predicción    0    1\n",
              "Real                \n",
              "0           535   28\n",
              "1            38  320"
            ]
          },
          "metadata": {},
          "execution_count": 20
        }
      ]
    },
    {
      "cell_type": "markdown",
      "metadata": {
        "id": "MAzjVnnB0vEv"
      },
      "source": [
        "#Conclusiones\n",
        "\n",
        "El modelo de regresión logística en esta caso nos ayudo a poder determinar cuando es un correo normal y cuando es un correo spam lo cual esto nos permite poder ignorar correos que no son de nuestro interes o tener cuidado ya que pueden ser estafas.\n",
        "\n",
        "El porcentaje de certeza fue del 92.8%, un valor bastante alto y con esto nos da la seguridad que se si le damos datos para que realice su tratamiento poder dar con aquellos que si son spam sin problema aunque tambien que solo unos pocos se nos escapen o caigan dentro de los que nosotros podemos considerar como correctos."
      ]
    }
  ]
}