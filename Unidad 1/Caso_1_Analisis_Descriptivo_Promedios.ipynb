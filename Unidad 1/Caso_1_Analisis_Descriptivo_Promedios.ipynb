{
  "nbformat": 4,
  "nbformat_minor": 0,
  "metadata": {
    "colab": {
      "name": "Caso 1 Analisis Descriptivo Promedios.ipynb",
      "provenance": [],
      "authorship_tag": "ABX9TyMgnkR+D1kkNBODkwD4Lvgo",
      "include_colab_link": true
    },
    "kernelspec": {
      "name": "python3",
      "display_name": "Python 3"
    },
    "language_info": {
      "name": "python"
    }
  },
  "cells": [
    {
      "cell_type": "markdown",
      "metadata": {
        "id": "view-in-github",
        "colab_type": "text"
      },
      "source": [
        "<a href=\"https://colab.research.google.com/github/kixtter/AnalisisInteligenteDatos/blob/main/Unidad%201/Caso_1_Analisis_Descriptivo_Promedios.ipynb\" target=\"_parent\"><img src=\"https://colab.research.google.com/assets/colab-badge.svg\" alt=\"Open In Colab\"/></a>"
      ]
    },
    {
      "cell_type": "markdown",
      "metadata": {
        "id": "MmjZW73smjzj"
      },
      "source": [
        "# Análisis descriptivo de promedios de alumnos\n",
        "\n",
        "## Objetivo\n",
        "Realizar un análisis descriptivo del campo promedio del conjunto de datos Alumnos\n",
        "\n",
        "## Desarrollo\n",
        "### Importar los datos\n",
        "Para poder hacer uso del conjunto de datos es necesario importar la libreria Pandas y también tener el .csv/link donde se encuentra la información."
      ]
    },
    {
      "cell_type": "code",
      "metadata": {
        "id": "MWAwH6ZDlVC9"
      },
      "source": [
        "import pandas as pd\n",
        "alumProme = pd.read_csv(\"https://raw.githubusercontent.com/rpizarrog/Analisis-Inteligente-de-datos-prueba/main/datos/promedios.csv\")"
      ],
      "execution_count": 12,
      "outputs": []
    },
    {
      "cell_type": "markdown",
      "metadata": {
        "id": "eIBB6BldoTip"
      },
      "source": [
        "Haciendo uso de pandas y de la función read_csv() podemos almacenar los datos en un DataFrame.\n",
        "\n",
        "### Visualizar los datos\n",
        "Muestra de algunos de los registros con los que cuenta el DataFrame\n"
      ]
    },
    {
      "cell_type": "code",
      "metadata": {
        "colab": {
          "base_uri": "https://localhost:8080/"
        },
        "id": "5YE3IdrFrDWs",
        "outputId": "fa401cc4-05bd-4572-e249-c32560dde289"
      },
      "source": [
        "print(alumProme)"
      ],
      "execution_count": 13,
      "outputs": [
        {
          "output_type": "stream",
          "name": "stdout",
          "text": [
            "        no   promedio\n",
            "0        1  91.608914\n",
            "1        2  86.685638\n",
            "2        3  84.062916\n",
            "3        4  80.946240\n",
            "4        5  88.497999\n",
            "...    ...        ...\n",
            "5595  5596  87.749383\n",
            "5596  5597  86.643837\n",
            "5597  5598  88.444287\n",
            "5598  5599  88.198064\n",
            "5599  5600  83.749403\n",
            "\n",
            "[5600 rows x 2 columns]\n"
          ]
        }
      ]
    },
    {
      "cell_type": "markdown",
      "metadata": {
        "id": "nJai-6nHrGSD"
      },
      "source": [
        "### Promedio de los promedios\n",
        "Se calcula el promedio de los promedios haciendo uso de la libreria numpy en especifico la función mean() nos permite saber el valor que buscamos."
      ]
    },
    {
      "cell_type": "code",
      "metadata": {
        "colab": {
          "base_uri": "https://localhost:8080/"
        },
        "id": "d8nAm1EErT5v",
        "outputId": "d613d5aa-6116-4c3e-e5d0-cfd42c677fc5"
      },
      "source": [
        "import numpy as np\n",
        "\n",
        "round(np.mean(alumProme['promedio']), 2)"
      ],
      "execution_count": 14,
      "outputs": [
        {
          "output_type": "execute_result",
          "data": {
            "text/plain": [
              "84.01"
            ]
          },
          "metadata": {},
          "execution_count": 14
        }
      ]
    },
    {
      "cell_type": "markdown",
      "metadata": {
        "id": "P4-DInKCsoUA"
      },
      "source": [
        "### Desviación estándar\n",
        "Se calcula la desviación estándar de los datos del promedio también haciendo uso de numpy con la función std()"
      ]
    },
    {
      "cell_type": "code",
      "metadata": {
        "colab": {
          "base_uri": "https://localhost:8080/"
        },
        "id": "VD0tHc1JtMKU",
        "outputId": "ca3ea0f9-a308-4207-d6fe-0befb3d14faf"
      },
      "source": [
        "round(np.std(alumProme['promedio']), 2)"
      ],
      "execution_count": 15,
      "outputs": [
        {
          "output_type": "execute_result",
          "data": {
            "text/plain": [
              "4.97"
            ]
          },
          "metadata": {},
          "execution_count": 15
        }
      ]
    },
    {
      "cell_type": "markdown",
      "metadata": {
        "id": "Qsi0xASotuv9"
      },
      "source": [
        "## Obtención una descripción de los datos\n",
        "Haciendo uso de la función describe() podemos obtener una descripción un poco más completa sobre los promedios de los alumnos."
      ]
    },
    {
      "cell_type": "code",
      "metadata": {
        "colab": {
          "base_uri": "https://localhost:8080/"
        },
        "id": "x44mJi0jJcN8",
        "outputId": "14974ea6-f38e-42f9-da33-64084bd0ef3c"
      },
      "source": [
        "alumProme['promedio'].describe()"
      ],
      "execution_count": 16,
      "outputs": [
        {
          "output_type": "execute_result",
          "data": {
            "text/plain": [
              "count    5600.000000\n",
              "mean       84.014145\n",
              "std         4.971360\n",
              "min        67.421455\n",
              "25%        80.790432\n",
              "50%        84.006861\n",
              "75%        87.243679\n",
              "max       100.691558\n",
              "Name: promedio, dtype: float64"
            ]
          },
          "metadata": {},
          "execution_count": 16
        }
      ]
    },
    {
      "cell_type": "markdown",
      "metadata": {
        "id": "EacvoRS7JjM4"
      },
      "source": [
        "# Histograma\n",
        "Representación gráfica de los promedios, es una categorización de los promedios registrados y las veces que aparece cada uno de estos."
      ]
    },
    {
      "cell_type": "code",
      "metadata": {
        "colab": {
          "base_uri": "https://localhost:8080/",
          "height": 295
        },
        "id": "MVMQiP3GJ89u",
        "outputId": "6e18d180-767b-4cbe-b8da-24fd9f5dffc3"
      },
      "source": [
        "import matplotlib.pyplot as plot\n",
        "\n",
        "plot.hist(x=alumProme['promedio'], color='#AA0DAA', rwidth=0.90)\n",
        "plot.title('Histograma de promedios')\n",
        "plot.xlabel('Promedios')\n",
        "plot.ylabel('Cantidad')\n",
        "\n",
        "plot.show()"
      ],
      "execution_count": 19,
      "outputs": [
        {
          "output_type": "display_data",
          "data": {
            "image/png": "[encoded data removed]",
            "text/plain": [
              "<Figure size 432x288 with 1 Axes>"
            ]
          },
          "metadata": {
            "needs_background": "light"
          }
        }
      ]
    },
    {
      "cell_type": "markdown",
      "metadata": {
        "id": "fgCUN4_aLEvy"
      },
      "source": [
        "# Interpretación\n",
        "\n",
        "En este caso de análisis se hace uso de datos de alumnos, hablando especificamente sobre sus calificaciones promedio, se trata de un conjunto de 5600 datos a los cuales se les ha aplicado funciones estadisticas para poder obtener información que nos permita descubrir alguna caracteristica sobre estos algunos.\n",
        "\n",
        "De los resultados obtenidos se detona que el promedio de los promedios de los alumnos es de 84.01 lo cual puede considerarse como un rendimiento normal por parte de los estudiantes, la desviación estándar tiene como resultado 4.97, lo cual significa que es fácil poder hacer una agrupación de los datos y de forma concreta indicar los grupos en los que se dividen los registros.\n",
        "\n",
        "El histrograma nos muestra como la mitad de los registros se encuentra en una ubicación central alrededor del 80 y el 87 de promedio, con esto podemos decir que los alumnos estan al corriente con sus materia y tratan de cumplir tanto como les sea posible con su obligación escolar al igual podemos observar que un cuarto de los datos tiene un buen rendimiento pero otro cuarto no tiene buenos resultados, con esto podemos decir que las estrategias de enseñanza que se han usado son adecuadas pero no lo suficientes para que se vea un buen resultado general.\n",
        "\n",
        "Este caso nos permite iniciar con el análisis de datos haciendo uso de herramientas basicas para obtener conocimiento de un conjunto de datos\n",
        "lo cual es algo cotidiano en nuestra vida."
      ]
    }
  ]
}