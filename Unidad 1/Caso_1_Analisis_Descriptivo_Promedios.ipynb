{
  "nbformat": 4,
  "nbformat_minor": 0,
  "metadata": {
    "colab": {
      "name": "Caso 1 Analisis Descriptivo Promedios.ipynb",
      "provenance": [],
      "authorship_tag": "ABX9TyMXUxgD+AJYDVwpmRmvzbOU",
      "include_colab_link": true
    },
    "kernelspec": {
      "name": "python3",
      "display_name": "Python 3"
    },
    "language_info": {
      "name": "python"
    }
  },
  "cells": [
    {
      "cell_type": "markdown",
      "metadata": {
        "id": "view-in-github",
        "colab_type": "text"
      },
      "source": [
        "<a href=\"https://colab.research.google.com/github/kixtter/AnalisisInteligenteDatos/blob/main/Unidad%201/Caso_1_Analisis_Descriptivo_Promedios.ipynb\" target=\"_parent\"><img src=\"https://colab.research.google.com/assets/colab-badge.svg\" alt=\"Open In Colab\"/></a>"
      ]
    },
    {
      "cell_type": "markdown",
      "metadata": {
        "id": "MmjZW73smjzj"
      },
      "source": [
        "# Análisis descriptivo de promedios de alumnos\n",
        "\n",
        "## Objetivo\n",
        "Realizar un análisis descriptivo del campo promedio del conjunto de datos Alumnos\n",
        "\n",
        "## Desarrollo\n",
        "### Importar los datos\n",
        "Para poder hacer uso del conjunto de datos es necesario importar la libreria Pandas y también tener el .csv/link donde se encuentra la información."
      ]
    },
    {
      "cell_type": "code",
      "metadata": {
        "id": "MWAwH6ZDlVC9"
      },
      "source": [
        "import pandas as pd\n",
        "alumProme = pd.read_csv(\"https://raw.githubusercontent.com/rpizarrog/Analisis-Inteligente-de-datos-prueba/main/datos/promedios.csv\")"
      ],
      "execution_count": 5,
      "outputs": []
    },
    {
      "cell_type": "markdown",
      "metadata": {
        "id": "eIBB6BldoTip"
      },
      "source": [
        "Haciendo uso de pandas y de la función read_csv() podemos almacenar los datos en un DataFrame.\n",
        "\n",
        "### Visualizar los datos\n",
        "Muestra de algunos de los registros con los que cuenta el DataFrame\n"
      ]
    },
    {
      "cell_type": "code",
      "metadata": {
        "colab": {
          "base_uri": "https://localhost:8080/"
        },
        "id": "5YE3IdrFrDWs",
        "outputId": "371ab0be-a143-4f78-ae9d-4b135fec5b31"
      },
      "source": [
        "print(alumProme)"
      ],
      "execution_count": 3,
      "outputs": [
        {
          "output_type": "stream",
          "name": "stdout",
          "text": [
            "        no   promedio\n",
            "0        1  91.608914\n",
            "1        2  86.685638\n",
            "2        3  84.062916\n",
            "3        4  80.946240\n",
            "4        5  88.497999\n",
            "...    ...        ...\n",
            "5595  5596  87.749383\n",
            "5596  5597  86.643837\n",
            "5597  5598  88.444287\n",
            "5598  5599  88.198064\n",
            "5599  5600  83.749403\n",
            "\n",
            "[5600 rows x 2 columns]\n"
          ]
        }
      ]
    },
    {
      "cell_type": "markdown",
      "metadata": {
        "id": "nJai-6nHrGSD"
      },
      "source": [
        "### Promedio de los promedios\n",
        "Se calcula el promedio de los promedios haciendo uso de la libreria numpy en especifico la función mean() nos permite saber el valor que buscamos."
      ]
    },
    {
      "cell_type": "code",
      "metadata": {
        "colab": {
          "base_uri": "https://localhost:8080/"
        },
        "id": "d8nAm1EErT5v",
        "outputId": "dc7f99e6-69a5-46a6-fea4-14c8cd08f8e0"
      },
      "source": [
        "import numpy as np\n",
        "\n",
        "round(np.mean(alumProme['promedio']), 2)"
      ],
      "execution_count": 13,
      "outputs": [
        {
          "output_type": "execute_result",
          "data": {
            "text/plain": [
              "84.01"
            ]
          },
          "metadata": {},
          "execution_count": 13
        }
      ]
    },
    {
      "cell_type": "markdown",
      "metadata": {
        "id": "P4-DInKCsoUA"
      },
      "source": [
        "### Desviación estándar\n",
        "Se calcula la desviación estándar de los datos del promedio también haciendo uso de numpy con la función std()"
      ]
    },
    {
      "cell_type": "code",
      "metadata": {
        "colab": {
          "base_uri": "https://localhost:8080/"
        },
        "id": "VD0tHc1JtMKU",
        "outputId": "680227f6-fdc5-4355-8675-cd8bc69c4b27"
      },
      "source": [
        "round(np.std(alumProme['promedio']), 2)"
      ],
      "execution_count": 14,
      "outputs": [
        {
          "output_type": "execute_result",
          "data": {
            "text/plain": [
              "4.97"
            ]
          },
          "metadata": {},
          "execution_count": 14
        }
      ]
    },
    {
      "cell_type": "markdown",
      "metadata": {
        "id": "Qsi0xASotuv9"
      },
      "source": [
        ""
      ]
    }
  ]
}