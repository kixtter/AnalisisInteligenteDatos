{
  "nbformat": 4,
  "nbformat_minor": 0,
  "metadata": {
    "colab": {
      "name": "Caso 9 Regresion lineal multiple.ipynb",
      "provenance": [],
      "authorship_tag": "ABX9TyO6n1K91qvHsLby2qDf2mGZ",
      "include_colab_link": true
    },
    "kernelspec": {
      "name": "python3",
      "display_name": "Python 3"
    },
    "language_info": {
      "name": "python"
    }
  },
  "cells": [
    {
      "cell_type": "markdown",
      "metadata": {
        "id": "view-in-github",
        "colab_type": "text"
      },
      "source": [
        "<a href=\"https://colab.research.google.com/github/kixtter/AnalisisInteligenteDatos/blob/main/Unidad%201/Caso_9_Regresion_lineal_multiple.ipynb\" target=\"_parent\"><img src=\"https://colab.research.google.com/assets/colab-badge.svg\" alt=\"Open In Colab\"/></a>"
      ]
    },
    {
      "cell_type": "markdown",
      "metadata": {
        "id": "QYXTQPOWnuH5"
      },
      "source": [
        "#Caso 9. Regresión lineal multipla\n",
        "\n",
        "Yander Alexis Avila Medina\n",
        "\n",
        "##Objetivo\n",
        "Construir e interpretar modelos de regresión lineal multiple.\n",
        "\n",
        "##Descripción\n",
        "Se cargan librerías necesarias.\n",
        "\n",
        "Se cargan los datos.\n",
        "\n",
        "Se fragmentan los datos en datos de \n",
        "entrenamiento y validación.\n",
        "\n",
        "Se construye el modelo de regresión lineal multiple.\n",
        "\n",
        "Se interpretan los datos estadísticos del modelo R Square Adjusted y los coeficientes de la ecuación.\n",
        "\n",
        "$$\n",
        "y = a + \\beta_0 \\cdot{x_1} + \\beta_1\\cdot{x_2} + \\beta_2\\cdot{x_3} + ... + \\beta_k \\cdot {x_k} + \\epsilon\n",
        "$$ \n",
        "\n",
        "\n",
        "##Marco conceptual\n",
        "\n",
        "En la mayoría de los problemas de investifación en los que se aplica el análisis de regresión se necesita más de una variable independiente para el modelo de regresión.\n",
        "\n",
        "La complejidad de la mayoría de mecanismos científicos es tal que, con el fin de predecir una respuesta importante, se requiere un modelo de regresión múltiple. Cuando un modelo es lineal en los coeficientes se denomica modelo de regresión lineal múltiple.\n",
        "\n",
        "Para el caso de k variables independientes, el modelo que da x1, x2,..., xk y como la variabla dependiente x1, x2,..., xk son las variables que afectan a la varialbe dependiente en el modelo de regresión lineal múltiple.\n",
        "\n",
        "Muchos problemas de investigación y de la industria, requieren la estimación de la relaciones existentes entre el patrón de variabilidad de una variable aleatoria y los valores de una o más variables aleatorias.\n",
        "\n",
        "Al generar un modelo de regresión lineal múltiple es importante identificar los estadísticos de R2 R Square, que se denomina coeficiente de determinación y es una medida de la proporción de la variabilidad explicada por el modelo ajustado.\n",
        "\n",
        "De igual forma, el valos de R2 ajustado o coeficiente de determinación ajustado, es una variación de R2 que proporciona un ajuste para los grados de libertad. R Square ajustado esta diseñado para proporcionar un estadístico que castigue un modelo sobreajustado, de manera que se puede esperar que favorezca al modelo.\n",
        "\n",
        "Una variable Y puede predecirse conforme y de acuerdo con:\n",
        "\n",
        "$$\n",
        "y = a + \\beta_0 \\cdot{x_1} + \\beta_1\\cdot{x_2} + \\beta_2\\cdot{x_3} + ... + \\beta_k \\cdot {x_k} + \\epsilon\n",
        "$$ \n",
        "\n",
        "##Descripción de los datos\n",
        "\n",
        "El dataset corresponde a las variantes rojas del vino portugués \"Vinho Verde\". Debido a cuestiones de privacidad y logística, sólo se dispone de variables físico-químicas (los insumos) y sensoriales (el producto) (por ejemplo, no hay datos sobre los tipos de uva, la marca del vino, el precio de venta del vino, etc.).\n",
        "\n",
        "Tendremos en cuenta varios atributos de entrada como acidez fija, acidez volátil, ácido cítrico, azúcar residual, cloruros, dióxido de azufre libre, dióxido de azufre total, densidad, pH, sulfatos, alcohol. Basándonos en estos atributos predeciremos la calidad del vino."
      ]
    },
    {
      "cell_type": "markdown",
      "metadata": {
        "id": "BNkpjk54r62X"
      },
      "source": [
        "##Desarrollo\n",
        "\n",
        "##Carga de librerias"
      ]
    },
    {
      "cell_type": "code",
      "metadata": {
        "id": "TshR0jWYkP6c"
      },
      "source": [
        "import pandas as pd\n",
        "import numpy as np\n",
        "\n",
        "#Gráficos\n",
        "import matplotlib.pyplot as plt\n",
        "from matplotlib import style\n",
        "import seaborn as sns\n",
        "plt.style.use('ggplot')\n",
        "\n",
        "#Preprocesado y análisis\n",
        "import statsmodels.api as sm\n",
        "from scipy import stats\n",
        "from scipy.stats import pearsonr\n",
        "\n",
        "from sklearn.model_selection import train_test_split\n",
        "from sklearn.linear_model import LinearRegression\n",
        "from sklearn import linear_model\n",
        "from sklearn import metrics\n",
        "%matplotlib inline"
      ],
      "execution_count": 79,
      "outputs": []
    },
    {
      "cell_type": "markdown",
      "metadata": {
        "id": "c9000qPTs3o0"
      },
      "source": [
        "##Carga de datos"
      ]
    },
    {
      "cell_type": "code",
      "metadata": {
        "colab": {
          "base_uri": "https://localhost:8080/",
          "height": 224
        },
        "id": "t-S1qdIFtipW",
        "outputId": "47ec69cb-20ba-4342-dbd7-b22197f93875"
      },
      "source": [
        "datosVino = pd.read_csv('https://raw.githubusercontent.com/kixtter/AnalisisInteligenteDatos/main/Datos/winequality-red.csv')\n",
        "datosVino.head()"
      ],
      "execution_count": 80,
      "outputs": [
        {
          "output_type": "execute_result",
          "data": {
            "text/html": [
              "<div>\n",
              "<style scoped>\n",
              "    .dataframe tbody tr th:only-of-type {\n",
              "        vertical-align: middle;\n",
              "    }\n",
              "\n",
              "    .dataframe tbody tr th {\n",
              "        vertical-align: top;\n",
              "    }\n",
              "\n",
              "    .dataframe thead th {\n",
              "        text-align: right;\n",
              "    }\n",
              "</style>\n",
              "<table border=\"1\" class=\"dataframe\">\n",
              "  <thead>\n",
              "    <tr style=\"text-align: right;\">\n",
              "      <th></th>\n",
              "      <th>fixed acidity</th>\n",
              "      <th>volatile acidity</th>\n",
              "      <th>citric acid</th>\n",
              "      <th>residual sugar</th>\n",
              "      <th>chlorides</th>\n",
              "      <th>free sulfur dioxide</th>\n",
              "      <th>total sulfur dioxide</th>\n",
              "      <th>density</th>\n",
              "      <th>pH</th>\n",
              "      <th>sulphates</th>\n",
              "      <th>alcohol</th>\n",
              "      <th>quality</th>\n",
              "    </tr>\n",
              "  </thead>\n",
              "  <tbody>\n",
              "    <tr>\n",
              "      <th>0</th>\n",
              "      <td>7.4</td>\n",
              "      <td>0.70</td>\n",
              "      <td>0.00</td>\n",
              "      <td>1.9</td>\n",
              "      <td>0.076</td>\n",
              "      <td>11.0</td>\n",
              "      <td>34.0</td>\n",
              "      <td>0.9978</td>\n",
              "      <td>3.51</td>\n",
              "      <td>0.56</td>\n",
              "      <td>9.4</td>\n",
              "      <td>5</td>\n",
              "    </tr>\n",
              "    <tr>\n",
              "      <th>1</th>\n",
              "      <td>7.8</td>\n",
              "      <td>0.88</td>\n",
              "      <td>0.00</td>\n",
              "      <td>2.6</td>\n",
              "      <td>0.098</td>\n",
              "      <td>25.0</td>\n",
              "      <td>67.0</td>\n",
              "      <td>0.9968</td>\n",
              "      <td>3.20</td>\n",
              "      <td>0.68</td>\n",
              "      <td>9.8</td>\n",
              "      <td>5</td>\n",
              "    </tr>\n",
              "    <tr>\n",
              "      <th>2</th>\n",
              "      <td>7.8</td>\n",
              "      <td>0.76</td>\n",
              "      <td>0.04</td>\n",
              "      <td>2.3</td>\n",
              "      <td>0.092</td>\n",
              "      <td>15.0</td>\n",
              "      <td>54.0</td>\n",
              "      <td>0.9970</td>\n",
              "      <td>3.26</td>\n",
              "      <td>0.65</td>\n",
              "      <td>9.8</td>\n",
              "      <td>5</td>\n",
              "    </tr>\n",
              "    <tr>\n",
              "      <th>3</th>\n",
              "      <td>11.2</td>\n",
              "      <td>0.28</td>\n",
              "      <td>0.56</td>\n",
              "      <td>1.9</td>\n",
              "      <td>0.075</td>\n",
              "      <td>17.0</td>\n",
              "      <td>60.0</td>\n",
              "      <td>0.9980</td>\n",
              "      <td>3.16</td>\n",
              "      <td>0.58</td>\n",
              "      <td>9.8</td>\n",
              "      <td>6</td>\n",
              "    </tr>\n",
              "    <tr>\n",
              "      <th>4</th>\n",
              "      <td>7.4</td>\n",
              "      <td>0.70</td>\n",
              "      <td>0.00</td>\n",
              "      <td>1.9</td>\n",
              "      <td>0.076</td>\n",
              "      <td>11.0</td>\n",
              "      <td>34.0</td>\n",
              "      <td>0.9978</td>\n",
              "      <td>3.51</td>\n",
              "      <td>0.56</td>\n",
              "      <td>9.4</td>\n",
              "      <td>5</td>\n",
              "    </tr>\n",
              "  </tbody>\n",
              "</table>\n",
              "</div>"
            ],
            "text/plain": [
              "   fixed acidity  volatile acidity  citric acid  ...  sulphates  alcohol  quality\n",
              "0            7.4              0.70         0.00  ...       0.56      9.4        5\n",
              "1            7.8              0.88         0.00  ...       0.68      9.8        5\n",
              "2            7.8              0.76         0.04  ...       0.65      9.8        5\n",
              "3           11.2              0.28         0.56  ...       0.58      9.8        6\n",
              "4            7.4              0.70         0.00  ...       0.56      9.4        5\n",
              "\n",
              "[5 rows x 12 columns]"
            ]
          },
          "metadata": {},
          "execution_count": 80
        }
      ]
    },
    {
      "cell_type": "code",
      "metadata": {
        "colab": {
          "base_uri": "https://localhost:8080/"
        },
        "id": "WCcE3H0iuOCv",
        "outputId": "4d76dfc7-510d-47db-d095-b4c0e6846ece"
      },
      "source": [
        "datosVino.shape"
      ],
      "execution_count": 81,
      "outputs": [
        {
          "output_type": "execute_result",
          "data": {
            "text/plain": [
              "(1599, 12)"
            ]
          },
          "metadata": {},
          "execution_count": 81
        }
      ]
    },
    {
      "cell_type": "code",
      "metadata": {
        "colab": {
          "base_uri": "https://localhost:8080/",
          "height": 335
        },
        "id": "qYrHehYzvJCh",
        "outputId": "b93916ec-72ff-4a39-cbcf-62d11bd0d9aa"
      },
      "source": [
        "datosVino.describe()"
      ],
      "execution_count": 82,
      "outputs": [
        {
          "output_type": "execute_result",
          "data": {
            "text/html": [
              "<div>\n",
              "<style scoped>\n",
              "    .dataframe tbody tr th:only-of-type {\n",
              "        vertical-align: middle;\n",
              "    }\n",
              "\n",
              "    .dataframe tbody tr th {\n",
              "        vertical-align: top;\n",
              "    }\n",
              "\n",
              "    .dataframe thead th {\n",
              "        text-align: right;\n",
              "    }\n",
              "</style>\n",
              "<table border=\"1\" class=\"dataframe\">\n",
              "  <thead>\n",
              "    <tr style=\"text-align: right;\">\n",
              "      <th></th>\n",
              "      <th>fixed acidity</th>\n",
              "      <th>volatile acidity</th>\n",
              "      <th>citric acid</th>\n",
              "      <th>residual sugar</th>\n",
              "      <th>chlorides</th>\n",
              "      <th>free sulfur dioxide</th>\n",
              "      <th>total sulfur dioxide</th>\n",
              "      <th>density</th>\n",
              "      <th>pH</th>\n",
              "      <th>sulphates</th>\n",
              "      <th>alcohol</th>\n",
              "      <th>quality</th>\n",
              "    </tr>\n",
              "  </thead>\n",
              "  <tbody>\n",
              "    <tr>\n",
              "      <th>count</th>\n",
              "      <td>1599.000000</td>\n",
              "      <td>1599.000000</td>\n",
              "      <td>1599.000000</td>\n",
              "      <td>1599.000000</td>\n",
              "      <td>1599.000000</td>\n",
              "      <td>1599.000000</td>\n",
              "      <td>1599.000000</td>\n",
              "      <td>1599.000000</td>\n",
              "      <td>1599.000000</td>\n",
              "      <td>1599.000000</td>\n",
              "      <td>1599.000000</td>\n",
              "      <td>1599.000000</td>\n",
              "    </tr>\n",
              "    <tr>\n",
              "      <th>mean</th>\n",
              "      <td>8.319637</td>\n",
              "      <td>0.527821</td>\n",
              "      <td>0.270976</td>\n",
              "      <td>2.538806</td>\n",
              "      <td>0.087467</td>\n",
              "      <td>15.874922</td>\n",
              "      <td>46.467792</td>\n",
              "      <td>0.996747</td>\n",
              "      <td>3.311113</td>\n",
              "      <td>0.658149</td>\n",
              "      <td>10.422983</td>\n",
              "      <td>5.636023</td>\n",
              "    </tr>\n",
              "    <tr>\n",
              "      <th>std</th>\n",
              "      <td>1.741096</td>\n",
              "      <td>0.179060</td>\n",
              "      <td>0.194801</td>\n",
              "      <td>1.409928</td>\n",
              "      <td>0.047065</td>\n",
              "      <td>10.460157</td>\n",
              "      <td>32.895324</td>\n",
              "      <td>0.001887</td>\n",
              "      <td>0.154386</td>\n",
              "      <td>0.169507</td>\n",
              "      <td>1.065668</td>\n",
              "      <td>0.807569</td>\n",
              "    </tr>\n",
              "    <tr>\n",
              "      <th>min</th>\n",
              "      <td>4.600000</td>\n",
              "      <td>0.120000</td>\n",
              "      <td>0.000000</td>\n",
              "      <td>0.900000</td>\n",
              "      <td>0.012000</td>\n",
              "      <td>1.000000</td>\n",
              "      <td>6.000000</td>\n",
              "      <td>0.990070</td>\n",
              "      <td>2.740000</td>\n",
              "      <td>0.330000</td>\n",
              "      <td>8.400000</td>\n",
              "      <td>3.000000</td>\n",
              "    </tr>\n",
              "    <tr>\n",
              "      <th>25%</th>\n",
              "      <td>7.100000</td>\n",
              "      <td>0.390000</td>\n",
              "      <td>0.090000</td>\n",
              "      <td>1.900000</td>\n",
              "      <td>0.070000</td>\n",
              "      <td>7.000000</td>\n",
              "      <td>22.000000</td>\n",
              "      <td>0.995600</td>\n",
              "      <td>3.210000</td>\n",
              "      <td>0.550000</td>\n",
              "      <td>9.500000</td>\n",
              "      <td>5.000000</td>\n",
              "    </tr>\n",
              "    <tr>\n",
              "      <th>50%</th>\n",
              "      <td>7.900000</td>\n",
              "      <td>0.520000</td>\n",
              "      <td>0.260000</td>\n",
              "      <td>2.200000</td>\n",
              "      <td>0.079000</td>\n",
              "      <td>14.000000</td>\n",
              "      <td>38.000000</td>\n",
              "      <td>0.996750</td>\n",
              "      <td>3.310000</td>\n",
              "      <td>0.620000</td>\n",
              "      <td>10.200000</td>\n",
              "      <td>6.000000</td>\n",
              "    </tr>\n",
              "    <tr>\n",
              "      <th>75%</th>\n",
              "      <td>9.200000</td>\n",
              "      <td>0.640000</td>\n",
              "      <td>0.420000</td>\n",
              "      <td>2.600000</td>\n",
              "      <td>0.090000</td>\n",
              "      <td>21.000000</td>\n",
              "      <td>62.000000</td>\n",
              "      <td>0.997835</td>\n",
              "      <td>3.400000</td>\n",
              "      <td>0.730000</td>\n",
              "      <td>11.100000</td>\n",
              "      <td>6.000000</td>\n",
              "    </tr>\n",
              "    <tr>\n",
              "      <th>max</th>\n",
              "      <td>15.900000</td>\n",
              "      <td>1.580000</td>\n",
              "      <td>1.000000</td>\n",
              "      <td>15.500000</td>\n",
              "      <td>0.611000</td>\n",
              "      <td>72.000000</td>\n",
              "      <td>289.000000</td>\n",
              "      <td>1.003690</td>\n",
              "      <td>4.010000</td>\n",
              "      <td>2.000000</td>\n",
              "      <td>14.900000</td>\n",
              "      <td>8.000000</td>\n",
              "    </tr>\n",
              "  </tbody>\n",
              "</table>\n",
              "</div>"
            ],
            "text/plain": [
              "       fixed acidity  volatile acidity  ...      alcohol      quality\n",
              "count    1599.000000       1599.000000  ...  1599.000000  1599.000000\n",
              "mean        8.319637          0.527821  ...    10.422983     5.636023\n",
              "std         1.741096          0.179060  ...     1.065668     0.807569\n",
              "min         4.600000          0.120000  ...     8.400000     3.000000\n",
              "25%         7.100000          0.390000  ...     9.500000     5.000000\n",
              "50%         7.900000          0.520000  ...    10.200000     6.000000\n",
              "75%         9.200000          0.640000  ...    11.100000     6.000000\n",
              "max        15.900000          1.580000  ...    14.900000     8.000000\n",
              "\n",
              "[8 rows x 12 columns]"
            ]
          },
          "metadata": {},
          "execution_count": 82
        }
      ]
    },
    {
      "cell_type": "markdown",
      "metadata": {
        "id": "SGekWoCcvN_p"
      },
      "source": [
        "Limpiemos un poco nuestros datos, así que primero comprobemos cuáles son las columnas que contienen valores NaN (Que no son un número)"
      ]
    },
    {
      "cell_type": "code",
      "metadata": {
        "colab": {
          "base_uri": "https://localhost:8080/"
        },
        "id": "63NDeTkZvUa1",
        "outputId": "309c5d65-1d6c-4116-af20-9e65c5b67d29"
      },
      "source": [
        "datosVino.isnull().any()"
      ],
      "execution_count": 83,
      "outputs": [
        {
          "output_type": "execute_result",
          "data": {
            "text/plain": [
              "fixed acidity           False\n",
              "volatile acidity        False\n",
              "citric acid             False\n",
              "residual sugar          False\n",
              "chlorides               False\n",
              "free sulfur dioxide     False\n",
              "total sulfur dioxide    False\n",
              "density                 False\n",
              "pH                      False\n",
              "sulphates               False\n",
              "alcohol                 False\n",
              "quality                 False\n",
              "dtype: bool"
            ]
          },
          "metadata": {},
          "execution_count": 83
        }
      ]
    },
    {
      "cell_type": "markdown",
      "metadata": {
        "id": "ng_SHPNkvZT5"
      },
      "source": [
        "Una vez que el código anterior se ejecuta, todas las columnas deben dar False, en caso de que para cualquier columna se encuentre el resultado True, entonces se eliminan todos los valores nulos de esa columna usando el código siguiente."
      ]
    },
    {
      "cell_type": "code",
      "metadata": {
        "id": "ZYvZgqUMvg1S"
      },
      "source": [
        "datosVino = datosVino.fillna(method='ffill')"
      ],
      "execution_count": 84,
      "outputs": []
    },
    {
      "cell_type": "markdown",
      "metadata": {
        "id": "kUVnNDicwVk-"
      },
      "source": [
        "##Visualización de los datos\n",
        "\n",
        "###Despersión de los datos"
      ]
    },
    {
      "cell_type": "markdown",
      "metadata": {
        "id": "0muNSb7PxOjA"
      },
      "source": [
        "#### fixed acidity vs quality"
      ]
    },
    {
      "cell_type": "code",
      "metadata": {
        "colab": {
          "base_uri": "https://localhost:8080/",
          "height": 300
        },
        "id": "FeTKMAoFxcHA",
        "outputId": "c139e241-f1e2-465b-d79f-fb8b84a89645"
      },
      "source": [
        "fig, ax = plt.subplots(1, 1, figsize=(6, 4))\n",
        "ax.scatter(x=datosVino['fixed acidity'], y=datosVino['quality'], alpha = 0.8)\n",
        "ax.set_xlabel('fixed acidity')\n",
        "ax.set_ylabel('quality')"
      ],
      "execution_count": 85,
      "outputs": [
        {
          "output_type": "execute_result",
          "data": {
            "text/plain": [
              "Text(0, 0.5, 'quality')"
            ]
          },
          "metadata": {},
          "execution_count": 85
        },
        {
          "output_type": "display_data",
          "data": {
            "image/png": "[encoded data removed]",
            "text/plain": [
              "<Figure size 432x288 with 1 Axes>"
            ]
          },
          "metadata": {
            "needs_background": "light"
          }
        }
      ]
    },
    {
      "cell_type": "markdown",
      "metadata": {
        "id": "CpnI8fJcyDMq"
      },
      "source": [
        "####volatile acidity vs quality"
      ]
    },
    {
      "cell_type": "code",
      "metadata": {
        "colab": {
          "base_uri": "https://localhost:8080/",
          "height": 300
        },
        "id": "MZNPHu02yICT",
        "outputId": "1af79f48-566c-4e8a-9d75-899e96b83431"
      },
      "source": [
        "fig, ax = plt.subplots(1, 1, figsize=(6, 4))\n",
        "ax.scatter(x=datosVino['volatile acidity'], y=datosVino['quality'], alpha = 0.8)\n",
        "ax.set_xlabel('volatile acidity')\n",
        "ax.set_ylabel('quality')"
      ],
      "execution_count": 86,
      "outputs": [
        {
          "output_type": "execute_result",
          "data": {
            "text/plain": [
              "Text(0, 0.5, 'quality')"
            ]
          },
          "metadata": {},
          "execution_count": 86
        },
        {
          "output_type": "display_data",
          "data": {
            "image/png": "[encoded data removed]",
            "text/plain": [
              "<Figure size 432x288 with 1 Axes>"
            ]
          },
          "metadata": {
            "needs_background": "light"
          }
        }
      ]
    },
    {
      "cell_type": "markdown",
      "metadata": {
        "id": "ySvxa2dmyc9E"
      },
      "source": [
        "####citric acid vs quality"
      ]
    },
    {
      "cell_type": "code",
      "metadata": {
        "colab": {
          "base_uri": "https://localhost:8080/",
          "height": 300
        },
        "id": "Wn5kGbORyNf6",
        "outputId": "63bc4de3-b776-4ad7-eb9c-0c34a5661695"
      },
      "source": [
        "fig, ax = plt.subplots(1, 1, figsize=(6, 4))\n",
        "ax.scatter(x=datosVino['citric acid'], y=datosVino['quality'], alpha = 0.8)\n",
        "ax.set_xlabel('citric acid')\n",
        "ax.set_ylabel('quality')"
      ],
      "execution_count": 87,
      "outputs": [
        {
          "output_type": "execute_result",
          "data": {
            "text/plain": [
              "Text(0, 0.5, 'quality')"
            ]
          },
          "metadata": {},
          "execution_count": 87
        },
        {
          "output_type": "display_data",
          "data": {
            "image/png": "[encoded data removed]",
            "text/plain": [
              "<Figure size 432x288 with 1 Axes>"
            ]
          },
          "metadata": {
            "needs_background": "light"
          }
        }
      ]
    },
    {
      "cell_type": "markdown",
      "metadata": {
        "id": "DVpNUj-kykPd"
      },
      "source": [
        "####residual sugar vs quality"
      ]
    },
    {
      "cell_type": "code",
      "metadata": {
        "colab": {
          "base_uri": "https://localhost:8080/",
          "height": 300
        },
        "id": "tgYq6Pq6yNqA",
        "outputId": "2dc888c7-4d82-4abd-b8ae-37ea8ffb06e2"
      },
      "source": [
        "fig, ax = plt.subplots(1, 1, figsize=(6, 4))\n",
        "ax.scatter(x=datosVino['residual sugar'], y=datosVino['quality'], alpha = 0.8)\n",
        "ax.set_xlabel('residual sugar')\n",
        "ax.set_ylabel('quality')"
      ],
      "execution_count": 88,
      "outputs": [
        {
          "output_type": "execute_result",
          "data": {
            "text/plain": [
              "Text(0, 0.5, 'quality')"
            ]
          },
          "metadata": {},
          "execution_count": 88
        },
        {
          "output_type": "display_data",
          "data": {
            "image/png": "[encoded data removed]",
            "text/plain": [
              "<Figure size 432x288 with 1 Axes>"
            ]
          },
          "metadata": {
            "needs_background": "light"
          }
        }
      ]
    },
    {
      "cell_type": "markdown",
      "metadata": {
        "id": "SW4T9fTNyxHd"
      },
      "source": [
        "###chlorides vs quality"
      ]
    },
    {
      "cell_type": "code",
      "metadata": {
        "colab": {
          "base_uri": "https://localhost:8080/",
          "height": 300
        },
        "id": "hzlHoBS1yNy9",
        "outputId": "40f23844-021f-4a52-da41-d385a5ca31b8"
      },
      "source": [
        "fig, ax = plt.subplots(1, 1, figsize=(6, 4))\n",
        "ax.scatter(x=datosVino['chlorides'], y=datosVino['quality'], alpha = 0.8)\n",
        "ax.set_xlabel('chlorides')\n",
        "ax.set_ylabel('quality')"
      ],
      "execution_count": 89,
      "outputs": [
        {
          "output_type": "execute_result",
          "data": {
            "text/plain": [
              "Text(0, 0.5, 'quality')"
            ]
          },
          "metadata": {},
          "execution_count": 89
        },
        {
          "output_type": "display_data",
          "data": {
            "image/png": "[encoded data removed]",
            "text/plain": [
              "<Figure size 432x288 with 1 Axes>"
            ]
          },
          "metadata": {
            "needs_background": "light"
          }
        }
      ]
    },
    {
      "cell_type": "markdown",
      "metadata": {
        "id": "nKd41aGQy4ti"
      },
      "source": [
        "####free sulfur dioxide vs quality"
      ]
    },
    {
      "cell_type": "code",
      "metadata": {
        "colab": {
          "base_uri": "https://localhost:8080/",
          "height": 300
        },
        "id": "fuzSKYtXyN77",
        "outputId": "4badaf29-39aa-4a2b-fdf0-531bd5304bbe"
      },
      "source": [
        "fig, ax = plt.subplots(1, 1, figsize=(6, 4))\n",
        "ax.scatter(x=datosVino['free sulfur dioxide'], y=datosVino['quality'], alpha = 0.8)\n",
        "ax.set_xlabel('free sulfur dioxide')\n",
        "ax.set_ylabel('quality')"
      ],
      "execution_count": 90,
      "outputs": [
        {
          "output_type": "execute_result",
          "data": {
            "text/plain": [
              "Text(0, 0.5, 'quality')"
            ]
          },
          "metadata": {},
          "execution_count": 90
        },
        {
          "output_type": "display_data",
          "data": {
            "image/png": "[encoded data removed]",
            "text/plain": [
              "<Figure size 432x288 with 1 Axes>"
            ]
          },
          "metadata": {
            "needs_background": "light"
          }
        }
      ]
    },
    {
      "cell_type": "markdown",
      "metadata": {
        "id": "o8QaeYqazC1u"
      },
      "source": [
        "####total sulfur dioxide vs quality"
      ]
    },
    {
      "cell_type": "code",
      "metadata": {
        "colab": {
          "base_uri": "https://localhost:8080/",
          "height": 300
        },
        "id": "uuvW5A9qyOFQ",
        "outputId": "25ab7f54-2b76-4e15-de44-b7ea16c43477"
      },
      "source": [
        "fig, ax = plt.subplots(1, 1, figsize=(6, 4))\n",
        "ax.scatter(x=datosVino['total sulfur dioxide'], y=datosVino['quality'], alpha = 0.8)\n",
        "ax.set_xlabel('total sulfur dioxide')\n",
        "ax.set_ylabel('quality')"
      ],
      "execution_count": 91,
      "outputs": [
        {
          "output_type": "execute_result",
          "data": {
            "text/plain": [
              "Text(0, 0.5, 'quality')"
            ]
          },
          "metadata": {},
          "execution_count": 91
        },
        {
          "output_type": "display_data",
          "data": {
            "image/png": "[encoded data removed]",
            "text/plain": [
              "<Figure size 432x288 with 1 Axes>"
            ]
          },
          "metadata": {
            "needs_background": "light"
          }
        }
      ]
    },
    {
      "cell_type": "markdown",
      "metadata": {
        "id": "pUxVA5GuzUdV"
      },
      "source": [
        "####density vs quality"
      ]
    },
    {
      "cell_type": "code",
      "metadata": {
        "colab": {
          "base_uri": "https://localhost:8080/",
          "height": 300
        },
        "id": "9UfblVNByOQ9",
        "outputId": "cd537341-6dbe-4781-bb34-7d6de7abc31f"
      },
      "source": [
        "fig, ax = plt.subplots(1, 1, figsize=(6, 4))\n",
        "ax.scatter(x=datosVino['density'], y=datosVino['quality'], alpha = 0.8)\n",
        "ax.set_xlabel('density')\n",
        "ax.set_ylabel('quality')"
      ],
      "execution_count": 92,
      "outputs": [
        {
          "output_type": "execute_result",
          "data": {
            "text/plain": [
              "Text(0, 0.5, 'quality')"
            ]
          },
          "metadata": {},
          "execution_count": 92
        },
        {
          "output_type": "display_data",
          "data": {
            "image/png": "[encoded data removed]",
            "text/plain": [
              "<Figure size 432x288 with 1 Axes>"
            ]
          },
          "metadata": {
            "needs_background": "light"
          }
        }
      ]
    },
    {
      "cell_type": "markdown",
      "metadata": {
        "id": "3w0wGUeVza7a"
      },
      "source": [
        "####pH vs quality"
      ]
    },
    {
      "cell_type": "code",
      "metadata": {
        "colab": {
          "base_uri": "https://localhost:8080/",
          "height": 300
        },
        "id": "r6d13TOAyObt",
        "outputId": "be18644a-21d8-4685-8435-68886b2aae3a"
      },
      "source": [
        "fig, ax = plt.subplots(1, 1, figsize=(6, 4))\n",
        "ax.scatter(x=datosVino['pH'], y=datosVino['quality'], alpha = 0.8)\n",
        "ax.set_xlabel('pH')\n",
        "ax.set_ylabel('quality')"
      ],
      "execution_count": 93,
      "outputs": [
        {
          "output_type": "execute_result",
          "data": {
            "text/plain": [
              "Text(0, 0.5, 'quality')"
            ]
          },
          "metadata": {},
          "execution_count": 93
        },
        {
          "output_type": "display_data",
          "data": {
            "image/png": "[encoded data removed]",
            "text/plain": [
              "<Figure size 432x288 with 1 Axes>"
            ]
          },
          "metadata": {
            "needs_background": "light"
          }
        }
      ]
    },
    {
      "cell_type": "markdown",
      "metadata": {
        "id": "mMR6renPzgpI"
      },
      "source": [
        "####sulphates vs quality"
      ]
    },
    {
      "cell_type": "code",
      "metadata": {
        "colab": {
          "base_uri": "https://localhost:8080/",
          "height": 300
        },
        "id": "18d0NgS2yOpR",
        "outputId": "d7064aa5-890b-43aa-d539-86e57b6636c1"
      },
      "source": [
        "fig, ax = plt.subplots(1, 1, figsize=(6, 4))\n",
        "ax.scatter(x=datosVino['sulphates'], y=datosVino['quality'], alpha = 0.8)\n",
        "ax.set_xlabel('sulphates')\n",
        "ax.set_ylabel('quality')"
      ],
      "execution_count": 94,
      "outputs": [
        {
          "output_type": "execute_result",
          "data": {
            "text/plain": [
              "Text(0, 0.5, 'quality')"
            ]
          },
          "metadata": {},
          "execution_count": 94
        },
        {
          "output_type": "display_data",
          "data": {
            "image/png": "[encoded data removed]",
            "text/plain": [
              "<Figure size 432x288 with 1 Axes>"
            ]
          },
          "metadata": {
            "needs_background": "light"
          }
        }
      ]
    },
    {
      "cell_type": "markdown",
      "metadata": {
        "id": "IsDxtR2tzoMG"
      },
      "source": [
        "####alcohol vs quality"
      ]
    },
    {
      "cell_type": "code",
      "metadata": {
        "colab": {
          "base_uri": "https://localhost:8080/",
          "height": 300
        },
        "id": "jx4ljny7yO7x",
        "outputId": "770ba749-771d-454d-946c-53146b54112a"
      },
      "source": [
        "fig, ax = plt.subplots(1, 1, figsize=(6, 4))\n",
        "ax.scatter(x=datosVino['alcohol'], y=datosVino['quality'], alpha = 0.8)\n",
        "ax.set_xlabel('alcohol')\n",
        "ax.set_ylabel('quality')"
      ],
      "execution_count": 95,
      "outputs": [
        {
          "output_type": "execute_result",
          "data": {
            "text/plain": [
              "Text(0, 0.5, 'quality')"
            ]
          },
          "metadata": {},
          "execution_count": 95
        },
        {
          "output_type": "display_data",
          "data": {
            "image/png": "[encoded data removed]",
            "text/plain": [
              "<Figure size 432x288 with 1 Axes>"
            ]
          },
          "metadata": {
            "needs_background": "light"
          }
        }
      ]
    },
    {
      "cell_type": "markdown",
      "metadata": {
        "id": "54Ugqver0Rgh"
      },
      "source": [
        "##Normalidad de los datos\n"
      ]
    },
    {
      "cell_type": "code",
      "metadata": {
        "colab": {
          "base_uri": "https://localhost:8080/",
          "height": 318
        },
        "id": "vRc6ZwwK07fa",
        "outputId": "1eb3dce8-3dde-442b-bee4-028708213aa0"
      },
      "source": [
        "fig, axs = plt.subplots(nrows = 1, ncols= 4, figsize=(20,4))\n",
        "\n",
        "axs[0].hist(x=datosVino['fixed acidity'], bins=20, color=\"#3182bd\", alpha=0.5)\n",
        "axs[0].plot(datosVino['fixed acidity'], np.full_like(datosVino['fixed acidity'], -0.01), '|k', markeredgewidth=1)\n",
        "axs[0].set_title('Distribución fixed acidity')\n",
        "axs[0].set_xlabel('fixed acidity')\n",
        "axs[0].set_ylabel('counts')\n",
        "\n",
        "axs[1].hist(x=datosVino['volatile acidity'], bins=20, color=\"#3182bd\", alpha=0.5)\n",
        "axs[1].plot(datosVino['volatile acidity'], np.full_like(datosVino['volatile acidity'], -0.01), '|k', markeredgewidth=1)\n",
        "axs[1].set_title('Distribución volatile acidity')\n",
        "axs[1].set_xlabel('volatile acidity')\n",
        "axs[1].set_ylabel('counts')\n",
        "\n",
        "axs[2].hist(x=datosVino['citric acid'], bins=20, color=\"#3182bd\", alpha=0.5)\n",
        "axs[2].plot(datosVino['citric acid'], np.full_like(datosVino['citric acid'], -0.01), '|k', markeredgewidth=1)\n",
        "axs[2].set_title('Distribución citric acid')\n",
        "axs[2].set_xlabel('citric acid')\n",
        "axs[2].set_ylabel('counts')\n",
        "\n",
        "axs[3].hist(x=datosVino['residual sugar'], bins=20, color=\"#3182bd\", alpha=0.5)\n",
        "axs[3].plot(datosVino['residual sugar'], np.full_like(datosVino['residual sugar'], -0.01), '|k', markeredgewidth=1)\n",
        "axs[3].set_title('Distribución residual sugar')\n",
        "axs[3].set_xlabel('residual sugar')\n",
        "axs[3].set_ylabel('counts')"
      ],
      "execution_count": 96,
      "outputs": [
        {
          "output_type": "execute_result",
          "data": {
            "text/plain": [
              "Text(0, 0.5, 'counts')"
            ]
          },
          "metadata": {},
          "execution_count": 96
        },
        {
          "output_type": "display_data",
          "data": {
            "image/png": "[encoded data removed]",
            "text/plain": [
              "<Figure size 1440x288 with 4 Axes>"
            ]
          },
          "metadata": {
            "needs_background": "light"
          }
        }
      ]
    },
    {
      "cell_type": "code",
      "metadata": {
        "colab": {
          "base_uri": "https://localhost:8080/",
          "height": 318
        },
        "id": "otOBzFFd3qJq",
        "outputId": "232e724c-fd40-4332-e5cb-31e6e0cfda81"
      },
      "source": [
        "fig, axs = plt.subplots(nrows = 1, ncols= 4, figsize=(20,4))\n",
        "\n",
        "axs[0].hist(x=datosVino['chlorides'], bins=20, color=\"#3182bd\", alpha=0.5)\n",
        "axs[0].plot(datosVino['chlorides'], np.full_like(datosVino['chlorides'], -0.01), '|k', markeredgewidth=1)\n",
        "axs[0].set_title('Distribución chlorides')\n",
        "axs[0].set_xlabel('chlorides')\n",
        "axs[0].set_ylabel('counts')\n",
        "\n",
        "axs[1].hist(x=datosVino['free sulfur dioxide'], bins=20, color=\"#3182bd\", alpha=0.5)\n",
        "axs[1].plot(datosVino['free sulfur dioxide'], np.full_like(datosVino['free sulfur dioxide'], -0.01), '|k', markeredgewidth=1)\n",
        "axs[1].set_title('Distribución free sulfur dioxide')\n",
        "axs[1].set_xlabel('free sulfur dioxide')\n",
        "axs[1].set_ylabel('counts')\n",
        "\n",
        "axs[2].hist(x=datosVino['total sulfur dioxide'], bins=20, color=\"#3182bd\", alpha=0.5)\n",
        "axs[2].plot(datosVino['total sulfur dioxide'], np.full_like(datosVino['total sulfur dioxide'], -0.01), '|k', markeredgewidth=1)\n",
        "axs[2].set_title('Distribución total sulfur dioxide')\n",
        "axs[2].set_xlabel('total sulfur dioxide')\n",
        "axs[2].set_ylabel('counts')\n",
        "\n",
        "axs[3].hist(x=datosVino['density'], bins=20, color=\"#3182bd\", alpha=0.5)\n",
        "axs[3].plot(datosVino['density'], np.full_like(datosVino['density'], -0.01), '|k', markeredgewidth=1)\n",
        "axs[3].set_title('Distribución density')\n",
        "axs[3].set_xlabel('density')\n",
        "axs[3].set_ylabel('counts')\n"
      ],
      "execution_count": 97,
      "outputs": [
        {
          "output_type": "execute_result",
          "data": {
            "text/plain": [
              "Text(0, 0.5, 'counts')"
            ]
          },
          "metadata": {},
          "execution_count": 97
        },
        {
          "output_type": "display_data",
          "data": {
            "image/png": "[encoded data removed]",
            "text/plain": [
              "<Figure size 1440x288 with 4 Axes>"
            ]
          },
          "metadata": {
            "needs_background": "light"
          }
        }
      ]
    },
    {
      "cell_type": "code",
      "metadata": {
        "colab": {
          "base_uri": "https://localhost:8080/",
          "height": 318
        },
        "id": "4b8TExpg3zD5",
        "outputId": "ca01ca62-0c10-4a9c-a9a4-f244426e727d"
      },
      "source": [
        "fig, axs = plt.subplots(nrows = 1, ncols= 3, figsize=(10,4))\n",
        "\n",
        "axs[0].hist(x=datosVino['pH'], bins=20, color=\"#3182bd\", alpha=0.5)\n",
        "axs[0].plot(datosVino['pH'], np.full_like(datosVino['pH'], -0.01), '|k', markeredgewidth=1)\n",
        "axs[0].set_title('Distribución pH')\n",
        "axs[0].set_xlabel('pH')\n",
        "axs[0].set_ylabel('counts')\n",
        "\n",
        "axs[1].hist(x=datosVino['sulphates'], bins=20, color=\"#3182bd\", alpha=0.5)\n",
        "axs[1].plot(datosVino['sulphates'], np.full_like(datosVino['sulphates'], -0.01), '|k', markeredgewidth=1)\n",
        "axs[1].set_title('Distribución sulphates')\n",
        "axs[1].set_xlabel('sulphates')\n",
        "axs[1].set_ylabel('counts')\n",
        "\n",
        "axs[2].hist(x=datosVino['alcohol'], bins=20, color=\"#3182bd\", alpha=0.5)\n",
        "axs[2].plot(datosVino['alcohol'], np.full_like(datosVino['alcohol'], -0.01), '|k', markeredgewidth=1)\n",
        "axs[2].set_title('Distribución alcohol')\n",
        "axs[2].set_xlabel('alcohol')\n",
        "axs[2].set_ylabel('counts')"
      ],
      "execution_count": 98,
      "outputs": [
        {
          "output_type": "execute_result",
          "data": {
            "text/plain": [
              "Text(0, 0.5, 'counts')"
            ]
          },
          "metadata": {},
          "execution_count": 98
        },
        {
          "output_type": "display_data",
          "data": {
            "image/png": "[encoded data removed]",
            "text/plain": [
              "<Figure size 720x288 with 3 Axes>"
            ]
          },
          "metadata": {
            "needs_background": "light"
          }
        }
      ]
    },
    {
      "cell_type": "markdown",
      "metadata": {
        "id": "klHYKFBg5BW3"
      },
      "source": [
        "##Correlación de las variables"
      ]
    },
    {
      "cell_type": "code",
      "metadata": {
        "colab": {
          "base_uri": "https://localhost:8080/"
        },
        "id": "OqJDPgE25F8N",
        "outputId": "29a4b018-c7fa-4571-8575-03d8d756d64a"
      },
      "source": [
        "print('Correlación fixed acidity y quality')\n",
        "print('Correlación Pearson: ', datosVino['fixed acidity'].corr(datosVino['quality'], method = 'pearson'))\n",
        "print('Correlación spearman: ', datosVino['fixed acidity'].corr(datosVino['quality'], method = 'spearman'))\n",
        "print('Correlación kendall: ', datosVino['fixed acidity'].corr(datosVino['quality'], method = 'kendall'))\n",
        "print()\n",
        "\n",
        "print('Correlación volatile acidity y quality')\n",
        "print('Correlación Pearson: ', datosVino['volatile acidity'].corr(datosVino['quality'], method = 'pearson'))\n",
        "print('Correlación spearman: ', datosVino['volatile acidity'].corr(datosVino['quality'], method = 'spearman'))\n",
        "print('Correlación kendall: ', datosVino['volatile acidity'].corr(datosVino['quality'], method = 'kendall'))\n",
        "print()\n",
        "\n",
        "print('Correlación citric acid y quality')\n",
        "print('Correlación Pearson: ', datosVino['citric acid'].corr(datosVino['quality'], method = 'pearson'))\n",
        "print('Correlación spearman: ', datosVino['citric acid'].corr(datosVino['quality'], method = 'spearman'))\n",
        "print('Correlación kendall: ', datosVino['citric acid'].corr(datosVino['quality'], method = 'kendall'))\n",
        "print()\n",
        "\n",
        "print('Correlación residual sugar y quality')\n",
        "print('Correlación Pearson: ', datosVino['residual sugar'].corr(datosVino['quality'], method = 'pearson'))\n",
        "print('Correlación spearman: ', datosVino['residual sugar'].corr(datosVino['quality'], method = 'spearman'))\n",
        "print('Correlación kendall: ', datosVino['residual sugar'].corr(datosVino['quality'], method = 'kendall'))\n",
        "print()\n",
        "\n",
        "print('Correlación chlorides y quality')\n",
        "print('Correlación Pearson: ', datosVino['chlorides'].corr(datosVino['quality'], method = 'pearson'))\n",
        "print('Correlación spearman: ', datosVino['chlorides'].corr(datosVino['quality'], method = 'spearman'))\n",
        "print('Correlación kendall: ', datosVino['chlorides'].corr(datosVino['quality'], method = 'kendall'))\n",
        "print()\n",
        "\n",
        "print('Correlación free sulfur dioxide y quality')\n",
        "print('Correlación Pearson: ', datosVino['free sulfur dioxide'].corr(datosVino['quality'], method = 'pearson'))\n",
        "print('Correlación spearman: ', datosVino['free sulfur dioxide'].corr(datosVino['quality'], method = 'spearman'))\n",
        "print('Correlación kendall: ', datosVino['free sulfur dioxide'].corr(datosVino['quality'], method = 'kendall'))\n",
        "print()\n",
        "\n",
        "print('Correlación total sulfur dioxide y quality')\n",
        "print('Correlación Pearson: ', datosVino['total sulfur dioxide'].corr(datosVino['quality'], method = 'pearson'))\n",
        "print('Correlación spearman: ', datosVino['total sulfur dioxide'].corr(datosVino['quality'], method = 'spearman'))\n",
        "print('Correlación kendall: ', datosVino['total sulfur dioxide'].corr(datosVino['quality'], method = 'kendall'))\n",
        "print()\n",
        "\n",
        "print('Correlación density y quality')\n",
        "print('Correlación Pearson: ', datosVino['density'].corr(datosVino['quality'], method = 'pearson'))\n",
        "print('Correlación spearman: ', datosVino['density'].corr(datosVino['quality'], method = 'spearman'))\n",
        "print('Correlación kendall: ', datosVino['density'].corr(datosVino['quality'], method = 'kendall'))\n",
        "print()\n",
        "\n",
        "print('Correlación pH y quality')\n",
        "print('Correlación Pearson: ', datosVino['pH'].corr(datosVino['quality'], method = 'pearson'))\n",
        "print('Correlación spearman: ', datosVino['pH'].corr(datosVino['quality'], method = 'spearman'))\n",
        "print('Correlación kendall: ', datosVino['pH'].corr(datosVino['quality'], method = 'kendall'))\n",
        "print()\n",
        "\n",
        "print('Correlación sulphates y quality')\n",
        "print('Correlación Pearson: ', datosVino['sulphates'].corr(datosVino['quality'], method = 'pearson'))\n",
        "print('Correlación spearman: ', datosVino['sulphates'].corr(datosVino['quality'], method = 'spearman'))\n",
        "print('Correlación kendall: ', datosVino['sulphates'].corr(datosVino['quality'], method = 'kendall'))\n",
        "print()\n",
        "\n",
        "print('Correlación alcohol y quality')\n",
        "print('Correlación Pearson: ', datosVino['alcohol'].corr(datosVino['quality'], method = 'pearson'))\n",
        "print('Correlación spearman: ', datosVino['alcohol'].corr(datosVino['quality'], method = 'spearman'))\n",
        "print('Correlación kendall: ', datosVino['alcohol'].corr(datosVino['quality'], method = 'kendall'))\n",
        "print()"
      ],
      "execution_count": 99,
      "outputs": [
        {
          "output_type": "stream",
          "name": "stdout",
          "text": [
            "Correlación fixed acidity y quality\n",
            "Correlación Pearson:  0.12405164911322428\n",
            "Correlación spearman:  0.11408367358880324\n",
            "Correlación kendall:  0.08796608678616907\n",
            "\n",
            "Correlación volatile acidity y quality\n",
            "Correlación Pearson:  -0.390557780264007\n",
            "Correlación spearman:  -0.3806465104253755\n",
            "Correlación kendall:  -0.3007786666992406\n",
            "\n",
            "Correlación citric acid y quality\n",
            "Correlación Pearson:  0.22637251431804123\n",
            "Correlación spearman:  0.2134809144221363\n",
            "Correlación kendall:  0.1673179295071883\n",
            "\n",
            "Correlación residual sugar y quality\n",
            "Correlación Pearson:  0.013731637340066292\n",
            "Correlación spearman:  0.032048167529057335\n",
            "Correlación kendall:  0.025743999323158982\n",
            "\n",
            "Correlación chlorides y quality\n",
            "Correlación Pearson:  -0.1289065599300526\n",
            "Correlación spearman:  -0.18992233561730723\n",
            "Correlación kendall:  -0.14891936451686894\n",
            "\n",
            "Correlación free sulfur dioxide y quality\n",
            "Correlación Pearson:  -0.0506560572442763\n",
            "Correlación spearman:  -0.0569006455015393\n",
            "Correlación kendall:  -0.04564591418527512\n",
            "\n",
            "Correlación total sulfur dioxide y quality\n",
            "Correlación Pearson:  -0.18510028892653776\n",
            "Correlación spearman:  -0.19673507544122076\n",
            "Correlación kendall:  -0.15661215453122615\n",
            "\n",
            "Correlación density y quality\n",
            "Correlación Pearson:  -0.17491922778334887\n",
            "Correlación spearman:  -0.17707406597199962\n",
            "Correlación kendall:  -0.13661134862580693\n",
            "\n",
            "Correlación pH y quality\n",
            "Correlación Pearson:  -0.05773139120538215\n",
            "Correlación spearman:  -0.04367193478892838\n",
            "Correlación kendall:  -0.034235043325038884\n",
            "\n",
            "Correlación sulphates y quality\n",
            "Correlación Pearson:  0.2513970790692614\n",
            "Correlación spearman:  0.37706019910212196\n",
            "Correlación kendall:  0.2992696193465882\n",
            "\n",
            "Correlación alcohol y quality\n",
            "Correlación Pearson:  0.47616632400113584\n",
            "Correlación spearman:  0.47853168747024344\n",
            "Correlación kendall:  0.3803673050777581\n",
            "\n"
          ]
        }
      ]
    },
    {
      "cell_type": "markdown",
      "metadata": {
        "id": "0AyCNkXWOJtv"
      },
      "source": [
        "##Crear el modelo de Regresión Lineal Múltiple\n",
        "\n",
        "###Crear datos de entrenamiento y validación"
      ]
    },
    {
      "cell_type": "code",
      "metadata": {
        "colab": {
          "base_uri": "https://localhost:8080/"
        },
        "id": "Q7Hl55L6Of2b",
        "outputId": "ddaffcfd-e4cc-4825-c8c9-59cd97577b69"
      },
      "source": [
        "datosVino.shape\n",
        "X = datosVino[['fixed acidity', 'volatile acidity', 'citric acid', 'residual sugar', 'chlorides', 'free sulfur dioxide', 'total sulfur dioxide', 'density', 'pH', 'sulphates','alcohol']]\n",
        "Y = datosVino[['quality']]\n",
        "\n",
        "X_train, X_test, y_train, y_test = train_test_split(\n",
        "    X,\n",
        "    Y.values.reshape(-1, 1),\n",
        "    train_size = 0.8,\n",
        "    random_state = 1234,\n",
        "    shuffle = True\n",
        ")\n",
        "\n",
        "entrenamiento = X_train\n",
        "validacion = X_test\n",
        "\n",
        "print(entrenamiento.head())\n",
        "print(validacion.head())"
      ],
      "execution_count": 112,
      "outputs": [
        {
          "output_type": "stream",
          "name": "stdout",
          "text": [
            "      fixed acidity  volatile acidity  citric acid  ...    pH  sulphates  alcohol\n",
            "441            11.9              0.40         0.65  ...  3.06       0.68     11.3\n",
            "227             9.0              0.82         0.14  ...  3.39       0.63      9.8\n",
            "1386            7.4              0.64         0.07  ...  3.30       0.58      9.6\n",
            "1245            7.4              0.55         0.19  ...  3.49       0.68     10.5\n",
            "60              8.8              0.40         0.40  ...  3.44       0.64      9.2\n",
            "\n",
            "[5 rows x 11 columns]\n",
            "      fixed acidity  volatile acidity  citric acid  ...    pH  sulphates  alcohol\n",
            "688             7.7             0.660         0.04  ...  3.40       0.47      9.4\n",
            "961             7.1             0.560         0.14  ...  3.27       0.62      9.3\n",
            "726             8.1             0.720         0.09  ...  3.43       0.72     11.1\n",
            "537             8.1             0.825         0.24  ...  3.37       0.77     10.7\n",
            "1544            8.4             0.370         0.43  ...  3.17       0.81     11.2\n",
            "\n",
            "[5 rows x 11 columns]\n"
          ]
        }
      ]
    },
    {
      "cell_type": "markdown",
      "metadata": {
        "id": "l2Dk9KtLQ4LZ"
      },
      "source": [
        "##Modelo de regresión linel múltiple\n"
      ]
    },
    {
      "cell_type": "code",
      "metadata": {
        "colab": {
          "base_uri": "https://localhost:8080/"
        },
        "id": "tlSCUomwQ88D",
        "outputId": "390fe5dd-23f9-4eab-cdff-c1a2ee48c006"
      },
      "source": [
        "#Construyendo el modelo el algoritmo de regresión lineal a utilizar\n",
        "modelo = linear_model.LinearRegression()\n",
        "#Construyendo el modelo de regresión lineal múltiple con datos de entrenamiento\n",
        "modelo.fit(X_train, y_train)"
      ],
      "execution_count": 113,
      "outputs": [
        {
          "output_type": "execute_result",
          "data": {
            "text/plain": [
              "LinearRegression(copy_X=True, fit_intercept=True, n_jobs=None, normalize=False)"
            ]
          },
          "metadata": {},
          "execution_count": 113
        }
      ]
    },
    {
      "cell_type": "markdown",
      "metadata": {
        "id": "ueEd53F7SF5J"
      },
      "source": [
        "###Interpretar los valores constantes y los estadísticos significaticos de cada variable"
      ]
    },
    {
      "cell_type": "code",
      "metadata": {
        "colab": {
          "base_uri": "https://localhost:8080/",
          "height": 153
        },
        "id": "qckEX6kiSOCN",
        "outputId": "7e2389e0-9044-4656-a620-26983e2d7729"
      },
      "source": [
        "print('DATOS DEL MODELO DE REGRESIÓN LINEAL MÚLTIPLE')\n",
        "print()\n",
        "\n",
        "print('Valor de las pendientes o coeficientes de cada variable')\n",
        "coefi = pd.DataFrame(modelo.coef_, index=['Coeficiente'], columns=X.columns)\n",
        "coefi"
      ],
      "execution_count": 147,
      "outputs": [
        {
          "output_type": "stream",
          "name": "stdout",
          "text": [
            "DATOS DEL MODELO DE REGRESIÓN LINEAL MÚLTIPLE\n",
            "\n",
            "Valor de las pendientes o coeficientes de cada variable\n"
          ]
        },
        {
          "output_type": "execute_result",
          "data": {
            "text/html": [
              "<div>\n",
              "<style scoped>\n",
              "    .dataframe tbody tr th:only-of-type {\n",
              "        vertical-align: middle;\n",
              "    }\n",
              "\n",
              "    .dataframe tbody tr th {\n",
              "        vertical-align: top;\n",
              "    }\n",
              "\n",
              "    .dataframe thead th {\n",
              "        text-align: right;\n",
              "    }\n",
              "</style>\n",
              "<table border=\"1\" class=\"dataframe\">\n",
              "  <thead>\n",
              "    <tr style=\"text-align: right;\">\n",
              "      <th></th>\n",
              "      <th>fixed acidity</th>\n",
              "      <th>volatile acidity</th>\n",
              "      <th>citric acid</th>\n",
              "      <th>residual sugar</th>\n",
              "      <th>chlorides</th>\n",
              "      <th>free sulfur dioxide</th>\n",
              "      <th>total sulfur dioxide</th>\n",
              "      <th>density</th>\n",
              "      <th>pH</th>\n",
              "      <th>sulphates</th>\n",
              "      <th>alcohol</th>\n",
              "    </tr>\n",
              "  </thead>\n",
              "  <tbody>\n",
              "    <tr>\n",
              "      <th>Coeficiente</th>\n",
              "      <td>0.013029</td>\n",
              "      <td>-1.086865</td>\n",
              "      <td>-0.106734</td>\n",
              "      <td>0.015649</td>\n",
              "      <td>-1.691481</td>\n",
              "      <td>0.004824</td>\n",
              "      <td>-0.00365</td>\n",
              "      <td>-18.325399</td>\n",
              "      <td>-0.441797</td>\n",
              "      <td>0.850079</td>\n",
              "      <td>0.277289</td>\n",
              "    </tr>\n",
              "  </tbody>\n",
              "</table>\n",
              "</div>"
            ],
            "text/plain": [
              "             fixed acidity  volatile acidity  ...  sulphates   alcohol\n",
              "Coeficiente       0.013029         -1.086865  ...   0.850079  0.277289\n",
              "\n",
              "[1 rows x 11 columns]"
            ]
          },
          "metadata": {},
          "execution_count": 147
        }
      ]
    },
    {
      "cell_type": "code",
      "metadata": {
        "colab": {
          "base_uri": "https://localhost:8080/"
        },
        "id": "bp71n7Tec8_g",
        "outputId": "c968f94b-0033-4a8e-e5f1-b64d656b52d2"
      },
      "source": [
        "print('Valor de la intersección o coeficiente a:')\n",
        "print(modelo.intercept_)\n",
        "print()\n",
        "\n",
        "print('Presición del modelo:')\n",
        "print(modelo.score(X_train, y_train))\n",
        "print()\n",
        "\n",
        "print(\"Valor de la R Adjusted\")\n",
        "r2Ajustado = 1 - (1 - modelo.score(X_train, y_train)) * (len(Y)-1) / (len(Y) - X.shape[1] - 1)\n",
        "print(r2Ajustado)"
      ],
      "execution_count": 151,
      "outputs": [
        {
          "output_type": "stream",
          "name": "stdout",
          "text": [
            "Valor de la intersección o coeficiente a:\n",
            "[22.61160492]\n",
            "\n",
            "Presición del modelo:\n",
            "0.3582137642468999\n",
            "\n",
            "Valor de la R Adjusted\n",
            "0.3537653404326062\n"
          ]
        }
      ]
    },
    {
      "cell_type": "markdown",
      "metadata": {
        "id": "m1NBBfkUd8AZ"
      },
      "source": [
        "##Identificar e interpretar el valor del R Square Ajustado\n",
        "\n",
        "Es la medida que refleja que tanto impacto o representatividad tiene las variables independientes sobre la varialbe dependiente.\n",
        "\n",
        "El valor de R Square es de 0.35 lo que significa que las variables representan un 35.8% con respecto a la calidad del vino."
      ]
    },
    {
      "cell_type": "markdown",
      "metadata": {
        "id": "rGkHvSu4enLp"
      },
      "source": [
        "##Realizar predicciones con el modelo"
      ]
    },
    {
      "cell_type": "code",
      "metadata": {
        "colab": {
          "base_uri": "https://localhost:8080/"
        },
        "id": "qBmQME1Uez_k",
        "outputId": "60601cd5-0f31-4ab7-db11-904891b6147f"
      },
      "source": [
        "print(X_test.head())\n",
        "y_pred = modelo.predict(X_test.head())\n",
        "print(y_pred)\n",
        "print(y_test[:5])"
      ],
      "execution_count": 165,
      "outputs": [
        {
          "output_type": "stream",
          "name": "stdout",
          "text": [
            "      fixed acidity  volatile acidity  citric acid  ...    pH  sulphates  alcohol\n",
            "688             7.7             0.660         0.04  ...  3.40       0.47      9.4\n",
            "961             7.1             0.560         0.14  ...  3.27       0.62      9.3\n",
            "726             8.1             0.720         0.09  ...  3.43       0.72     11.1\n",
            "537             8.1             0.825         0.24  ...  3.37       0.77     10.7\n",
            "1544            8.4             0.370         0.43  ...  3.17       0.81     11.2\n",
            "\n",
            "[5 rows x 11 columns]\n",
            "[[5.18402693]\n",
            " [5.35222632]\n",
            " [5.59491103]\n",
            " [5.52091961]\n",
            " [6.34175415]]\n",
            "[[5]\n",
            " [5]\n",
            " [6]\n",
            " [6]\n",
            " [7]]\n"
          ]
        }
      ]
    },
    {
      "cell_type": "markdown",
      "metadata": {
        "id": "hb-9Tq-agrIu"
      },
      "source": [
        "#Interpretación\n",
        "\n",
        "Como podemos ver con el uso de 5 registros para hacer las predicciones se obtuvieron valores de 5 y 6 en nummeros redondes y al traer unos cuantos valores de validación resultadon coincidir con las predicciones, es posible que en realidad no sea asi ya que se consiguió una presición del 35.8% lo cual esta por debajo de la media,\n",
        "aunque también el tener en cuenta varias variables a la vez afecta directamente a la precisión de la predicción ya que son más valores a ser considerados pero si nos enfocamos concretamente a unos cuantos es posible que haya más presición en la predicción pero habria que considerar cuales son aquellos atributos a los cuales se les va a dar prioridad por sobre los demás."
      ]
    },
    {
      "cell_type": "markdown",
      "metadata": {
        "id": "eYPcZEycjfWw"
      },
      "source": [
        "##Referencia bibliográfica consultada\n",
        "\n",
        "https://www.datasource.ai/es/data-science-articles/una-guia-para-principiantes-sobre-la-regresion-lineal-en-python-con-scikit-learn\n",
        "\n",
        "https://www.kaggle.com/uciml/red-wine-quality-cortez-et-al-2009"
      ]
    }
  ]
}