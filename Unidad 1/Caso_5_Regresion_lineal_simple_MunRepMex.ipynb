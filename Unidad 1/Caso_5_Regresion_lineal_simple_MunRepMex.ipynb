{
  "nbformat": 4,
  "nbformat_minor": 0,
  "metadata": {
    "colab": {
      "name": "Caso 5 Regresion lineal simple MunRepMex.ipynb",
      "provenance": [],
      "authorship_tag": "ABX9TyO0We7MlNXGIPqO+/AiFVN6",
      "include_colab_link": true
    },
    "kernelspec": {
      "name": "python3",
      "display_name": "Python 3"
    },
    "language_info": {
      "name": "python"
    }
  },
  "cells": [
    {
      "cell_type": "markdown",
      "metadata": {
        "id": "view-in-github",
        "colab_type": "text"
      },
      "source": [
        "<a href=\"https://colab.research.google.com/github/kixtter/AnalisisInteligenteDatos/blob/main/Unidad%201/Caso_5_Regresion_lineal_simple_MunRepMex.ipynb\" target=\"_parent\"><img src=\"https://colab.research.google.com/assets/colab-badge.svg\" alt=\"Open In Colab\"/></a>"
      ]
    },
    {
      "cell_type": "markdown",
      "metadata": {
        "id": "76O3YwWkV-6e"
      },
      "source": [
        "# Caso 5. Regresión Lineal Simple. Datos de población y confirmados de Municipios\n",
        "\n",
        "## Objetivo\n",
        "Realizar una tarea de predicción de casos confirmados en datos de municipios de la República Mexicana mediante el algoritmo de machine learning de regresión lineal simple\n",
        "\n",
        "##Descripción\n",
        "*  Cargar datos de cantidad de habitantes de una población de municipios y sus casos confirmados de COVID. Los datos son casos confirmados en periodo 02-02-2020 al 18-09-2021 en formato DD-MM-AAAA(dia-mes-año)\n",
        "*  Archivo csv localizado en: https://raw.githubusercontent.com/rpizarrog/Analisis-Inteligente-de-datos/main/datos/poblacion%20confirmados%20municipio.csv\n",
        "*  Fuente obtenida de datos del gobierno de México: https://datos.covid-19.conacyt.mx/#DownZCSV\n",
        "*  Explorar los datos\n",
        "*  Definir la variable independiente y la variable dependiente.\n",
        "*  Aplicar el modelo de regresión lineal simple.\n",
        "*  Evaluar el modelo con error cuadrado medio y su significado.\n",
        "*  Hacer estimaciones para una cierta cantidad de población para determinar cuantos casos confirmados serían. Son predicciones.\n",
        "\n",
        "##Fundamento Teórico\n",
        "**Regresión Lineal Simple**\n",
        "\n",
        "El objetivo de un modelo de regresión es tratar de explicar la relación que existe entre una variable dependiente(variable respuesta) Y un conjunto de variables independientes (variables explicativas) ${x_1},..., {x_n}$.\n",
        "\n",
        "En un modelo de regresión lineal simple tratamos de explicar la relación que existe entre la variable respuesta Y y una única variable explicativa X.\n",
        "\n",
        "Mediante las técnicas de regresión de una variable Y sobre una variable X, buscamos una función que sea una buena aproximación de una nube de puntos(${x_i}, {y_i}$).\n",
        "\n",
        "El modelo de regresión lineal simple tiene la siguiente expresión:\n",
        "\n",
        "$Y = \\alpha + \\beta X + \\epsilon$\n",
        "\n",
        "En donde $\\alpha$ es la ordenada en el origen (el valor que toma Y cuando X vale 0), $\\beta$ es la pendiente de la recta (e indica cómo cambia Y al incrementar X en una unidad) y $\\epsilon$ una variable que incluye un conjunto grande de factores, cada uno de los cuales influye en la respuesta sólo en pequeña magnitud, a la que llamaremos error. X e Y son variables aleatorias, por lo que no se puede establecer una relación lineal exacta entre ellas.\n",
        "\n",
        "##Desarrollo\n",
        "\n",
        "###Librerias"
      ]
    },
    {
      "cell_type": "code",
      "metadata": {
        "id": "8Eiz3zvASoH4"
      },
      "source": [
        "# Datos\n",
        "import numpy as np\n",
        "import pandas as pd\n",
        "import seaborn as sb\n",
        "\n",
        "#Gráficos\n",
        "import matplotlib.pyplot as plt\n",
        "%matplotlib inline\n",
        "from mpl_toolkits.mplot3d import Axes3D\n",
        "from matplotlib import cm\n",
        "plt.rcParams['figure.figsize'] = (16, 9)\n",
        "plt.style.use('ggplot')\n",
        "\n",
        "#Regresiones lineales\n",
        "from sklearn import linear_model\n",
        "from sklearn.metrics import mean_squared_error, r2_score\n",
        "\n",
        "from scipy import stats"
      ],
      "execution_count": 28,
      "outputs": []
    },
    {
      "cell_type": "markdown",
      "metadata": {
        "id": "dTSHDahVaI45"
      },
      "source": [
        "##Cargar los datos"
      ]
    },
    {
      "cell_type": "code",
      "metadata": {
        "colab": {
          "base_uri": "https://localhost:8080/"
        },
        "id": "Gr8ikyBgaHpI",
        "outputId": "d1ab9afa-7a53-4ecf-f04a-5eeaa4edf2f1"
      },
      "source": [
        "datos = pd.read_csv('https://raw.githubusercontent.com/rpizarrog/Analisis-Inteligente-de-datos/main/datos/poblacion%20confirmados%20municipio.csv')\n",
        "\n",
        "datos.shape #La estructura de los datos"
      ],
      "execution_count": 29,
      "outputs": [
        {
          "output_type": "execute_result",
          "data": {
            "text/plain": [
              "(2457, 4)"
            ]
          },
          "metadata": {},
          "execution_count": 29
        }
      ]
    },
    {
      "cell_type": "code",
      "metadata": {
        "colab": {
          "base_uri": "https://localhost:8080/",
          "height": 300
        },
        "id": "b23dYcKhaXHU",
        "outputId": "39da610c-720c-4d1d-d7aa-1d96359f0871"
      },
      "source": [
        "datos[['poblacion', 'confirmados']].describe()#Estadística elemental"
      ],
      "execution_count": 30,
      "outputs": [
        {
          "output_type": "execute_result",
          "data": {
            "text/html": [
              "<div>\n",
              "<style scoped>\n",
              "    .dataframe tbody tr th:only-of-type {\n",
              "        vertical-align: middle;\n",
              "    }\n",
              "\n",
              "    .dataframe tbody tr th {\n",
              "        vertical-align: top;\n",
              "    }\n",
              "\n",
              "    .dataframe thead th {\n",
              "        text-align: right;\n",
              "    }\n",
              "</style>\n",
              "<table border=\"1\" class=\"dataframe\">\n",
              "  <thead>\n",
              "    <tr style=\"text-align: right;\">\n",
              "      <th></th>\n",
              "      <th>poblacion</th>\n",
              "      <th>confirmados</th>\n",
              "    </tr>\n",
              "  </thead>\n",
              "  <tbody>\n",
              "    <tr>\n",
              "      <th>count</th>\n",
              "      <td>2.457000e+03</td>\n",
              "      <td>2457.000000</td>\n",
              "    </tr>\n",
              "    <tr>\n",
              "      <th>mean</th>\n",
              "      <td>5.201151e+04</td>\n",
              "      <td>1452.297924</td>\n",
              "    </tr>\n",
              "    <tr>\n",
              "      <th>std</th>\n",
              "      <td>1.475537e+05</td>\n",
              "      <td>7135.481990</td>\n",
              "    </tr>\n",
              "    <tr>\n",
              "      <th>min</th>\n",
              "      <td>9.500000e+01</td>\n",
              "      <td>0.000000</td>\n",
              "    </tr>\n",
              "    <tr>\n",
              "      <th>25%</th>\n",
              "      <td>4.470000e+03</td>\n",
              "      <td>18.000000</td>\n",
              "    </tr>\n",
              "    <tr>\n",
              "      <th>50%</th>\n",
              "      <td>1.413700e+04</td>\n",
              "      <td>87.000000</td>\n",
              "    </tr>\n",
              "    <tr>\n",
              "      <th>75%</th>\n",
              "      <td>3.709900e+04</td>\n",
              "      <td>390.000000</td>\n",
              "    </tr>\n",
              "    <tr>\n",
              "      <th>max</th>\n",
              "      <td>1.815551e+06</td>\n",
              "      <td>147221.000000</td>\n",
              "    </tr>\n",
              "  </tbody>\n",
              "</table>\n",
              "</div>"
            ],
            "text/plain": [
              "          poblacion    confirmados\n",
              "count  2.457000e+03    2457.000000\n",
              "mean   5.201151e+04    1452.297924\n",
              "std    1.475537e+05    7135.481990\n",
              "min    9.500000e+01       0.000000\n",
              "25%    4.470000e+03      18.000000\n",
              "50%    1.413700e+04      87.000000\n",
              "75%    3.709900e+04     390.000000\n",
              "max    1.815551e+06  147221.000000"
            ]
          },
          "metadata": {},
          "execution_count": 30
        }
      ]
    },
    {
      "cell_type": "code",
      "metadata": {
        "colab": {
          "base_uri": "https://localhost:8080/",
          "height": 424
        },
        "id": "oNAfkoMiah0F",
        "outputId": "14876235-67e3-4495-e0e1-4595cabfff92"
      },
      "source": [
        "datos"
      ],
      "execution_count": 31,
      "outputs": [
        {
          "output_type": "execute_result",
          "data": {
            "text/html": [
              "<div>\n",
              "<style scoped>\n",
              "    .dataframe tbody tr th:only-of-type {\n",
              "        vertical-align: middle;\n",
              "    }\n",
              "\n",
              "    .dataframe tbody tr th {\n",
              "        vertical-align: top;\n",
              "    }\n",
              "\n",
              "    .dataframe thead th {\n",
              "        text-align: right;\n",
              "    }\n",
              "</style>\n",
              "<table border=\"1\" class=\"dataframe\">\n",
              "  <thead>\n",
              "    <tr style=\"text-align: right;\">\n",
              "      <th></th>\n",
              "      <th>cve_ent</th>\n",
              "      <th>nombre</th>\n",
              "      <th>poblacion</th>\n",
              "      <th>confirmados</th>\n",
              "    </tr>\n",
              "  </thead>\n",
              "  <tbody>\n",
              "    <tr>\n",
              "      <th>0</th>\n",
              "      <td>16046</td>\n",
              "      <td>Juarez</td>\n",
              "      <td>15290</td>\n",
              "      <td>203</td>\n",
              "    </tr>\n",
              "    <tr>\n",
              "      <th>1</th>\n",
              "      <td>16047</td>\n",
              "      <td>Jungapeo</td>\n",
              "      <td>22358</td>\n",
              "      <td>92</td>\n",
              "    </tr>\n",
              "    <tr>\n",
              "      <th>2</th>\n",
              "      <td>16048</td>\n",
              "      <td>Lagunillas</td>\n",
              "      <td>5862</td>\n",
              "      <td>53</td>\n",
              "    </tr>\n",
              "    <tr>\n",
              "      <th>3</th>\n",
              "      <td>16049</td>\n",
              "      <td>Madero</td>\n",
              "      <td>18769</td>\n",
              "      <td>72</td>\n",
              "    </tr>\n",
              "    <tr>\n",
              "      <th>4</th>\n",
              "      <td>5035</td>\n",
              "      <td>Torreon</td>\n",
              "      <td>744247</td>\n",
              "      <td>19402</td>\n",
              "    </tr>\n",
              "    <tr>\n",
              "      <th>...</th>\n",
              "      <td>...</td>\n",
              "      <td>...</td>\n",
              "      <td>...</td>\n",
              "      <td>...</td>\n",
              "    </tr>\n",
              "    <tr>\n",
              "      <th>2452</th>\n",
              "      <td>32053</td>\n",
              "      <td>Villa Gonzalez Ortega</td>\n",
              "      <td>13945</td>\n",
              "      <td>142</td>\n",
              "    </tr>\n",
              "    <tr>\n",
              "      <th>2453</th>\n",
              "      <td>32054</td>\n",
              "      <td>Villa Hidalgo</td>\n",
              "      <td>20177</td>\n",
              "      <td>112</td>\n",
              "    </tr>\n",
              "    <tr>\n",
              "      <th>2454</th>\n",
              "      <td>32055</td>\n",
              "      <td>Villanueva</td>\n",
              "      <td>31804</td>\n",
              "      <td>497</td>\n",
              "    </tr>\n",
              "    <tr>\n",
              "      <th>2455</th>\n",
              "      <td>32056</td>\n",
              "      <td>Zacatecas</td>\n",
              "      <td>155533</td>\n",
              "      <td>9764</td>\n",
              "    </tr>\n",
              "    <tr>\n",
              "      <th>2456</th>\n",
              "      <td>32058</td>\n",
              "      <td>Santa Maria de la Paz</td>\n",
              "      <td>2855</td>\n",
              "      <td>38</td>\n",
              "    </tr>\n",
              "  </tbody>\n",
              "</table>\n",
              "<p>2457 rows × 4 columns</p>\n",
              "</div>"
            ],
            "text/plain": [
              "      cve_ent                 nombre  poblacion  confirmados\n",
              "0       16046                 Juarez      15290          203\n",
              "1       16047               Jungapeo      22358           92\n",
              "2       16048             Lagunillas       5862           53\n",
              "3       16049                 Madero      18769           72\n",
              "4        5035                Torreon     744247        19402\n",
              "...       ...                    ...        ...          ...\n",
              "2452    32053  Villa Gonzalez Ortega      13945          142\n",
              "2453    32054          Villa Hidalgo      20177          112\n",
              "2454    32055             Villanueva      31804          497\n",
              "2455    32056              Zacatecas     155533         9764\n",
              "2456    32058  Santa Maria de la Paz       2855           38\n",
              "\n",
              "[2457 rows x 4 columns]"
            ]
          },
          "metadata": {},
          "execution_count": 31
        }
      ]
    },
    {
      "cell_type": "markdown",
      "metadata": {
        "id": "W_7VWbC3alqw"
      },
      "source": [
        "##Visualización de datos\n",
        "\n",
        "###Histograma\n",
        "Se visualiza los histogramas únicamente de las variables númericas dependiente e independiente"
      ]
    },
    {
      "cell_type": "code",
      "metadata": {
        "colab": {
          "base_uri": "https://localhost:8080/",
          "height": 567
        },
        "id": "xlr_yYANayh9",
        "outputId": "17ee62ce-e3d5-4cb4-b0ee-0b9a6c0dc463"
      },
      "source": [
        "datos[['poblacion', 'confirmados']].hist()\n",
        "plt.show()"
      ],
      "execution_count": 32,
      "outputs": [
        {
          "output_type": "display_data",
          "data": {
            "image/png": "[encoded data removed]",
            "text/plain": [
              "<Figure size 1152x648 with 2 Axes>"
            ]
          },
          "metadata": {}
        }
      ]
    },
    {
      "cell_type": "code",
      "metadata": {
        "colab": {
          "base_uri": "https://localhost:8080/",
          "height": 300
        },
        "id": "ud-EYNFzdmns",
        "outputId": "82ba56e6-28cc-4e1b-ccbe-74abe62eec5a"
      },
      "source": [
        "confirmados = datos['confirmados']\n",
        "mu, sigma = stats.norm.fit(confirmados)\n",
        "x_hat = np.linspace(min(confirmados), max(confirmados))\n",
        "y_hat = stats.norm.pdf(x_hat, mu, sigma)\n",
        "\n",
        "fig, ax = plt.subplots(figsize=(7,4))\n",
        "ax.plot(x_hat, y_hat, linewidth=2, label = 'normal')\n",
        "ax.hist(x=confirmados, density=True, bins= 30, color='blue', alpha=0.5)\n",
        "ax.plot(confirmados, np.full_like(confirmados, -0.01), '|k', markeredgewidth=1)\n",
        "\n",
        "ax.set_title('Distribución normal de confirmados COVID')\n",
        "\n",
        "ax.legend()"
      ],
      "execution_count": 33,
      "outputs": [
        {
          "output_type": "execute_result",
          "data": {
            "text/plain": [
              "<matplotlib.legend.Legend at 0x7fa63d18bc10>"
            ]
          },
          "metadata": {},
          "execution_count": 33
        },
        {
          "output_type": "display_data",
          "data": {
            "image/png": "[encoded data removed]",
            "text/plain": [
              "<Figure size 504x288 with 1 Axes>"
            ]
          },
          "metadata": {}
        }
      ]
    },
    {
      "cell_type": "markdown",
      "metadata": {
        "id": "GpKAJauEa5rQ"
      },
      "source": [
        "Las variables 'confimados' y 'poblacion' no tienen un comportamiento gaussiano ya que al aplicar la distribución normal esta apenas y logra abarcar una cuarta parte de los datos, por lo cual usar este conjunto de datos no sirva para recopilar información haciendo uso de la regresión lineal simple."
      ]
    },
    {
      "cell_type": "markdown",
      "metadata": {
        "id": "RZa3l97mf0O-"
      },
      "source": [
        "###Diagrama de dispersión"
      ]
    },
    {
      "cell_type": "code",
      "metadata": {
        "colab": {
          "base_uri": "https://localhost:8080/",
          "height": 550
        },
        "id": "Oj3B1cQRf2V8",
        "outputId": "3c859168-061a-4ba8-a5e9-2a7c48df4a2c"
      },
      "source": [
        "plt.scatter(datos['poblacion'], datos['confirmados'], c='orange')\n",
        "plt.show()"
      ],
      "execution_count": 34,
      "outputs": [
        {
          "output_type": "display_data",
          "data": {
            "image/png": "[encoded data removed]",
            "text/plain": [
              "<Figure size 1152x648 with 1 Axes>"
            ]
          },
          "metadata": {}
        }
      ]
    },
    {
      "cell_type": "markdown",
      "metadata": {
        "id": "XVZev8NngKJu"
      },
      "source": [
        "##Aplicar modelos de regresión\n",
        "\n",
        "Se utiliza la función linear_model.LinearRegression() para construir la regresión lineal.\n",
        "\n",
        "Se almacena la regresión en una variable llamada regr.\n",
        "\n",
        "Se construye un modelo de entrenamiento con todos los datos."
      ]
    },
    {
      "cell_type": "code",
      "metadata": {
        "colab": {
          "base_uri": "https://localhost:8080/"
        },
        "id": "BTCZ3523gdcV",
        "outputId": "edfb5325-e264-44a0-d1de-10980e03057f"
      },
      "source": [
        "regr   = linear_model.LinearRegression()\n",
        "poblacion = np.array(datos['poblacion'])\n",
        "\n",
        "poblacion"
      ],
      "execution_count": 35,
      "outputs": [
        {
          "output_type": "execute_result",
          "data": {
            "text/plain": [
              "array([ 15290,  22358,   5862, ...,  31804, 155533,   2855])"
            ]
          },
          "metadata": {},
          "execution_count": 35
        }
      ]
    },
    {
      "cell_type": "code",
      "metadata": {
        "colab": {
          "base_uri": "https://localhost:8080/"
        },
        "id": "Mp14c8cfgrSp",
        "outputId": "28b38169-8a76-44c6-bf7d-e0ec3978e431"
      },
      "source": [
        "confirmados = np.array(datos['confirmados'])\n",
        "confirmados"
      ],
      "execution_count": 36,
      "outputs": [
        {
          "output_type": "execute_result",
          "data": {
            "text/plain": [
              "array([ 203,   92,   53, ...,  497, 9764,   38])"
            ]
          },
          "metadata": {},
          "execution_count": 36
        }
      ]
    },
    {
      "cell_type": "code",
      "metadata": {
        "colab": {
          "base_uri": "https://localhost:8080/"
        },
        "id": "ZgSaoYbWgxxd",
        "outputId": "0ccc4a8d-5c40-402d-e4a7-95bdb6381bfc"
      },
      "source": [
        "regr.fit(poblacion.reshape(-1, 1), confirmados)"
      ],
      "execution_count": 37,
      "outputs": [
        {
          "output_type": "execute_result",
          "data": {
            "text/plain": [
              "LinearRegression(copy_X=True, fit_intercept=True, n_jobs=None, normalize=False)"
            ]
          },
          "metadata": {},
          "execution_count": 37
        }
      ]
    },
    {
      "cell_type": "markdown",
      "metadata": {
        "id": "bki3UpeRhADl"
      },
      "source": [
        "##Objeto de predicción\n",
        "\n",
        "Se construye objeto de predicción para construir la recta lineal"
      ]
    },
    {
      "cell_type": "code",
      "metadata": {
        "colab": {
          "base_uri": "https://localhost:8080/"
        },
        "id": "OFEdzbZihKIy",
        "outputId": "094aae5d-d257-4e65-870c-4ca7750eb273"
      },
      "source": [
        "y_pred = regr.predict(poblacion.reshape(-1, 1))\n",
        "y_pred"
      ],
      "execution_count": 38,
      "outputs": [
        {
          "output_type": "execute_result",
          "data": {
            "text/plain": [
              "array([  39.54377041,  311.46466101, -323.17130551, ...,  674.87223495,\n",
              "       5434.98823285, -438.85694756])"
            ]
          },
          "metadata": {},
          "execution_count": 38
        }
      ]
    },
    {
      "cell_type": "markdown",
      "metadata": {
        "id": "4vyKFvFVhRh8"
      },
      "source": [
        "##Evaluar el modelo\n",
        "Se muestran los valores de los coeficientes de la ecuación:\n",
        "\n",
        "$Y = \\beta 0 + \\beta 1 \\cdot{x_i}$"
      ]
    },
    {
      "cell_type": "code",
      "metadata": {
        "colab": {
          "base_uri": "https://localhost:8080/"
        },
        "id": "h-gKSLNwhkz3",
        "outputId": "8d450b67-63b4-4846-d3c3-c0aa9b24ced4"
      },
      "source": [
        "print('Coeficiente:', regr.coef_)\n",
        "\n",
        "#Este es el valor donde se corta el eje Y (en X = 0)\n",
        "print('Termino independiente: %.2f' % regr.intercept_)\n",
        "\n",
        "#Error cuadrado medio\n",
        "print(\"Error cuadrado medio: %.2f\" %mean_squared_error(confirmados, y_pred))\n",
        "\n",
        "#Puntaje de varianza. El mejor puntuaje es un 1.0\n",
        "print('Puntuaje de varianza: %.2f' % r2_score(confirmados, y_pred))"
      ],
      "execution_count": 39,
      "outputs": [
        {
          "output_type": "stream",
          "name": "stdout",
          "text": [
            "Coeficiente: [0.03847211]\n",
            "Termino independiente: -548.69\n",
            "Error cuadrado medio: 18682525.19\n",
            "Puntuaje de varianza: 0.63\n"
          ]
        }
      ]
    },
    {
      "cell_type": "markdown",
      "metadata": {
        "id": "266Fi_YWipBI"
      },
      "source": [
        "$\\beta 1$ = 0.03847211\n",
        "\n",
        "Y = -548.69 + 0.03847211 $\\cdot{x_i}$\n",
        "\n",
        "¿Cuántos casos confirmados deberian existir para una población de 50,000?\n",
        "\n",
        "1,374.91 = -548.69 + 0.03847211 * 50000"
      ]
    },
    {
      "cell_type": "markdown",
      "metadata": {
        "id": "EoeRAFfJjiUN"
      },
      "source": [
        "##Visualiza recta"
      ]
    },
    {
      "cell_type": "code",
      "metadata": {
        "colab": {
          "base_uri": "https://localhost:8080/",
          "height": 550
        },
        "id": "ljDxYeZqjg8s",
        "outputId": "2f6ac889-1522-4b67-f2c7-bcd31d6e453f"
      },
      "source": [
        "plt.scatter(datos['poblacion'], datos['confirmados'], c='darkorange')\n",
        "plt.plot(poblacion, y_pred, c= 'lightgreen')\n",
        "plt.show()"
      ],
      "execution_count": 40,
      "outputs": [
        {
          "output_type": "display_data",
          "data": {
            "image/png": "[encoded data removed]",
            "text/plain": [
              "<Figure size 1152x648 with 1 Axes>"
            ]
          },
          "metadata": {}
        }
      ]
    },
    {
      "cell_type": "markdown",
      "metadata": {
        "id": "p6Ntu8xBkF8m"
      },
      "source": [
        "##Predecir valores\n",
        "\n",
        "¿Cuál es la predicción de casos confirmados para una población de 50,000?\n",
        "\n",
        "¿Cuál es la predicción de casos confirmados para una población de 100,000?\n",
        "\n",
        "¿Cuál es la predicción de casos confirmados para una población de 200,000?"
      ]
    },
    {
      "cell_type": "code",
      "metadata": {
        "colab": {
          "base_uri": "https://localhost:8080/"
        },
        "id": "XAyUsen-kTrr",
        "outputId": "d13aefd5-e72a-4398-ad2d-1d60426cac2a"
      },
      "source": [
        "prediccion = regr.predict([[50000]])\n",
        "print(int(prediccion))"
      ],
      "execution_count": 41,
      "outputs": [
        {
          "output_type": "stream",
          "name": "stdout",
          "text": [
            "1374\n"
          ]
        }
      ]
    },
    {
      "cell_type": "code",
      "metadata": {
        "colab": {
          "base_uri": "https://localhost:8080/"
        },
        "id": "TW-O942pkkbf",
        "outputId": "523110fc-a6f0-4388-97c4-0532cf1bf1e4"
      },
      "source": [
        "prediccion = regr.predict([[100000]])\n",
        "print(int(prediccion))"
      ],
      "execution_count": 42,
      "outputs": [
        {
          "output_type": "stream",
          "name": "stdout",
          "text": [
            "3298\n"
          ]
        }
      ]
    },
    {
      "cell_type": "code",
      "metadata": {
        "colab": {
          "base_uri": "https://localhost:8080/"
        },
        "id": "r-NpgCLGkk8m",
        "outputId": "cb674965-f4bf-4849-8aad-a74ba9efb07e"
      },
      "source": [
        "prediccion = regr.predict([[250000]])\n",
        "print(int(prediccion))"
      ],
      "execution_count": 43,
      "outputs": [
        {
          "output_type": "stream",
          "name": "stdout",
          "text": [
            "9069\n"
          ]
        }
      ]
    },
    {
      "cell_type": "code",
      "metadata": {
        "colab": {
          "base_uri": "https://localhost:8080/"
        },
        "id": "eaM0jqfUklau",
        "outputId": "6c74c1e5-b78d-44f9-c88b-e16e9e9c8d36"
      },
      "source": [
        "prediccion = regr.predict([[500000]])\n",
        "print(int(prediccion))"
      ],
      "execution_count": 44,
      "outputs": [
        {
          "output_type": "stream",
          "name": "stdout",
          "text": [
            "18687\n"
          ]
        }
      ]
    },
    {
      "cell_type": "code",
      "metadata": {
        "colab": {
          "base_uri": "https://localhost:8080/"
        },
        "id": "XlbaemW4klpI",
        "outputId": "728ef744-34c5-4a0c-b00f-02ba74ce084a"
      },
      "source": [
        "prediccion = regr.predict([[750000]])\n",
        "print(int(prediccion))"
      ],
      "execution_count": 45,
      "outputs": [
        {
          "output_type": "stream",
          "name": "stdout",
          "text": [
            "28305\n"
          ]
        }
      ]
    },
    {
      "cell_type": "markdown",
      "metadata": {
        "id": "WDY1tGEWkss-"
      },
      "source": [
        "#Interpretación\n",
        "\n",
        "En esta caso 5. Regresión lineal simple aplicada a los cados sobre casos confirmados de COVID  por municipio, en la Repúliba Mexicana, existe un promedio de contagiados de 1452 casos lo cual dependiendo de la cantidad de habitantes que posee cada municipio puede ser una pequeña o una mediana cantidad de contagiados por el virus.\n",
        "\n",
        "En un inicio la dispersión de los datos no es mucha, hasta esta concentada para aquellos lugares que poseen menos de 200,000 habitantes, haciendo uso de la regresión lineal podemos ver mejor la relación que existe entre los contagiados y la población de cada municipio, pareciera que tienen una estrecha relación para aquellos lugares que poseen alrededor de 100,000 habitantes.\n",
        "\n",
        "Al hacer una predición de la cantidad de casos confirmados se muestra que son pocos los que se verian afectados:\n",
        "\n",
        "*  Para 50,000 habitantes se estima que existan 1374 casos confirmados\n",
        "*  Para 100,000 habitantes se estima que existan 3298 casos confirmados\n",
        "*  Para 250,000 habitantes se estima que existan 9069 casos confirmados\n",
        "*  Para 500,000 habitantes se estima que existan 18687 casos confirmados\n",
        "*  Para 750,000 habitantes se estima que existan 28305 casos confirmados\n",
        "\n",
        "No llegan a representar el 5% en cada caso de prueba."
      ]
    }
  ]
}