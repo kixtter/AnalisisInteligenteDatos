{
  "nbformat": 4,
  "nbformat_minor": 0,
  "metadata": {
    "colab": {
      "name": "Caso 3 Analisis Descriptivo de vacunación COVID19.ipynb",
      "provenance": [],
      "authorship_tag": "ABX9TyNUK7xpQ4a47MEcdSpYqPhC",
      "include_colab_link": true
    },
    "kernelspec": {
      "name": "python3",
      "display_name": "Python 3"
    },
    "language_info": {
      "name": "python"
    }
  },
  "cells": [
    {
      "cell_type": "markdown",
      "metadata": {
        "id": "view-in-github",
        "colab_type": "text"
      },
      "source": [
        "<a href=\"https://colab.research.google.com/github/kixtter/AnalisisInteligenteDatos/blob/main/Unidad%201/Caso_3_Analisis_Descriptivo_de_vacunaci%C3%B3n_COVID19.ipynb\" target=\"_parent\"><img src=\"https://colab.research.google.com/assets/colab-badge.svg\" alt=\"Open In Colab\"/></a>"
      ]
    },
    {
      "cell_type": "code",
      "metadata": {
        "colab": {
          "base_uri": "https://localhost:8080/",
          "height": 424
        },
        "id": "3IjW7pqIi9PU",
        "outputId": "1aff5d26-c869-4a1a-f386-54dc43368d54"
      },
      "source": [
        "import pandas as pd\n",
        "\n",
        "vacunas = pd.read_csv('https://raw.githubusercontent.com/rpizarrog/Analisis-Inteligente-de-datos/main/datos/country%20vaccinations%20by%20manufacturer.csv')\n",
        "vacunas"
      ],
      "execution_count": 2,
      "outputs": [
        {
          "output_type": "execute_result",
          "data": {
            "text/html": [
              "<div>\n",
              "<style scoped>\n",
              "    .dataframe tbody tr th:only-of-type {\n",
              "        vertical-align: middle;\n",
              "    }\n",
              "\n",
              "    .dataframe tbody tr th {\n",
              "        vertical-align: top;\n",
              "    }\n",
              "\n",
              "    .dataframe thead th {\n",
              "        text-align: right;\n",
              "    }\n",
              "</style>\n",
              "<table border=\"1\" class=\"dataframe\">\n",
              "  <thead>\n",
              "    <tr style=\"text-align: right;\">\n",
              "      <th></th>\n",
              "      <th>location</th>\n",
              "      <th>date</th>\n",
              "      <th>vaccine</th>\n",
              "      <th>total_vaccinations</th>\n",
              "    </tr>\n",
              "  </thead>\n",
              "  <tbody>\n",
              "    <tr>\n",
              "      <th>0</th>\n",
              "      <td>Austria</td>\n",
              "      <td>2021-01-08</td>\n",
              "      <td>Johnson&amp;Johnson</td>\n",
              "      <td>0</td>\n",
              "    </tr>\n",
              "    <tr>\n",
              "      <th>1</th>\n",
              "      <td>Austria</td>\n",
              "      <td>2021-01-08</td>\n",
              "      <td>Moderna</td>\n",
              "      <td>0</td>\n",
              "    </tr>\n",
              "    <tr>\n",
              "      <th>2</th>\n",
              "      <td>Austria</td>\n",
              "      <td>2021-01-08</td>\n",
              "      <td>Oxford/AstraZeneca</td>\n",
              "      <td>0</td>\n",
              "    </tr>\n",
              "    <tr>\n",
              "      <th>3</th>\n",
              "      <td>Austria</td>\n",
              "      <td>2021-01-08</td>\n",
              "      <td>Pfizer/BioNTech</td>\n",
              "      <td>31020</td>\n",
              "    </tr>\n",
              "    <tr>\n",
              "      <th>4</th>\n",
              "      <td>Austria</td>\n",
              "      <td>2021-01-15</td>\n",
              "      <td>Johnson&amp;Johnson</td>\n",
              "      <td>0</td>\n",
              "    </tr>\n",
              "    <tr>\n",
              "      <th>...</th>\n",
              "      <td>...</td>\n",
              "      <td>...</td>\n",
              "      <td>...</td>\n",
              "      <td>...</td>\n",
              "    </tr>\n",
              "    <tr>\n",
              "      <th>10960</th>\n",
              "      <td>Uruguay</td>\n",
              "      <td>2021-08-07</td>\n",
              "      <td>Pfizer/BioNTech</td>\n",
              "      <td>1562360</td>\n",
              "    </tr>\n",
              "    <tr>\n",
              "      <th>10961</th>\n",
              "      <td>Uruguay</td>\n",
              "      <td>2021-08-07</td>\n",
              "      <td>Sinovac</td>\n",
              "      <td>3234519</td>\n",
              "    </tr>\n",
              "    <tr>\n",
              "      <th>10962</th>\n",
              "      <td>Uruguay</td>\n",
              "      <td>2021-08-08</td>\n",
              "      <td>Oxford/AstraZeneca</td>\n",
              "      <td>84121</td>\n",
              "    </tr>\n",
              "    <tr>\n",
              "      <th>10963</th>\n",
              "      <td>Uruguay</td>\n",
              "      <td>2021-08-08</td>\n",
              "      <td>Pfizer/BioNTech</td>\n",
              "      <td>1562430</td>\n",
              "    </tr>\n",
              "    <tr>\n",
              "      <th>10964</th>\n",
              "      <td>Uruguay</td>\n",
              "      <td>2021-08-08</td>\n",
              "      <td>Sinovac</td>\n",
              "      <td>3234526</td>\n",
              "    </tr>\n",
              "  </tbody>\n",
              "</table>\n",
              "<p>10965 rows × 4 columns</p>\n",
              "</div>"
            ],
            "text/plain": [
              "      location        date             vaccine  total_vaccinations\n",
              "0      Austria  2021-01-08     Johnson&Johnson                   0\n",
              "1      Austria  2021-01-08             Moderna                   0\n",
              "2      Austria  2021-01-08  Oxford/AstraZeneca                   0\n",
              "3      Austria  2021-01-08     Pfizer/BioNTech               31020\n",
              "4      Austria  2021-01-15     Johnson&Johnson                   0\n",
              "...        ...         ...                 ...                 ...\n",
              "10960  Uruguay  2021-08-07     Pfizer/BioNTech             1562360\n",
              "10961  Uruguay  2021-08-07             Sinovac             3234519\n",
              "10962  Uruguay  2021-08-08  Oxford/AstraZeneca               84121\n",
              "10963  Uruguay  2021-08-08     Pfizer/BioNTech             1562430\n",
              "10964  Uruguay  2021-08-08             Sinovac             3234526\n",
              "\n",
              "[10965 rows x 4 columns]"
            ]
          },
          "metadata": {},
          "execution_count": 2
        }
      ]
    },
    {
      "cell_type": "markdown",
      "metadata": {
        "id": "BDIu3QzujzMe"
      },
      "source": [
        "## Variables:\n",
        "\n",
        "*   location: representa el país donde se aplicó la vacuna\n",
        "*   date: la fecha en que se aplica en formato 'YYYY-MM-DD'\n",
        "*   vaccine: representa al fabricante de la vacuna\n",
        "*   total_vaccinations: la cantidad de vacunas que se aplicaron en esa\n"
      ]
    },
    {
      "cell_type": "code",
      "metadata": {
        "colab": {
          "base_uri": "https://localhost:8080/"
        },
        "id": "WUX8rmpalhvw",
        "outputId": "f68b61dc-70a0-4345-8fd6-03317d7090b2"
      },
      "source": [
        "datos=pd.read_csv(\"https://raw.githubusercontent.com/rpizarrog/Analisis-Inteligente-de-datos/main/datos/country%20vaccinations%20by%20manufacturer.csv\")\n",
        "dat = pd.DataFrame(data=datos)\n",
        "dat.groupby(\"location\").total_vaccinations.sum()"
      ],
      "execution_count": 3,
      "outputs": [
        {
          "output_type": "execute_result",
          "data": {
            "text/plain": [
              "location\n",
              "Austria            118511334\n",
              "Belgium            162354528\n",
              "Bulgaria            27931197\n",
              "Chile             2629159998\n",
              "Croatia             38864087\n",
              "Cyprus              12211016\n",
              "Czechia            840566515\n",
              "Denmark             75191003\n",
              "Estonia             15626971\n",
              "Finland             68408812\n",
              "France            5540732366\n",
              "Germany           7657809082\n",
              "Hong Kong          382021660\n",
              "Hungary            164704986\n",
              "Iceland             38744648\n",
              "Ireland             52553510\n",
              "Italy             5418168374\n",
              "Japan             3910422920\n",
              "Latvia             111034630\n",
              "Liechtenstein         451823\n",
              "Lithuania          240077306\n",
              "Luxembourg           7664316\n",
              "Malta                9976920\n",
              "Netherlands        234720727\n",
              "Poland             438336578\n",
              "Portugal           145482899\n",
              "Romania           1037741287\n",
              "Slovakia            56050405\n",
              "Slovenia            21103238\n",
              "Spain              651194863\n",
              "Sweden             128990325\n",
              "Switzerland        736032309\n",
              "United States    41524152779\n",
              "Uruguay            397732230\n",
              "Name: total_vaccinations, dtype: int64"
            ]
          },
          "metadata": {},
          "execution_count": 3
        }
      ]
    },
    {
      "cell_type": "code",
      "metadata": {
        "colab": {
          "base_uri": "https://localhost:8080/"
        },
        "id": "50J2S5mamFSp",
        "outputId": "78f05cbf-a750-4aa8-99c9-20e691badafd"
      },
      "source": [
        "aplicaciones_pais = vacunas.loc[:, 'location'];\n",
        "aplicaciones_pais.value_counts()"
      ],
      "execution_count": 4,
      "outputs": [
        {
          "output_type": "execute_result",
          "data": {
            "text/plain": [
              "Germany          900\n",
              "Iceland          884\n",
              "Latvia           749\n",
              "Italy            746\n",
              "Czechia          744\n",
              "Lithuania        731\n",
              "France           712\n",
              "Romania          669\n",
              "Chile            565\n",
              "United States    556\n",
              "Uruguay          489\n",
              "Switzerland      454\n",
              "Hong Kong        336\n",
              "Japan            225\n",
              "Hungary          158\n",
              "Poland           128\n",
              "Netherlands      128\n",
              "Finland          127\n",
              "Spain            124\n",
              "Austria          124\n",
              "Portugal         122\n",
              "Slovakia         118\n",
              "Croatia          116\n",
              "Ireland          113\n",
              "Bulgaria         107\n",
              "Luxembourg       106\n",
              "Estonia          105\n",
              "Belgium          104\n",
              "Cyprus           100\n",
              "Slovenia          98\n",
              "Denmark           95\n",
              "Malta             91\n",
              "Sweden            89\n",
              "Liechtenstein     52\n",
              "Name: location, dtype: int64"
            ]
          },
          "metadata": {},
          "execution_count": 4
        }
      ]
    }
  ]
}