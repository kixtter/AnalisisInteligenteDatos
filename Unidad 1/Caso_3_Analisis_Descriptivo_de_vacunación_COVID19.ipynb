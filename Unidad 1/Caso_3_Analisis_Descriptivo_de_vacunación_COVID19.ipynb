{
  "nbformat": 4,
  "nbformat_minor": 0,
  "metadata": {
    "colab": {
      "name": "Caso 3 Analisis Descriptivo de vacunación COVID19.ipynb",
      "provenance": [],
      "authorship_tag": "ABX9TyNQlPlgVyZgdZzQHtF5WVFP",
      "include_colab_link": true
    },
    "kernelspec": {
      "name": "python3",
      "display_name": "Python 3"
    },
    "language_info": {
      "name": "python"
    }
  },
  "cells": [
    {
      "cell_type": "markdown",
      "metadata": {
        "id": "view-in-github",
        "colab_type": "text"
      },
      "source": [
        "<a href=\"https://colab.research.google.com/github/kixtter/AnalisisInteligenteDatos/blob/main/Unidad%201/Caso_3_Analisis_Descriptivo_de_vacunaci%C3%B3n_COVID19.ipynb\" target=\"_parent\"><img src=\"https://colab.research.google.com/assets/colab-badge.svg\" alt=\"Open In Colab\"/></a>"
      ]
    },
    {
      "cell_type": "markdown",
      "metadata": {
        "id": "C2CtmWcxcJv1"
      },
      "source": [
        "# Caso 3. Análisis descriptivo de datos sobre aplicaciones de vacunas y fabricantes COVID\n",
        "\n",
        "## Objetivo\n",
        "Realizar un análisis descriptivo de frecuencias sobre los datos de aplicaciones de vacunas en distintos paísos y fabricantes de las mismas COVID.\n",
        "\n",
        "## Descripción\n",
        "Los datos de vacunación de COVID estan en la siguiente URL: (https://raw.githubusercontent.com/rpizarrog/Analisis-Inteligente-de-datos/main/datos/country%20vaccinations%20by%20manufacturer.csv).\n",
        "Origen de los datos: https://www.kaggle.com/\n",
        "\n",
        "Resolver las siguientes necesidades de datos:\n",
        "*   ¿Cuál país ha tenido mas aplicaciones a lo largo del tiempo?\n",
        "*   ¿Cuál fabricante de vacunas ha tenido mas aplicaciones a lo largo del tiempo?\n",
        "*   ¿Cuántas vacunas se han aplicado por país?\n",
        "*   ¿Cuántas vacunas se han aplicado por fabricante?\n",
        "*   ¿En que mes se ha aplicado mas vacunas?\n",
        "\n",
        "Visualizar diagramas de barra por cada tipo de consulta, de las cinco preguntas visualizar diagramas de barras en donde el eje de las x es país o fabricante y el eje de las y es la frecuencia y/o suma de las aplicaciones."
      ]
    },
    {
      "cell_type": "markdown",
      "metadata": {
        "id": "sPXIbFiMe4Zy"
      },
      "source": [
        "# Desarrollo\n",
        "## Cargar datos"
      ]
    },
    {
      "cell_type": "code",
      "metadata": {
        "colab": {
          "base_uri": "https://localhost:8080/",
          "height": 424
        },
        "id": "3IjW7pqIi9PU",
        "outputId": "2a808ce9-75cb-49df-e87b-cf6305c44f4a"
      },
      "source": [
        "import pandas as pd\n",
        "\n",
        "vacunas = pd.read_csv('https://raw.githubusercontent.com/rpizarrog/Analisis-Inteligente-de-datos/main/datos/country%20vaccinations%20by%20manufacturer.csv')\n",
        "vacunas"
      ],
      "execution_count": 1,
      "outputs": [
        {
          "output_type": "execute_result",
          "data": {
            "text/html": [
              "<div>\n",
              "<style scoped>\n",
              "    .dataframe tbody tr th:only-of-type {\n",
              "        vertical-align: middle;\n",
              "    }\n",
              "\n",
              "    .dataframe tbody tr th {\n",
              "        vertical-align: top;\n",
              "    }\n",
              "\n",
              "    .dataframe thead th {\n",
              "        text-align: right;\n",
              "    }\n",
              "</style>\n",
              "<table border=\"1\" class=\"dataframe\">\n",
              "  <thead>\n",
              "    <tr style=\"text-align: right;\">\n",
              "      <th></th>\n",
              "      <th>location</th>\n",
              "      <th>date</th>\n",
              "      <th>vaccine</th>\n",
              "      <th>total_vaccinations</th>\n",
              "    </tr>\n",
              "  </thead>\n",
              "  <tbody>\n",
              "    <tr>\n",
              "      <th>0</th>\n",
              "      <td>Austria</td>\n",
              "      <td>2021-01-08</td>\n",
              "      <td>Johnson&amp;Johnson</td>\n",
              "      <td>0</td>\n",
              "    </tr>\n",
              "    <tr>\n",
              "      <th>1</th>\n",
              "      <td>Austria</td>\n",
              "      <td>2021-01-08</td>\n",
              "      <td>Moderna</td>\n",
              "      <td>0</td>\n",
              "    </tr>\n",
              "    <tr>\n",
              "      <th>2</th>\n",
              "      <td>Austria</td>\n",
              "      <td>2021-01-08</td>\n",
              "      <td>Oxford/AstraZeneca</td>\n",
              "      <td>0</td>\n",
              "    </tr>\n",
              "    <tr>\n",
              "      <th>3</th>\n",
              "      <td>Austria</td>\n",
              "      <td>2021-01-08</td>\n",
              "      <td>Pfizer/BioNTech</td>\n",
              "      <td>31020</td>\n",
              "    </tr>\n",
              "    <tr>\n",
              "      <th>4</th>\n",
              "      <td>Austria</td>\n",
              "      <td>2021-01-15</td>\n",
              "      <td>Johnson&amp;Johnson</td>\n",
              "      <td>0</td>\n",
              "    </tr>\n",
              "    <tr>\n",
              "      <th>...</th>\n",
              "      <td>...</td>\n",
              "      <td>...</td>\n",
              "      <td>...</td>\n",
              "      <td>...</td>\n",
              "    </tr>\n",
              "    <tr>\n",
              "      <th>10960</th>\n",
              "      <td>Uruguay</td>\n",
              "      <td>2021-08-07</td>\n",
              "      <td>Pfizer/BioNTech</td>\n",
              "      <td>1562360</td>\n",
              "    </tr>\n",
              "    <tr>\n",
              "      <th>10961</th>\n",
              "      <td>Uruguay</td>\n",
              "      <td>2021-08-07</td>\n",
              "      <td>Sinovac</td>\n",
              "      <td>3234519</td>\n",
              "    </tr>\n",
              "    <tr>\n",
              "      <th>10962</th>\n",
              "      <td>Uruguay</td>\n",
              "      <td>2021-08-08</td>\n",
              "      <td>Oxford/AstraZeneca</td>\n",
              "      <td>84121</td>\n",
              "    </tr>\n",
              "    <tr>\n",
              "      <th>10963</th>\n",
              "      <td>Uruguay</td>\n",
              "      <td>2021-08-08</td>\n",
              "      <td>Pfizer/BioNTech</td>\n",
              "      <td>1562430</td>\n",
              "    </tr>\n",
              "    <tr>\n",
              "      <th>10964</th>\n",
              "      <td>Uruguay</td>\n",
              "      <td>2021-08-08</td>\n",
              "      <td>Sinovac</td>\n",
              "      <td>3234526</td>\n",
              "    </tr>\n",
              "  </tbody>\n",
              "</table>\n",
              "<p>10965 rows × 4 columns</p>\n",
              "</div>"
            ],
            "text/plain": [
              "      location        date             vaccine  total_vaccinations\n",
              "0      Austria  2021-01-08     Johnson&Johnson                   0\n",
              "1      Austria  2021-01-08             Moderna                   0\n",
              "2      Austria  2021-01-08  Oxford/AstraZeneca                   0\n",
              "3      Austria  2021-01-08     Pfizer/BioNTech               31020\n",
              "4      Austria  2021-01-15     Johnson&Johnson                   0\n",
              "...        ...         ...                 ...                 ...\n",
              "10960  Uruguay  2021-08-07     Pfizer/BioNTech             1562360\n",
              "10961  Uruguay  2021-08-07             Sinovac             3234519\n",
              "10962  Uruguay  2021-08-08  Oxford/AstraZeneca               84121\n",
              "10963  Uruguay  2021-08-08     Pfizer/BioNTech             1562430\n",
              "10964  Uruguay  2021-08-08             Sinovac             3234526\n",
              "\n",
              "[10965 rows x 4 columns]"
            ]
          },
          "metadata": {},
          "execution_count": 1
        }
      ]
    },
    {
      "cell_type": "markdown",
      "metadata": {
        "id": "xvly0X5zfARU"
      },
      "source": [
        "En la carga y visuzaliación de datos podemos ver los primeros y últimos que contiene el conjunto, con esto podemos observar que existen casi 11,000 registros de vacunanción y cada uno cuenta hasta con más de 1 millón de vacunas aplicadas."
      ]
    },
    {
      "cell_type": "markdown",
      "metadata": {
        "id": "BDIu3QzujzMe"
      },
      "source": [
        "## Variables:\n",
        "El conjunto de datos se interpreta como la cantidad de aplicaciones de vacunas a personas que se llevaron a cabo entre las fechas del 2021-01-08 al 2021-08-08, es decir 7 meses de recopilación de datos.\n",
        "\n",
        "*   location: representa el país donde se aplicó la vacuna\n",
        "*   date: la fecha en que se aplica en formato 'YYYY-MM-DD'\n",
        "*   vaccine: representa el fabricante de la vacuna\n",
        "*   total_vaccinations: la cantidad de vacunas que se aplicaron en esa\n"
      ]
    },
    {
      "cell_type": "markdown",
      "metadata": {
        "id": "hmfGaZ-af_OZ"
      },
      "source": [
        "## Frecuencia de aplicaciones por país\n",
        "\n",
        "*   ¿Cuál país ha tenido más aplicaciones a lo largo del tiempo?\n",
        "\n"
      ]
    },
    {
      "cell_type": "code",
      "metadata": {
        "colab": {
          "base_uri": "https://localhost:8080/"
        },
        "id": "I13bvMBvgU_v",
        "outputId": "d7da7f37-5214-4b17-a7c5-8689856e1c7b"
      },
      "source": [
        "from numpy.ma.core import sort\n",
        "\n",
        "frec_pais = vacunas.groupby(['location']).count()\n",
        "print(frec_pais)"
      ],
      "execution_count": 2,
      "outputs": [
        {
          "output_type": "stream",
          "name": "stdout",
          "text": [
            "               date  vaccine  total_vaccinations\n",
            "location                                        \n",
            "Austria         124      124                 124\n",
            "Belgium         104      104                 104\n",
            "Bulgaria        107      107                 107\n",
            "Chile           565      565                 565\n",
            "Croatia         116      116                 116\n",
            "Cyprus          100      100                 100\n",
            "Czechia         744      744                 744\n",
            "Denmark          95       95                  95\n",
            "Estonia         105      105                 105\n",
            "Finland         127      127                 127\n",
            "France          712      712                 712\n",
            "Germany         900      900                 900\n",
            "Hong Kong       336      336                 336\n",
            "Hungary         158      158                 158\n",
            "Iceland         884      884                 884\n",
            "Ireland         113      113                 113\n",
            "Italy           746      746                 746\n",
            "Japan           225      225                 225\n",
            "Latvia          749      749                 749\n",
            "Liechtenstein    52       52                  52\n",
            "Lithuania       731      731                 731\n",
            "Luxembourg      106      106                 106\n",
            "Malta            91       91                  91\n",
            "Netherlands     128      128                 128\n",
            "Poland          128      128                 128\n",
            "Portugal        122      122                 122\n",
            "Romania         669      669                 669\n",
            "Slovakia        118      118                 118\n",
            "Slovenia         98       98                  98\n",
            "Spain           124      124                 124\n",
            "Sweden           89       89                  89\n",
            "Switzerland     454      454                 454\n",
            "United States   556      556                 556\n",
            "Uruguay         489      489                 489\n"
          ]
        }
      ]
    },
    {
      "cell_type": "markdown",
      "metadata": {
        "id": "XHR9yvVzgpDz"
      },
      "source": [
        "Con los datos de arriba podemos observar los países que han sido vacunados y la cantidad de veces que fueron registrados como vacunados, en su mayoría podemos ver son países europeos"
      ]
    },
    {
      "cell_type": "markdown",
      "metadata": {
        "id": "kwVIHBSphLow"
      },
      "source": [
        "## Ordenando frecuencias"
      ]
    },
    {
      "cell_type": "code",
      "metadata": {
        "colab": {
          "base_uri": "https://localhost:8080/"
        },
        "id": "1_kErjkwhQdK",
        "outputId": "46f91a2f-f6b5-486c-99c7-006f2d4cd856"
      },
      "source": [
        "frec_pais_orden = frec_pais.sort_values('total_vaccinations', ascending = False)\n",
        "print(frec_pais_orden)"
      ],
      "execution_count": 4,
      "outputs": [
        {
          "output_type": "stream",
          "name": "stdout",
          "text": [
            "               date  vaccine  total_vaccinations\n",
            "location                                        \n",
            "Germany         900      900                 900\n",
            "Iceland         884      884                 884\n",
            "Latvia          749      749                 749\n",
            "Italy           746      746                 746\n",
            "Czechia         744      744                 744\n",
            "Lithuania       731      731                 731\n",
            "France          712      712                 712\n",
            "Romania         669      669                 669\n",
            "Chile           565      565                 565\n",
            "United States   556      556                 556\n",
            "Uruguay         489      489                 489\n",
            "Switzerland     454      454                 454\n",
            "Hong Kong       336      336                 336\n",
            "Japan           225      225                 225\n",
            "Hungary         158      158                 158\n",
            "Netherlands     128      128                 128\n",
            "Poland          128      128                 128\n",
            "Finland         127      127                 127\n",
            "Austria         124      124                 124\n",
            "Spain           124      124                 124\n",
            "Portugal        122      122                 122\n",
            "Slovakia        118      118                 118\n",
            "Croatia         116      116                 116\n",
            "Ireland         113      113                 113\n",
            "Bulgaria        107      107                 107\n",
            "Luxembourg      106      106                 106\n",
            "Estonia         105      105                 105\n",
            "Belgium         104      104                 104\n",
            "Cyprus          100      100                 100\n",
            "Slovenia         98       98                  98\n",
            "Denmark          95       95                  95\n",
            "Malta            91       91                  91\n",
            "Sweden           89       89                  89\n",
            "Liechtenstein    52       52                  52\n"
          ]
        }
      ]
    },
    {
      "cell_type": "markdown",
      "metadata": {
        "id": "1Dlap5aChkvz"
      },
      "source": [
        "Podemos observar como al ordenar los valores de frecuencia de vacunación de mayor a menos que los primeros 5 lugares estan entre los 740-900 veces en aplicación de vacunas, podemos decir que fueron los más afectados por el virus o los que más precaución tuvieron."
      ]
    },
    {
      "cell_type": "markdown",
      "metadata": {
        "id": "l5FugxQHiME5"
      },
      "source": [
        "## Visualizando frecuencias\n",
        "### Top 5 mayor frecuencia\n",
        "Se muestra el top cinco de los registros de los países con más aplicaciones de vacunas en fechas diferentes"
      ]
    },
    {
      "cell_type": "code",
      "metadata": {
        "colab": {
          "base_uri": "https://localhost:8080/",
          "height": 349
        },
        "id": "ekxuGq6Ribme",
        "outputId": "2b70f438-0b59-4b47-c6d7-b9051a3b588a"
      },
      "source": [
        "frec_pais_orden.head()['date'].plot(kind='bar', title='Frecuencias de aplicaciones', xlabel='Países', ylabel='Frecuencia')"
      ],
      "execution_count": 5,
      "outputs": [
        {
          "output_type": "execute_result",
          "data": {
            "text/plain": [
              "<matplotlib.axes._subplots.AxesSubplot at 0x7ff152e36690>"
            ]
          },
          "metadata": {},
          "execution_count": 5
        },
        {
          "output_type": "display_data",
          "data": {
            "image/png": "[encoded data removed]",
            "text/plain": [
              "<Figure size 432x288 with 1 Axes>"
            ]
          },
          "metadata": {
            "needs_background": "light"
          }
        }
      ]
    },
    {
      "cell_type": "markdown",
      "metadata": {
        "id": "NSvY6_fVi_Qu"
      },
      "source": [
        "Podemos ver cuales con los países con mayor frecuencia de aplicación de vacunas, siendo estos todos europeos, estando a la cabeza Alemania"
      ]
    },
    {
      "cell_type": "markdown",
      "metadata": {
        "id": "TnNqYu3UjUDc"
      },
      "source": [
        "### Top 5 menor frecuencia\n",
        "Países con menos aplicaciones en fecha diferentes"
      ]
    },
    {
      "cell_type": "code",
      "metadata": {
        "colab": {
          "base_uri": "https://localhost:8080/",
          "height": 371
        },
        "id": "iu4JoBw1jeIK",
        "outputId": "6fe7ba2c-1a2c-4eb3-a656-b6d3b87f2748"
      },
      "source": [
        "frec_pais_orden.tail()['date'].plot(kind='bar', title='Frecuencia de aplicaciones', xlabel='Países', ylabel='Frecuencia')"
      ],
      "execution_count": 6,
      "outputs": [
        {
          "output_type": "execute_result",
          "data": {
            "text/plain": [
              "<matplotlib.axes._subplots.AxesSubplot at 0x7ff152d88b90>"
            ]
          },
          "metadata": {},
          "execution_count": 6
        },
        {
          "output_type": "display_data",
          "data": {
            "image/png": "[encoded data removed]",
            "text/plain": [
              "<Figure size 432x288 with 1 Axes>"
            ]
          },
          "metadata": {
            "needs_background": "light"
          }
        }
      ]
    },
    {
      "cell_type": "markdown",
      "metadata": {
        "id": "XMEp8kF_jyY6"
      },
      "source": [
        "Podemos observar cuales son los paises con menor aplicación, ya sea porque el virus no tuvo fuerte presencia o porque no fue muy bien aceptada la vacunación."
      ]
    },
    {
      "cell_type": "markdown",
      "metadata": {
        "id": "NViLv4NXkGUO"
      },
      "source": [
        "## Frecuencia de aplicaciones por fabricante\n",
        "\n",
        "2.   ¿Cuál fabricante de vacunas ha tenido más aplicaciones a lo largo del tiempo?\n",
        "\n"
      ]
    },
    {
      "cell_type": "code",
      "metadata": {
        "colab": {
          "base_uri": "https://localhost:8080/"
        },
        "id": "jAkpzYMbkWyN",
        "outputId": "1890111c-2973-4cbd-a319-383081f1965c"
      },
      "source": [
        "frec_fabr = vacunas.groupby(['vaccine']).count()\n",
        "print(frec_fabr)"
      ],
      "execution_count": 7,
      "outputs": [
        {
          "output_type": "stream",
          "name": "stdout",
          "text": [
            "                    location  date  total_vaccinations\n",
            "vaccine                                               \n",
            "CanSino                   64    64                  64\n",
            "Johnson&Johnson         1658  1658                1658\n",
            "Moderna                 2765  2765                2765\n",
            "Oxford/AstraZeneca      2345  2345                2345\n",
            "Pfizer/BioNTech         3556  3556                3556\n",
            "Sinopharm/Beijing         25    25                  25\n",
            "Sinovac                  513   513                 513\n",
            "Sputnik V                 39    39                  39\n"
          ]
        }
      ]
    },
    {
      "cell_type": "markdown",
      "metadata": {
        "id": "xNjdRf4UkhQa"
      },
      "source": [
        "Podemos observar a todos los fabricantes de vacunas se han sido usado hasta el momento y la frecuencia de aplicación de estos"
      ]
    },
    {
      "cell_type": "markdown",
      "metadata": {
        "id": "Gpl7Zx_lk19b"
      },
      "source": [
        "## Ordenando frecuencias"
      ]
    },
    {
      "cell_type": "code",
      "metadata": {
        "colab": {
          "base_uri": "https://localhost:8080/"
        },
        "id": "rU2SO32Ok9jo",
        "outputId": "59a4e34a-e564-4d7d-b7b5-7dbd2b5cc6bb"
      },
      "source": [
        "frec_fabr_orden = frec_fabr.sort_values('total_vaccinations', ascending = False)\n",
        "print(frec_fabr_orden)"
      ],
      "execution_count": 10,
      "outputs": [
        {
          "output_type": "stream",
          "name": "stdout",
          "text": [
            "                    location  date  total_vaccinations\n",
            "vaccine                                               \n",
            "Pfizer/BioNTech         3556  3556                3556\n",
            "Moderna                 2765  2765                2765\n",
            "Oxford/AstraZeneca      2345  2345                2345\n",
            "Johnson&Johnson         1658  1658                1658\n",
            "Sinovac                  513   513                 513\n",
            "CanSino                   64    64                  64\n",
            "Sputnik V                 39    39                  39\n",
            "Sinopharm/Beijing         25    25                  25\n"
          ]
        }
      ]
    },
    {
      "cell_type": "markdown",
      "metadata": {
        "id": "TIgzC_BMlZDw"
      },
      "source": [
        "Podemos ver como la vacuna Pfizer/BioNTech es la mas usada para poder enfrentar al virus y la Sinopharm/Beijing siendo la menos utilizada ya sean esos números por la aceptación de las personas por alguna vacuna en concreto, la facilidad de distribución y producción de ambas o por su nivel de efectividad."
      ]
    },
    {
      "cell_type": "markdown",
      "metadata": {
        "id": "XFpJcHIkl8_E"
      },
      "source": [
        "## Visualización de frecuencias"
      ]
    },
    {
      "cell_type": "code",
      "metadata": {
        "colab": {
          "base_uri": "https://localhost:8080/",
          "height": 404
        },
        "id": "0noXhneVmB1K",
        "outputId": "f346d4e7-898f-4dc5-9254-4209eccf71c8"
      },
      "source": [
        "frec_fabr_orden['date'].plot(kind='bar', title='Frecuencia de aplicaciones', xlabel='Fabricantes', ylabel='Frecuencia')"
      ],
      "execution_count": 11,
      "outputs": [
        {
          "output_type": "execute_result",
          "data": {
            "text/plain": [
              "<matplotlib.axes._subplots.AxesSubplot at 0x7ff1528c6510>"
            ]
          },
          "metadata": {},
          "execution_count": 11
        },
        {
          "output_type": "display_data",
          "data": {
            "image/png": "[encoded data removed]",
            "text/plain": [
              "<Figure size 432x288 with 1 Axes>"
            ]
          },
          "metadata": {
            "needs_background": "light"
          }
        }
      ]
    },
    {
      "cell_type": "markdown",
      "metadata": {
        "id": "rtN_y0_CmPcR"
      },
      "source": [
        "De forma visual podemos ver como la vacuna Pfizer es por mucho la más usada contra el virus haciendo que exista la posibilidad de que con el tiempo sea la más usada en el mercado."
      ]
    },
    {
      "cell_type": "markdown",
      "metadata": {
        "id": "H4RPZE4SmrgP"
      },
      "source": [
        "## Suma de aplicaciones de vacunas por país\n",
        "\n",
        "3.   ¿Cuántas vacunas se ha aplicado por país?"
      ]
    },
    {
      "cell_type": "code",
      "metadata": {
        "colab": {
          "base_uri": "https://localhost:8080/"
        },
        "id": "w5uriHOom8E6",
        "outputId": "5b89226d-3c3d-4709-a21e-d06f8e71f86b"
      },
      "source": [
        "pais_sum = vacunas.groupby(['location']).sum('total_vaccinations')\n",
        "print(pais_sum)"
      ],
      "execution_count": 13,
      "outputs": [
        {
          "output_type": "stream",
          "name": "stdout",
          "text": [
            "               total_vaccinations\n",
            "location                         \n",
            "Austria                 118511334\n",
            "Belgium                 162354528\n",
            "Bulgaria                 27931197\n",
            "Chile                  2629159998\n",
            "Croatia                  38864087\n",
            "Cyprus                   12211016\n",
            "Czechia                 840566515\n",
            "Denmark                  75191003\n",
            "Estonia                  15626971\n",
            "Finland                  68408812\n",
            "France                 5540732366\n",
            "Germany                7657809082\n",
            "Hong Kong               382021660\n",
            "Hungary                 164704986\n",
            "Iceland                  38744648\n",
            "Ireland                  52553510\n",
            "Italy                  5418168374\n",
            "Japan                  3910422920\n",
            "Latvia                  111034630\n",
            "Liechtenstein              451823\n",
            "Lithuania               240077306\n",
            "Luxembourg                7664316\n",
            "Malta                     9976920\n",
            "Netherlands             234720727\n",
            "Poland                  438336578\n",
            "Portugal                145482899\n",
            "Romania                1037741287\n",
            "Slovakia                 56050405\n",
            "Slovenia                 21103238\n",
            "Spain                   651194863\n",
            "Sweden                  128990325\n",
            "Switzerland             736032309\n",
            "United States         41524152779\n",
            "Uruguay                 397732230\n"
          ]
        }
      ]
    },
    {
      "cell_type": "markdown",
      "metadata": {
        "id": "HmIuXoXButAK"
      },
      "source": [
        "Ahora podemos observar por país la cantidad de vacunas que fueron aplicadas en el periodo Enero-Ago 2021 siendo miles de millones las aplicaciónes tratando de cubrir a tantas personas no fuera posible."
      ]
    },
    {
      "cell_type": "markdown",
      "metadata": {
        "id": "xthtXEmmvD9d"
      },
      "source": [
        "## Ordenando Datos"
      ]
    },
    {
      "cell_type": "code",
      "metadata": {
        "colab": {
          "base_uri": "https://localhost:8080/"
        },
        "id": "uyfzm4RXvDM9",
        "outputId": "d4b9e252-2ba5-48ea-8bbf-0cedf6a68037"
      },
      "source": [
        "pais_sum_orden = pais_sum.sort_values('total_vaccinations', ascending=False)\n",
        "print(pais_sum_orden)"
      ],
      "execution_count": 14,
      "outputs": [
        {
          "output_type": "stream",
          "name": "stdout",
          "text": [
            "               total_vaccinations\n",
            "location                         \n",
            "United States         41524152779\n",
            "Germany                7657809082\n",
            "France                 5540732366\n",
            "Italy                  5418168374\n",
            "Japan                  3910422920\n",
            "Chile                  2629159998\n",
            "Romania                1037741287\n",
            "Czechia                 840566515\n",
            "Switzerland             736032309\n",
            "Spain                   651194863\n",
            "Poland                  438336578\n",
            "Uruguay                 397732230\n",
            "Hong Kong               382021660\n",
            "Lithuania               240077306\n",
            "Netherlands             234720727\n",
            "Hungary                 164704986\n",
            "Belgium                 162354528\n",
            "Portugal                145482899\n",
            "Sweden                  128990325\n",
            "Austria                 118511334\n",
            "Latvia                  111034630\n",
            "Denmark                  75191003\n",
            "Finland                  68408812\n",
            "Slovakia                 56050405\n",
            "Ireland                  52553510\n",
            "Croatia                  38864087\n",
            "Iceland                  38744648\n",
            "Bulgaria                 27931197\n",
            "Slovenia                 21103238\n",
            "Estonia                  15626971\n",
            "Cyprus                   12211016\n",
            "Malta                     9976920\n",
            "Luxembourg                7664316\n",
            "Liechtenstein              451823\n"
          ]
        }
      ]
    },
    {
      "cell_type": "markdown",
      "metadata": {
        "id": "0rTJfUlLvTko"
      },
      "source": [
        "Como veiamos arriba el país con mas frecuencia de aplicación fue Alemania pero el país con la mayor cantidad de vacunas aplicadas fue Estados Unidos superando los 41 mil millones podemos ver como este país de ha dado mucha importancia a la salud de sus ciudadanos así como volver lo más pronto posible a una normalidad."
      ]
    },
    {
      "cell_type": "markdown",
      "metadata": {
        "id": "jkUwO7iAv4BS"
      },
      "source": [
        "## Visualizando Datos\n",
        "Se visualiza la suma de los vacunados por país\n",
        "### Top 5 más vacunados"
      ]
    },
    {
      "cell_type": "code",
      "metadata": {
        "colab": {
          "base_uri": "https://localhost:8080/",
          "height": 371
        },
        "id": "mYamBtKav_Us",
        "outputId": "24063daf-76e3-4f42-939c-7621caf62df7"
      },
      "source": [
        "pais_sum_orden.head()['total_vaccinations'].plot(kind='bar', title='Personas vacunadas por País', xlabel='Países', ylabel='Suma de vacunados')"
      ],
      "execution_count": 15,
      "outputs": [
        {
          "output_type": "execute_result",
          "data": {
            "text/plain": [
              "<matplotlib.axes._subplots.AxesSubplot at 0x7ff15280d0d0>"
            ]
          },
          "metadata": {},
          "execution_count": 15
        },
        {
          "output_type": "display_data",
          "data": {
            "image/png": "[encoded data removed]",
            "text/plain": [
              "<Figure size 432x288 with 1 Axes>"
            ]
          },
          "metadata": {
            "needs_background": "light"
          }
        }
      ]
    },
    {
      "cell_type": "markdown",
      "metadata": {
        "id": "8mpBUh9KwRxa"
      },
      "source": [
        "Dentro de top 5 de países con mayor cantidad de vacunaciones, Estados Unidos supera por mucho a los demás haciendo parecer que los demás países no le dan la importancia necesaria a la salud de sus ciudadanos"
      ]
    },
    {
      "cell_type": "markdown",
      "metadata": {
        "id": "zroYHWblwwn5"
      },
      "source": [
        "### Top 5 menos vacunados"
      ]
    },
    {
      "cell_type": "code",
      "metadata": {
        "colab": {
          "base_uri": "https://localhost:8080/",
          "height": 371
        },
        "id": "jo4TabDZw59p",
        "outputId": "9097222d-6868-4b0a-e27f-2d15018934d3"
      },
      "source": [
        "pais_sum_orden.tail()['total_vaccinations'].plot(kind='bar', title='Personas vacunadas por país', xlabel='Países', ylabel='Suma de vacunados')"
      ],
      "execution_count": 16,
      "outputs": [
        {
          "output_type": "execute_result",
          "data": {
            "text/plain": [
              "<matplotlib.axes._subplots.AxesSubplot at 0x7ff1527430d0>"
            ]
          },
          "metadata": {},
          "execution_count": 16
        },
        {
          "output_type": "display_data",
          "data": {
            "image/png": "[encoded data removed]",
            "text/plain": [
              "<Figure size 432x288 with 1 Axes>"
            ]
          },
          "metadata": {
            "needs_background": "light"
          }
        }
      ]
    },
    {
      "cell_type": "markdown",
      "metadata": {
        "id": "7D1amiRsxLcx"
      },
      "source": [
        "Así como hay países que han registrado una gran cantidad de vacunación también hay países que no tienen una gran cantidad de vacunados siendo estos con 15 millones hacia abajos en cantidad de vacunación, sigue siendo un número bastante alto, se puede pensar que estos países no hay muchos contagios o no consideran de gran importancia la vacuna"
      ]
    },
    {
      "cell_type": "markdown",
      "metadata": {
        "id": "Nc08LI67zDns"
      },
      "source": [
        "## Suma de aplicaciones por fabricante\n",
        "\n",
        "4.   ¿Cuántas vacunas se han aplicado por fabricante?\n"
      ]
    },
    {
      "cell_type": "code",
      "metadata": {
        "colab": {
          "base_uri": "https://localhost:8080/"
        },
        "id": "VzRnCLkZzOcU",
        "outputId": "8b9a9578-ee16-4f4b-cc65-6bff1340f64c"
      },
      "source": [
        "fabr_sum = vacunas.groupby(['vaccine']).sum('total_vaccinations')\n",
        "print(fabr_sum)"
      ],
      "execution_count": 17,
      "outputs": [
        {
          "output_type": "stream",
          "name": "stdout",
          "text": [
            "                    total_vaccinations\n",
            "vaccine                               \n",
            "CanSino                       22498727\n",
            "Johnson&Johnson             1748108075\n",
            "Moderna                    20286391475\n",
            "Oxford/AstraZeneca          3631156763\n",
            "Pfizer/BioNTech            44569701150\n",
            "Sinopharm/Beijing             34668398\n",
            "Sinovac                     2572589889\n",
            "Sputnik V                     29611165\n"
          ]
        }
      ]
    },
    {
      "cell_type": "markdown",
      "metadata": {
        "id": "u93445-Dzblk"
      },
      "source": [
        "Podemos observar la cantidad de vacunados que hay por fabricante, los numeros superan los millones lo cual es un buen indicio de que la vacunación va sin problemas en especial en países europeos ya que son mayoría en este conjunto de datos"
      ]
    },
    {
      "cell_type": "code",
      "metadata": {
        "colab": {
          "base_uri": "https://localhost:8080/",
          "height": 404
        },
        "id": "yGWMf5WY0BGp",
        "outputId": "3dacea50-97ed-4c7d-8066-3a2d58cad9e7"
      },
      "source": [
        "fabr_sum['total_vaccinations'].plot(kind='bar', title='Personas vacunadas por fabricante', xlabel='Fabricantes', ylabel='Suma de vacunados')"
      ],
      "execution_count": 18,
      "outputs": [
        {
          "output_type": "execute_result",
          "data": {
            "text/plain": [
              "<matplotlib.axes._subplots.AxesSubplot at 0x7ff1526a8c50>"
            ]
          },
          "metadata": {},
          "execution_count": 18
        },
        {
          "output_type": "display_data",
          "data": {
            "image/png": "[encoded data removed]",
            "text/plain": [
              "<Figure size 432x288 with 1 Axes>"
            ]
          },
          "metadata": {
            "needs_background": "light"
          }
        }
      ]
    },
    {
      "cell_type": "markdown",
      "metadata": {
        "id": "gRyzPZVY0UNy"
      },
      "source": [
        "Podemos ver como Pfizer es el dominante con respecto a la aplicación de vacunas hasta puede considerarse que será el que controle el mercado de vacunación en los siguientes meeses."
      ]
    },
    {
      "cell_type": "markdown",
      "metadata": {
        "id": "S7IH32qa0mPJ"
      },
      "source": [
        "## Suma de aplicaciones por meses\n",
        "\n",
        "5.   ¿En qué mes se han aplicado más vacunas?"
      ]
    },
    {
      "cell_type": "code",
      "metadata": {
        "colab": {
          "base_uri": "https://localhost:8080/"
        },
        "id": "0qD2evI503Zu",
        "outputId": "8e16d00e-f415-4904-9165-0123f1b793f9"
      },
      "source": [
        "import datetime as dt\n",
        "\n",
        "vacunas['date'] = pd.to_datetime(vacunas['date'])\n",
        "mes_sum = vacunas.groupby(vacunas['date'].dt.month).sum('total_vaccinations')\n",
        "print(mes_sum)"
      ],
      "execution_count": 20,
      "outputs": [
        {
          "output_type": "stream",
          "name": "stdout",
          "text": [
            "      total_vaccinations\n",
            "date                    \n",
            "1              452121623\n",
            "2             1883457386\n",
            "3             4765802019\n",
            "4             8608005615\n",
            "5            12963339621\n",
            "6            17070467058\n",
            "7            21745775771\n",
            "8             5404963283\n",
            "12                793266\n"
          ]
        }
      ]
    },
    {
      "cell_type": "markdown",
      "metadata": {
        "id": "b2-uvwov1Vs5"
      },
      "source": [
        "Por mes podemos ver la cantidad de vacunas aplicadas, como este solo contiene fechas que estan entre Enero y Agosto podemos que julio es el mes con más vacunas y luego le siguien junio y mayo, puede verse que en esos meses es cuando hubó algún pico de contagiados por el virus."
      ]
    },
    {
      "cell_type": "markdown",
      "metadata": {
        "id": "7F1_g63s12LT"
      },
      "source": [
        "## Visualización de datos"
      ]
    },
    {
      "cell_type": "code",
      "metadata": {
        "colab": {
          "base_uri": "https://localhost:8080/",
          "height": 316
        },
        "id": "jdSb4wy616Yp",
        "outputId": "a4afdce3-8ede-4615-bea0-16a9ccdb5dad"
      },
      "source": [
        "mes_sum['total_vaccinations'].plot(kind='bar', title='Vacunaciones por mes', xlabel='Meses', ylabel='Suma de vacunados')"
      ],
      "execution_count": 21,
      "outputs": [
        {
          "output_type": "execute_result",
          "data": {
            "text/plain": [
              "<matplotlib.axes._subplots.AxesSubplot at 0x7ff1522f7050>"
            ]
          },
          "metadata": {},
          "execution_count": 21
        },
        {
          "output_type": "display_data",
          "data": {
            "image/png": "[encoded data removed]",
            "text/plain": [
              "<Figure size 432x288 with 1 Axes>"
            ]
          },
          "metadata": {
            "needs_background": "light"
          }
        }
      ]
    },
    {
      "cell_type": "markdown",
      "metadata": {
        "id": "490Dch1J2Lri"
      },
      "source": [
        "Podemos ver como con el paso de los meses la cantidad de vacunados va incrementando ya sea por un nuevo pico de contagios o porque hay más conciencia sobre la gravedad del virus"
      ]
    }
  ]
}