{
  "nbformat": 4,
  "nbformat_minor": 0,
  "metadata": {
    "colab": {
      "name": "Caso 2 Análisis de películas.ipynb",
      "provenance": [],
      "authorship_tag": "ABX9TyNnRlqaxQh3++E2kauGRFiG",
      "include_colab_link": true
    },
    "kernelspec": {
      "name": "python3",
      "display_name": "Python 3"
    },
    "language_info": {
      "name": "python"
    }
  },
  "cells": [
    {
      "cell_type": "markdown",
      "metadata": {
        "id": "view-in-github",
        "colab_type": "text"
      },
      "source": [
        "<a href=\"https://colab.research.google.com/github/kixtter/AnalisisInteligenteDatos/blob/main/Unidad%201/Caso_2_An%C3%A1lisis_de_pel%C3%ADculas.ipynb\" target=\"_parent\"><img src=\"https://colab.research.google.com/assets/colab-badge.svg\" alt=\"Open In Colab\"/></a>"
      ]
    },
    {
      "cell_type": "markdown",
      "metadata": {
        "id": "s1GL0rZIvtkX"
      },
      "source": [
        "# Análisis Descriptivo de películas\n",
        "\n",
        "## Objetivo\n",
        "Llevar a cabo un análisis descriptivo de los campos que posee un conjunto de datos sobre películas\n",
        "\n",
        "## Desarrollo\n",
        "Se importan los datos sobre películas desde un repositorio de github 'https://github.com/rpizarrog/Analisis-Inteligente-de-datos/blob/main/datos/movies-db.csv'"
      ]
    },
    {
      "cell_type": "code",
      "metadata": {
        "colab": {
          "base_uri": "https://localhost:8080/",
          "height": 990
        },
        "id": "GDj_H-dtvM1a",
        "outputId": "6b79ab0c-6e87-476d-e9f5-5782ffc9cc9b"
      },
      "source": [
        "import pandas as pd\n",
        "\n",
        "movies = pd.read_csv('https://raw.githubusercontent.com/rpizarrog/Analisis-Inteligente-de-datos/main/datos/movies-db.csv')\n",
        "movies"
      ],
      "execution_count": 9,
      "outputs": [
        {
          "output_type": "execute_result",
          "data": {
            "text/html": [
              "<div>\n",
              "<style scoped>\n",
              "    .dataframe tbody tr th:only-of-type {\n",
              "        vertical-align: middle;\n",
              "    }\n",
              "\n",
              "    .dataframe tbody tr th {\n",
              "        vertical-align: top;\n",
              "    }\n",
              "\n",
              "    .dataframe thead th {\n",
              "        text-align: right;\n",
              "    }\n",
              "</style>\n",
              "<table border=\"1\" class=\"dataframe\">\n",
              "  <thead>\n",
              "    <tr style=\"text-align: right;\">\n",
              "      <th></th>\n",
              "      <th>name</th>\n",
              "      <th>year</th>\n",
              "      <th>length_min</th>\n",
              "      <th>genre</th>\n",
              "      <th>average_rating</th>\n",
              "      <th>cost_millions</th>\n",
              "      <th>foreign</th>\n",
              "      <th>age_restriction</th>\n",
              "    </tr>\n",
              "  </thead>\n",
              "  <tbody>\n",
              "    <tr>\n",
              "      <th>0</th>\n",
              "      <td>Toy Story</td>\n",
              "      <td>1995</td>\n",
              "      <td>81</td>\n",
              "      <td>Animation</td>\n",
              "      <td>8.3</td>\n",
              "      <td>30.0</td>\n",
              "      <td>0</td>\n",
              "      <td>0</td>\n",
              "    </tr>\n",
              "    <tr>\n",
              "      <th>1</th>\n",
              "      <td>Akira</td>\n",
              "      <td>1998</td>\n",
              "      <td>125</td>\n",
              "      <td>Animation</td>\n",
              "      <td>8.1</td>\n",
              "      <td>10.4</td>\n",
              "      <td>1</td>\n",
              "      <td>14</td>\n",
              "    </tr>\n",
              "    <tr>\n",
              "      <th>2</th>\n",
              "      <td>The Breakfast Club</td>\n",
              "      <td>1985</td>\n",
              "      <td>97</td>\n",
              "      <td>Drama</td>\n",
              "      <td>7.9</td>\n",
              "      <td>1.0</td>\n",
              "      <td>0</td>\n",
              "      <td>14</td>\n",
              "    </tr>\n",
              "    <tr>\n",
              "      <th>3</th>\n",
              "      <td>The Artist</td>\n",
              "      <td>2011</td>\n",
              "      <td>100</td>\n",
              "      <td>Romance</td>\n",
              "      <td>8.0</td>\n",
              "      <td>15.0</td>\n",
              "      <td>1</td>\n",
              "      <td>12</td>\n",
              "    </tr>\n",
              "    <tr>\n",
              "      <th>4</th>\n",
              "      <td>Modern Times</td>\n",
              "      <td>1936</td>\n",
              "      <td>87</td>\n",
              "      <td>Comedy</td>\n",
              "      <td>8.6</td>\n",
              "      <td>1.5</td>\n",
              "      <td>0</td>\n",
              "      <td>10</td>\n",
              "    </tr>\n",
              "    <tr>\n",
              "      <th>5</th>\n",
              "      <td>Fight Club</td>\n",
              "      <td>1999</td>\n",
              "      <td>139</td>\n",
              "      <td>Drama</td>\n",
              "      <td>8.9</td>\n",
              "      <td>63.0</td>\n",
              "      <td>0</td>\n",
              "      <td>18</td>\n",
              "    </tr>\n",
              "    <tr>\n",
              "      <th>6</th>\n",
              "      <td>City of God</td>\n",
              "      <td>2002</td>\n",
              "      <td>130</td>\n",
              "      <td>Crime</td>\n",
              "      <td>8.7</td>\n",
              "      <td>3.3</td>\n",
              "      <td>1</td>\n",
              "      <td>18</td>\n",
              "    </tr>\n",
              "    <tr>\n",
              "      <th>7</th>\n",
              "      <td>The Untouchables</td>\n",
              "      <td>1987</td>\n",
              "      <td>119</td>\n",
              "      <td>Drama</td>\n",
              "      <td>7.9</td>\n",
              "      <td>25.0</td>\n",
              "      <td>0</td>\n",
              "      <td>14</td>\n",
              "    </tr>\n",
              "    <tr>\n",
              "      <th>8</th>\n",
              "      <td>Star Wars Episode IV</td>\n",
              "      <td>1977</td>\n",
              "      <td>121</td>\n",
              "      <td>Action</td>\n",
              "      <td>8.7</td>\n",
              "      <td>11.0</td>\n",
              "      <td>0</td>\n",
              "      <td>10</td>\n",
              "    </tr>\n",
              "    <tr>\n",
              "      <th>9</th>\n",
              "      <td>American Beauty</td>\n",
              "      <td>1999</td>\n",
              "      <td>122</td>\n",
              "      <td>Drama</td>\n",
              "      <td>8.4</td>\n",
              "      <td>15.0</td>\n",
              "      <td>0</td>\n",
              "      <td>14</td>\n",
              "    </tr>\n",
              "    <tr>\n",
              "      <th>10</th>\n",
              "      <td>Room</td>\n",
              "      <td>2015</td>\n",
              "      <td>118</td>\n",
              "      <td>Drama</td>\n",
              "      <td>8.3</td>\n",
              "      <td>13.0</td>\n",
              "      <td>1</td>\n",
              "      <td>14</td>\n",
              "    </tr>\n",
              "    <tr>\n",
              "      <th>11</th>\n",
              "      <td>Dr. Strangelove</td>\n",
              "      <td>1964</td>\n",
              "      <td>94</td>\n",
              "      <td>Comedy</td>\n",
              "      <td>8.5</td>\n",
              "      <td>1.8</td>\n",
              "      <td>1</td>\n",
              "      <td>10</td>\n",
              "    </tr>\n",
              "    <tr>\n",
              "      <th>12</th>\n",
              "      <td>The Ring</td>\n",
              "      <td>1998</td>\n",
              "      <td>95</td>\n",
              "      <td>Horror</td>\n",
              "      <td>7.3</td>\n",
              "      <td>1.2</td>\n",
              "      <td>1</td>\n",
              "      <td>18</td>\n",
              "    </tr>\n",
              "    <tr>\n",
              "      <th>13</th>\n",
              "      <td>Monty Python and the Holy Grail</td>\n",
              "      <td>1975</td>\n",
              "      <td>91</td>\n",
              "      <td>Comedy</td>\n",
              "      <td>8.3</td>\n",
              "      <td>0.4</td>\n",
              "      <td>1</td>\n",
              "      <td>18</td>\n",
              "    </tr>\n",
              "    <tr>\n",
              "      <th>14</th>\n",
              "      <td>High School Musical</td>\n",
              "      <td>2006</td>\n",
              "      <td>98</td>\n",
              "      <td>Comedy</td>\n",
              "      <td>5.2</td>\n",
              "      <td>4.2</td>\n",
              "      <td>0</td>\n",
              "      <td>0</td>\n",
              "    </tr>\n",
              "    <tr>\n",
              "      <th>15</th>\n",
              "      <td>Shaun of the Dead</td>\n",
              "      <td>2004</td>\n",
              "      <td>99</td>\n",
              "      <td>Horror</td>\n",
              "      <td>8.0</td>\n",
              "      <td>6.1</td>\n",
              "      <td>1</td>\n",
              "      <td>18</td>\n",
              "    </tr>\n",
              "    <tr>\n",
              "      <th>16</th>\n",
              "      <td>Taxi Driver</td>\n",
              "      <td>1976</td>\n",
              "      <td>113</td>\n",
              "      <td>Crime</td>\n",
              "      <td>8.3</td>\n",
              "      <td>1.3</td>\n",
              "      <td>1</td>\n",
              "      <td>14</td>\n",
              "    </tr>\n",
              "    <tr>\n",
              "      <th>17</th>\n",
              "      <td>The Shawshank Redemption</td>\n",
              "      <td>1994</td>\n",
              "      <td>142</td>\n",
              "      <td>Crime</td>\n",
              "      <td>9.3</td>\n",
              "      <td>25.0</td>\n",
              "      <td>0</td>\n",
              "      <td>16</td>\n",
              "    </tr>\n",
              "    <tr>\n",
              "      <th>18</th>\n",
              "      <td>Interstellar</td>\n",
              "      <td>2014</td>\n",
              "      <td>169</td>\n",
              "      <td>Adventure</td>\n",
              "      <td>8.6</td>\n",
              "      <td>165.0</td>\n",
              "      <td>0</td>\n",
              "      <td>10</td>\n",
              "    </tr>\n",
              "    <tr>\n",
              "      <th>19</th>\n",
              "      <td>Casino</td>\n",
              "      <td>1995</td>\n",
              "      <td>178</td>\n",
              "      <td>Biography</td>\n",
              "      <td>8.2</td>\n",
              "      <td>50.0</td>\n",
              "      <td>0</td>\n",
              "      <td>18</td>\n",
              "    </tr>\n",
              "    <tr>\n",
              "      <th>20</th>\n",
              "      <td>The Goodfellas</td>\n",
              "      <td>1990</td>\n",
              "      <td>145</td>\n",
              "      <td>Biography</td>\n",
              "      <td>8.7</td>\n",
              "      <td>25.0</td>\n",
              "      <td>0</td>\n",
              "      <td>14</td>\n",
              "    </tr>\n",
              "    <tr>\n",
              "      <th>21</th>\n",
              "      <td>Blue is the Warmest Colour</td>\n",
              "      <td>2013</td>\n",
              "      <td>179</td>\n",
              "      <td>Romance</td>\n",
              "      <td>7.8</td>\n",
              "      <td>4.5</td>\n",
              "      <td>1</td>\n",
              "      <td>18</td>\n",
              "    </tr>\n",
              "    <tr>\n",
              "      <th>22</th>\n",
              "      <td>Black Swan</td>\n",
              "      <td>2010</td>\n",
              "      <td>108</td>\n",
              "      <td>Thriller</td>\n",
              "      <td>8.0</td>\n",
              "      <td>13.0</td>\n",
              "      <td>0</td>\n",
              "      <td>16</td>\n",
              "    </tr>\n",
              "    <tr>\n",
              "      <th>23</th>\n",
              "      <td>Back to the Future</td>\n",
              "      <td>1985</td>\n",
              "      <td>116</td>\n",
              "      <td>Sci-fi</td>\n",
              "      <td>8.5</td>\n",
              "      <td>19.0</td>\n",
              "      <td>0</td>\n",
              "      <td>0</td>\n",
              "    </tr>\n",
              "    <tr>\n",
              "      <th>24</th>\n",
              "      <td>The Wave</td>\n",
              "      <td>2008</td>\n",
              "      <td>107</td>\n",
              "      <td>Thriller</td>\n",
              "      <td>7.6</td>\n",
              "      <td>5.5</td>\n",
              "      <td>1</td>\n",
              "      <td>16</td>\n",
              "    </tr>\n",
              "    <tr>\n",
              "      <th>25</th>\n",
              "      <td>Whiplash</td>\n",
              "      <td>2014</td>\n",
              "      <td>106</td>\n",
              "      <td>Drama</td>\n",
              "      <td>8.5</td>\n",
              "      <td>3.3</td>\n",
              "      <td>1</td>\n",
              "      <td>12</td>\n",
              "    </tr>\n",
              "    <tr>\n",
              "      <th>26</th>\n",
              "      <td>The Grand Hotel Budapest</td>\n",
              "      <td>2014</td>\n",
              "      <td>100</td>\n",
              "      <td>Crime</td>\n",
              "      <td>8.1</td>\n",
              "      <td>25.5</td>\n",
              "      <td>0</td>\n",
              "      <td>14</td>\n",
              "    </tr>\n",
              "    <tr>\n",
              "      <th>27</th>\n",
              "      <td>Jumanji</td>\n",
              "      <td>1995</td>\n",
              "      <td>104</td>\n",
              "      <td>Fantasy</td>\n",
              "      <td>6.9</td>\n",
              "      <td>65.0</td>\n",
              "      <td>0</td>\n",
              "      <td>12</td>\n",
              "    </tr>\n",
              "    <tr>\n",
              "      <th>28</th>\n",
              "      <td>The Eternal Sunshine of the Spotless Mind</td>\n",
              "      <td>2004</td>\n",
              "      <td>108</td>\n",
              "      <td>Drama</td>\n",
              "      <td>8.3</td>\n",
              "      <td>20.0</td>\n",
              "      <td>0</td>\n",
              "      <td>14</td>\n",
              "    </tr>\n",
              "    <tr>\n",
              "      <th>29</th>\n",
              "      <td>Chicago</td>\n",
              "      <td>2002</td>\n",
              "      <td>113</td>\n",
              "      <td>Comedy</td>\n",
              "      <td>7.2</td>\n",
              "      <td>45.0</td>\n",
              "      <td>0</td>\n",
              "      <td>12</td>\n",
              "    </tr>\n",
              "  </tbody>\n",
              "</table>\n",
              "</div>"
            ],
            "text/plain": [
              "                                         name  year  ...  foreign age_restriction\n",
              "0                                   Toy Story  1995  ...        0               0\n",
              "1                                       Akira  1998  ...        1              14\n",
              "2                          The Breakfast Club  1985  ...        0              14\n",
              "3                                  The Artist  2011  ...        1              12\n",
              "4                                Modern Times  1936  ...        0              10\n",
              "5                                  Fight Club  1999  ...        0              18\n",
              "6                                 City of God  2002  ...        1              18\n",
              "7                            The Untouchables  1987  ...        0              14\n",
              "8                        Star Wars Episode IV  1977  ...        0              10\n",
              "9                             American Beauty  1999  ...        0              14\n",
              "10                                       Room  2015  ...        1              14\n",
              "11                            Dr. Strangelove  1964  ...        1              10\n",
              "12                                   The Ring  1998  ...        1              18\n",
              "13            Monty Python and the Holy Grail  1975  ...        1              18\n",
              "14                        High School Musical  2006  ...        0               0\n",
              "15                          Shaun of the Dead  2004  ...        1              18\n",
              "16                                Taxi Driver  1976  ...        1              14\n",
              "17                   The Shawshank Redemption  1994  ...        0              16\n",
              "18                               Interstellar  2014  ...        0              10\n",
              "19                                     Casino  1995  ...        0              18\n",
              "20                             The Goodfellas  1990  ...        0              14\n",
              "21                 Blue is the Warmest Colour  2013  ...        1              18\n",
              "22                                 Black Swan  2010  ...        0              16\n",
              "23                         Back to the Future  1985  ...        0               0\n",
              "24                                   The Wave  2008  ...        1              16\n",
              "25                                   Whiplash  2014  ...        1              12\n",
              "26                   The Grand Hotel Budapest  2014  ...        0              14\n",
              "27                                    Jumanji  1995  ...        0              12\n",
              "28  The Eternal Sunshine of the Spotless Mind  2004  ...        0              14\n",
              "29                                    Chicago  2002  ...        0              12\n",
              "\n",
              "[30 rows x 8 columns]"
            ]
          },
          "metadata": {},
          "execution_count": 9
        }
      ]
    },
    {
      "cell_type": "markdown",
      "metadata": {
        "id": "_uy-nUmKxT2I"
      },
      "source": [
        "## Variables de interes\n",
        "Se sacan estadisticas de las variables interes que posee el conjunto de datos(duración, rating, costo), haciendo uso de describe() podemos obtener lo que buscamos que seria el promedio, desviación estandar, minimo y maximo.\n",
        "\n",
        "### Duración de películas"
      ]
    },
    {
      "cell_type": "code",
      "metadata": {
        "colab": {
          "base_uri": "https://localhost:8080/"
        },
        "id": "QwUeB62bxkYh",
        "outputId": "97de54e2-4a6c-43c5-fbd2-6deb63af728c"
      },
      "source": [
        "movies['length_min'].describe()"
      ],
      "execution_count": 10,
      "outputs": [
        {
          "output_type": "execute_result",
          "data": {
            "text/plain": [
              "count     30.000000\n",
              "mean     116.800000\n",
              "std       25.306943\n",
              "min       81.000000\n",
              "25%       99.250000\n",
              "50%      110.500000\n",
              "75%      124.250000\n",
              "max      179.000000\n",
              "Name: length_min, dtype: float64"
            ]
          },
          "metadata": {},
          "execution_count": 10
        }
      ]
    },
    {
      "cell_type": "markdown",
      "metadata": {
        "id": "SwpZNKSt-Kl9"
      },
      "source": [
        "### Rating de películas"
      ]
    },
    {
      "cell_type": "code",
      "metadata": {
        "colab": {
          "base_uri": "https://localhost:8080/"
        },
        "id": "oGYUOzzWyjFw",
        "outputId": "e0912e79-40b4-48a0-a44c-68fa3d37732f"
      },
      "source": [
        "movies['average_rating'].describe()"
      ],
      "execution_count": 11,
      "outputs": [
        {
          "output_type": "execute_result",
          "data": {
            "text/plain": [
              "count    30.000000\n",
              "mean      8.103333\n",
              "std       0.747171\n",
              "min       5.200000\n",
              "25%       7.925000\n",
              "50%       8.300000\n",
              "75%       8.500000\n",
              "max       9.300000\n",
              "Name: average_rating, dtype: float64"
            ]
          },
          "metadata": {},
          "execution_count": 11
        }
      ]
    },
    {
      "cell_type": "markdown",
      "metadata": {
        "id": "VCbOWwMh-OpW"
      },
      "source": [
        "### Costo de producción"
      ]
    },
    {
      "cell_type": "code",
      "metadata": {
        "colab": {
          "base_uri": "https://localhost:8080/"
        },
        "id": "4u_YwRduyi1m",
        "outputId": "0362a0f6-66e2-42fb-e2c3-70ea96a99b55"
      },
      "source": [
        "movies['cost_millions'].describe()"
      ],
      "execution_count": 12,
      "outputs": [
        {
          "output_type": "execute_result",
          "data": {
            "text/plain": [
              "count     30.000000\n",
              "mean      22.300000\n",
              "std       32.358775\n",
              "min        0.400000\n",
              "25%        3.525000\n",
              "50%       13.000000\n",
              "75%       25.000000\n",
              "max      165.000000\n",
              "Name: cost_millions, dtype: float64"
            ]
          },
          "metadata": {},
          "execution_count": 12
        }
      ]
    },
    {
      "cell_type": "markdown",
      "metadata": {
        "id": "LeGjHWkv0C91"
      },
      "source": [
        "## Análisis de genéros de películas\n",
        "Conocer la frecuencias en que se repiten los genéros"
      ]
    },
    {
      "cell_type": "code",
      "metadata": {
        "colab": {
          "base_uri": "https://localhost:8080/"
        },
        "id": "bjrv_Ve-0Udz",
        "outputId": "826ca959-fb44-4043-fdf0-da95dfbf84b7"
      },
      "source": [
        "generos = movies['genre'].sort_values()\n",
        "for x in generos.drop_duplicates():\n",
        "  print(str(x),'-', len(generos[generos == x]))"
      ],
      "execution_count": 49,
      "outputs": [
        {
          "output_type": "stream",
          "name": "stdout",
          "text": [
            "Action - 1\n",
            "Adventure - 1\n",
            "Animation - 2\n",
            "Biography - 2\n",
            "Comedy - 5\n",
            "Crime - 4\n",
            "Drama - 7\n",
            "Fantasy - 1\n",
            "Horror - 2\n",
            "Romance - 2\n",
            "Sci-fi - 1\n",
            "Thriller - 2\n"
          ]
        }
      ]
    },
    {
      "cell_type": "markdown",
      "metadata": {
        "id": "E15NDEDX7i4U"
      },
      "source": [
        "## Histogramas\n",
        "Se busca visualizar de forma gráfica las variables de interes para poder interpretar los resultados\n",
        "\n",
        "### Duración de las películas\n"
      ]
    },
    {
      "cell_type": "code",
      "metadata": {
        "colab": {
          "base_uri": "https://localhost:8080/",
          "height": 295
        },
        "id": "xSWChz7h70P9",
        "outputId": "25949a2d-2bc5-4c26-94b4-27ba10a3346b"
      },
      "source": [
        "import matplotlib.pyplot as plot\n",
        "\n",
        "plot.hist(x=movies['length_min'], color='#00DDBB', rwidth=0.90)\n",
        "plot.title('Histograma duración de películas')\n",
        "plot.xlabel('Duración')\n",
        "plot.ylabel('Cantidad')\n",
        "\n",
        "plot.show()"
      ],
      "execution_count": 54,
      "outputs": [
        {
          "output_type": "display_data",
          "data": {
            "image/png": "[encoded data removed]",
            "text/plain": [
              "<Figure size 432x288 with 1 Axes>"
            ]
          },
          "metadata": {
            "needs_background": "light"
          }
        }
      ]
    },
    {
      "cell_type": "markdown",
      "metadata": {
        "id": "gVyWLQi89Bpc"
      },
      "source": [
        "### Rating de películas"
      ]
    },
    {
      "cell_type": "code",
      "metadata": {
        "colab": {
          "base_uri": "https://localhost:8080/",
          "height": 295
        },
        "id": "t2aMgT6970v1",
        "outputId": "ec9d47ab-1efa-419d-d45d-b5ea4f36ea2e"
      },
      "source": [
        "plot.hist(x=movies['average_rating'], color='#FFEE44', rwidth=0.90)\n",
        "plot.title('Histograma rating')\n",
        "plot.xlabel('Rating')\n",
        "plot.ylabel('Cantidad')\n",
        "\n",
        "plot.show()"
      ],
      "execution_count": 55,
      "outputs": [
        {
          "output_type": "display_data",
          "data": {
            "image/png": "[encoded data removed]",
            "text/plain": [
              "<Figure size 432x288 with 1 Axes>"
            ]
          },
          "metadata": {
            "needs_background": "light"
          }
        }
      ]
    },
    {
      "cell_type": "markdown",
      "metadata": {
        "id": "DAbZJ_fZ9GJk"
      },
      "source": [
        "### Costo de producción"
      ]
    },
    {
      "cell_type": "code",
      "metadata": {
        "colab": {
          "base_uri": "https://localhost:8080/",
          "height": 295
        },
        "id": "mn-OkBrP71DM",
        "outputId": "0c6c735e-343b-4532-e1c5-a8377fee61a8"
      },
      "source": [
        "plot.hist(x=movies['cost_millions'], color='#339966', rwidth=0.90)\n",
        "plot.title('Histograma costo de producción')\n",
        "plot.xlabel('Costos')\n",
        "plot.ylabel('Cantidad')\n",
        "\n",
        "plot.show()"
      ],
      "execution_count": 57,
      "outputs": [
        {
          "output_type": "display_data",
          "data": {
            "image/png": "[encoded data removed]",
            "text/plain": [
              "<Figure size 432x288 with 1 Axes>"
            ]
          },
          "metadata": {
            "needs_background": "light"
          }
        }
      ]
    },
    {
      "cell_type": "markdown",
      "metadata": {
        "id": "tiBiG6KU9JcA"
      },
      "source": [
        "### Genéro de las películas"
      ]
    },
    {
      "cell_type": "code",
      "metadata": {
        "colab": {
          "base_uri": "https://localhost:8080/",
          "height": 337
        },
        "id": "csVRhmiq9OBo",
        "outputId": "3cd5cb71-52ad-4c17-8cc4-a83e59c6ef93"
      },
      "source": [
        "plot.hist(x=movies['genre'].sort_values(), color='#E0A1A7', rwidth=0.90)\n",
        "plot.title('Histograma de genéro')\n",
        "plot.xlabel('Genero')\n",
        "plot.xticks(rotation = 90)\n",
        "plot.ylabel('Cantidad')\n",
        "\n",
        "plot.show()"
      ],
      "execution_count": 67,
      "outputs": [
        {
          "output_type": "display_data",
          "data": {
            "image/png": "[encoded data removed]",
            "text/plain": [
              "<Figure size 432x288 with 1 Axes>"
            ]
          },
          "metadata": {
            "needs_background": "light"
          }
        }
      ]
    },
    {
      "cell_type": "markdown",
      "metadata": {
        "id": "l6R3p0qP9xuO"
      },
      "source": [
        "# Interpretación\n",
        "\n",
        "Lo que se puede ver de los datos es que la duración de películas tiene como promedio de 116.8 minutos con un minimo de 80 min y un maximo de 179 min, con estos podemos ver que es normal poder encontrar películas de diferentes duraciones pero lo más común es  poder encontrar aquellas que ronden las 2 hrs, además tiene un buen promedio de rating ya que esta en un 8.1 con un minimo de 5.2 y un maximo de 9.3 puede ver que las películas no son tan malas como para que lleguen a una calificación menor a 5, lo siguiente es su costo de producción que tiene como promedio los 22.3 millones con un minimo de 0.4 millones y un maximo de 165 millones con esto podemos ver que hay películas que no es necesario de millones para poder sacarla a la pantalla grande y hay aquellas que necesitan una gran inversion para poder salir a la luz.\n",
        "\n",
        "De forma visual podemos ver que lo común es que haya películas que ronden entre los 90 y 120 min, con un rating de entre 7.5 y 9 ademas con un costo de entre 0.4 a 30 millones para su producción; de entre los generos más comunes se encuentra la comedia, el crimen y el drama, ya sea que sea una mezcla de estos tres o que se centren en su genero designado.\n",
        "\n",
        "# Conclusiones\n",
        "Con este conjunto de datos podemos llegar a conclusiones simples ya que son de diferentes años, generos, duración y costos pero sí usamos un conjunto más grande y dependiendo de la situación con características en concreto podemos llegar a conclusiones más especificas que nos sirvan para determinar alguna tendencia.\n"
      ]
    }
  ]
}