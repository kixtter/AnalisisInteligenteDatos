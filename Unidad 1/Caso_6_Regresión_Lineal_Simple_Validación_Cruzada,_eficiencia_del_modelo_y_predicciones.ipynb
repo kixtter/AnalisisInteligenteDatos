{
  "nbformat": 4,
  "nbformat_minor": 0,
  "metadata": {
    "colab": {
      "name": "Caso 6 Regresión Lineal Simple. Validación Cruzada, eficiencia del modelo y predicciones.ipynb",
      "provenance": [],
      "collapsed_sections": [],
      "authorship_tag": "ABX9TyPtLu+UdK4Kb/k6hQvFjpq8",
      "include_colab_link": true
    },
    "kernelspec": {
      "name": "python3",
      "display_name": "Python 3"
    },
    "language_info": {
      "name": "python"
    }
  },
  "cells": [
    {
      "cell_type": "markdown",
      "metadata": {
        "id": "view-in-github",
        "colab_type": "text"
      },
      "source": [
        "<a href=\"https://colab.research.google.com/github/kixtter/AnalisisInteligenteDatos/blob/main/Unidad%201/Caso_6_Regresi%C3%B3n_Lineal_Simple_Validaci%C3%B3n_Cruzada%2C_eficiencia_del_modelo_y_predicciones.ipynb\" target=\"_parent\"><img src=\"https://colab.research.google.com/assets/colab-badge.svg\" alt=\"Open In Colab\"/></a>"
      ]
    },
    {
      "cell_type": "markdown",
      "metadata": {
        "id": "ERsHZeXMN_0P"
      },
      "source": [
        "# Caso 6. Regresión Lineal Simple. Validación Cruzada, eficiencia del modelo y predicciones\n",
        "\n",
        "## Autor: Yander Avila\n",
        "## Fecha: 02-Oct-2021\n"
      ]
    },
    {
      "cell_type": "markdown",
      "metadata": {
        "id": "U9eT8zn1Oo7f"
      },
      "source": [
        "##Objetivo\n",
        "\n",
        "Aplicar un modelo de regresión lineal simple mediante validación cruzada a datos de población y casos de COVID evaluando los estadísticos del modelo y la eficiencia del modelo con ello determinar predicciones para su adecuada interpretación"
      ]
    },
    {
      "cell_type": "markdown",
      "metadata": {
        "id": "Dx19iHpOQRDC"
      },
      "source": [
        "##Descripción\n",
        "\n",
        "Se realizan las siguientes acciones:\n",
        "\n",
        "*  Se cargan las librerías adecuadas\n",
        "*  Se cargan los datos\n",
        "  *  Cargar datos de cantidad de habitantes de una población de municipios y sus casos confirmados de COVID. Los datos son casos confirmados en el periodo de 02-02-2020 al 18-09-2021 en formato DD-MM-YYYY (dia-mes-año). Archivo csv localizado en: [github](https://raw.githubusercontent.com/rpizarrog/Analisis-Inteligente-de-datos/main/datos/poblacion%20confirmados%20municipio.csv)\n",
        "  *  Fuente obtenida de datos del gobierno de México: [Link](https://datos.covid-19.conacyt.mx/#DownZCSV)\n",
        "*  Se describen los datos\n",
        "*  Se encuentra el valor de la correlación para ver la relación entre las dos variables.\n",
        "*  Se visualiza los datos mediante el histograma y la dispersión de las variables independiente población y dependiente confirmados.\n",
        "*  Se determinan los datos de entrenamiento y los datos de validación\n",
        "*  Se crea el modelo\n",
        "*  Se interpreta el estadístico de R Square\n",
        "*  Se hacen predicciones\n",
        "*  Se realizan interpretaciones del caso"
      ]
    },
    {
      "cell_type": "markdown",
      "metadata": {
        "id": "f3eLOhhqSCty"
      },
      "source": [
        "# Desarrollo\n",
        "## Cargar librerías"
      ]
    },
    {
      "cell_type": "code",
      "metadata": {
        "id": "Ddxb6SNvNlN5"
      },
      "source": [
        "import pandas as pd\n",
        "import numpy as np\n",
        "\n",
        "# Gráficos\n",
        "import matplotlib.pyplot as plt\n",
        "from matplotlib import style\n",
        "\n",
        "#Preprocesado y modelado\n",
        "from scipy.stats import pearsonr #Para correlación\n",
        "from sklearn.linear_model import LinearRegression #Para regresión\n",
        "from sklearn.model_selection import train_test_split #Partir datos\n",
        "from sklearn.metrics import r2_score #R Square\n",
        "from sklearn.metrics import mean_squared_error\n",
        "import statsmodels.api as sm\n",
        "import statsmodels.formula.api as smf"
      ],
      "execution_count": 108,
      "outputs": []
    },
    {
      "cell_type": "markdown",
      "metadata": {
        "id": "fE6PvWwqTT8s"
      },
      "source": [
        "## Cargar datos"
      ]
    },
    {
      "cell_type": "code",
      "metadata": {
        "colab": {
          "base_uri": "https://localhost:8080/"
        },
        "id": "QB9-NBAeTV8h",
        "outputId": "743556b7-3ab6-493d-bb6b-a78f91cf5c42"
      },
      "source": [
        "datos = pd.read_csv('https://raw.githubusercontent.com/rpizarrog/Analisis-Inteligente-de-datos/main/datos/poblacion%20confirmados%20municipio.csv')\n",
        "\n",
        "datos.shape"
      ],
      "execution_count": 109,
      "outputs": [
        {
          "output_type": "execute_result",
          "data": {
            "text/plain": [
              "(2457, 4)"
            ]
          },
          "metadata": {},
          "execution_count": 109
        }
      ]
    },
    {
      "cell_type": "markdown",
      "metadata": {
        "id": "iPcQXMf1TnSa"
      },
      "source": [
        "##Describir los datos\n",
        "Mostrando los datos"
      ]
    },
    {
      "cell_type": "code",
      "metadata": {
        "colab": {
          "base_uri": "https://localhost:8080/",
          "height": 424
        },
        "id": "rTRTA8_TTtbc",
        "outputId": "a7e6a92a-b998-40f6-f1ac-97dcd2fdafcc"
      },
      "source": [
        "datos"
      ],
      "execution_count": 110,
      "outputs": [
        {
          "output_type": "execute_result",
          "data": {
            "text/html": [
              "<div>\n",
              "<style scoped>\n",
              "    .dataframe tbody tr th:only-of-type {\n",
              "        vertical-align: middle;\n",
              "    }\n",
              "\n",
              "    .dataframe tbody tr th {\n",
              "        vertical-align: top;\n",
              "    }\n",
              "\n",
              "    .dataframe thead th {\n",
              "        text-align: right;\n",
              "    }\n",
              "</style>\n",
              "<table border=\"1\" class=\"dataframe\">\n",
              "  <thead>\n",
              "    <tr style=\"text-align: right;\">\n",
              "      <th></th>\n",
              "      <th>cve_ent</th>\n",
              "      <th>nombre</th>\n",
              "      <th>poblacion</th>\n",
              "      <th>confirmados</th>\n",
              "    </tr>\n",
              "  </thead>\n",
              "  <tbody>\n",
              "    <tr>\n",
              "      <th>0</th>\n",
              "      <td>16046</td>\n",
              "      <td>Juarez</td>\n",
              "      <td>15290</td>\n",
              "      <td>203</td>\n",
              "    </tr>\n",
              "    <tr>\n",
              "      <th>1</th>\n",
              "      <td>16047</td>\n",
              "      <td>Jungapeo</td>\n",
              "      <td>22358</td>\n",
              "      <td>92</td>\n",
              "    </tr>\n",
              "    <tr>\n",
              "      <th>2</th>\n",
              "      <td>16048</td>\n",
              "      <td>Lagunillas</td>\n",
              "      <td>5862</td>\n",
              "      <td>53</td>\n",
              "    </tr>\n",
              "    <tr>\n",
              "      <th>3</th>\n",
              "      <td>16049</td>\n",
              "      <td>Madero</td>\n",
              "      <td>18769</td>\n",
              "      <td>72</td>\n",
              "    </tr>\n",
              "    <tr>\n",
              "      <th>4</th>\n",
              "      <td>5035</td>\n",
              "      <td>Torreon</td>\n",
              "      <td>744247</td>\n",
              "      <td>19402</td>\n",
              "    </tr>\n",
              "    <tr>\n",
              "      <th>...</th>\n",
              "      <td>...</td>\n",
              "      <td>...</td>\n",
              "      <td>...</td>\n",
              "      <td>...</td>\n",
              "    </tr>\n",
              "    <tr>\n",
              "      <th>2452</th>\n",
              "      <td>32053</td>\n",
              "      <td>Villa Gonzalez Ortega</td>\n",
              "      <td>13945</td>\n",
              "      <td>142</td>\n",
              "    </tr>\n",
              "    <tr>\n",
              "      <th>2453</th>\n",
              "      <td>32054</td>\n",
              "      <td>Villa Hidalgo</td>\n",
              "      <td>20177</td>\n",
              "      <td>112</td>\n",
              "    </tr>\n",
              "    <tr>\n",
              "      <th>2454</th>\n",
              "      <td>32055</td>\n",
              "      <td>Villanueva</td>\n",
              "      <td>31804</td>\n",
              "      <td>497</td>\n",
              "    </tr>\n",
              "    <tr>\n",
              "      <th>2455</th>\n",
              "      <td>32056</td>\n",
              "      <td>Zacatecas</td>\n",
              "      <td>155533</td>\n",
              "      <td>9764</td>\n",
              "    </tr>\n",
              "    <tr>\n",
              "      <th>2456</th>\n",
              "      <td>32058</td>\n",
              "      <td>Santa Maria de la Paz</td>\n",
              "      <td>2855</td>\n",
              "      <td>38</td>\n",
              "    </tr>\n",
              "  </tbody>\n",
              "</table>\n",
              "<p>2457 rows × 4 columns</p>\n",
              "</div>"
            ],
            "text/plain": [
              "      cve_ent                 nombre  poblacion  confirmados\n",
              "0       16046                 Juarez      15290          203\n",
              "1       16047               Jungapeo      22358           92\n",
              "2       16048             Lagunillas       5862           53\n",
              "3       16049                 Madero      18769           72\n",
              "4        5035                Torreon     744247        19402\n",
              "...       ...                    ...        ...          ...\n",
              "2452    32053  Villa Gonzalez Ortega      13945          142\n",
              "2453    32054          Villa Hidalgo      20177          112\n",
              "2454    32055             Villanueva      31804          497\n",
              "2455    32056              Zacatecas     155533         9764\n",
              "2456    32058  Santa Maria de la Paz       2855           38\n",
              "\n",
              "[2457 rows x 4 columns]"
            ]
          },
          "metadata": {},
          "execution_count": 110
        }
      ]
    },
    {
      "cell_type": "markdown",
      "metadata": {
        "id": "T-btSLCDTzEp"
      },
      "source": [
        "Análisis descriptivo"
      ]
    },
    {
      "cell_type": "code",
      "metadata": {
        "colab": {
          "base_uri": "https://localhost:8080/",
          "height": 300
        },
        "id": "6AmN260bT1KL",
        "outputId": "3efc9451-d7ba-49d1-da28-abe49d597528"
      },
      "source": [
        "datos[['poblacion', 'confirmados']].describe() #Estadística elemental"
      ],
      "execution_count": 111,
      "outputs": [
        {
          "output_type": "execute_result",
          "data": {
            "text/html": [
              "<div>\n",
              "<style scoped>\n",
              "    .dataframe tbody tr th:only-of-type {\n",
              "        vertical-align: middle;\n",
              "    }\n",
              "\n",
              "    .dataframe tbody tr th {\n",
              "        vertical-align: top;\n",
              "    }\n",
              "\n",
              "    .dataframe thead th {\n",
              "        text-align: right;\n",
              "    }\n",
              "</style>\n",
              "<table border=\"1\" class=\"dataframe\">\n",
              "  <thead>\n",
              "    <tr style=\"text-align: right;\">\n",
              "      <th></th>\n",
              "      <th>poblacion</th>\n",
              "      <th>confirmados</th>\n",
              "    </tr>\n",
              "  </thead>\n",
              "  <tbody>\n",
              "    <tr>\n",
              "      <th>count</th>\n",
              "      <td>2.457000e+03</td>\n",
              "      <td>2457.000000</td>\n",
              "    </tr>\n",
              "    <tr>\n",
              "      <th>mean</th>\n",
              "      <td>5.201151e+04</td>\n",
              "      <td>1452.297924</td>\n",
              "    </tr>\n",
              "    <tr>\n",
              "      <th>std</th>\n",
              "      <td>1.475537e+05</td>\n",
              "      <td>7135.481990</td>\n",
              "    </tr>\n",
              "    <tr>\n",
              "      <th>min</th>\n",
              "      <td>9.500000e+01</td>\n",
              "      <td>0.000000</td>\n",
              "    </tr>\n",
              "    <tr>\n",
              "      <th>25%</th>\n",
              "      <td>4.470000e+03</td>\n",
              "      <td>18.000000</td>\n",
              "    </tr>\n",
              "    <tr>\n",
              "      <th>50%</th>\n",
              "      <td>1.413700e+04</td>\n",
              "      <td>87.000000</td>\n",
              "    </tr>\n",
              "    <tr>\n",
              "      <th>75%</th>\n",
              "      <td>3.709900e+04</td>\n",
              "      <td>390.000000</td>\n",
              "    </tr>\n",
              "    <tr>\n",
              "      <th>max</th>\n",
              "      <td>1.815551e+06</td>\n",
              "      <td>147221.000000</td>\n",
              "    </tr>\n",
              "  </tbody>\n",
              "</table>\n",
              "</div>"
            ],
            "text/plain": [
              "          poblacion    confirmados\n",
              "count  2.457000e+03    2457.000000\n",
              "mean   5.201151e+04    1452.297924\n",
              "std    1.475537e+05    7135.481990\n",
              "min    9.500000e+01       0.000000\n",
              "25%    4.470000e+03      18.000000\n",
              "50%    1.413700e+04      87.000000\n",
              "75%    3.709900e+04     390.000000\n",
              "max    1.815551e+06  147221.000000"
            ]
          },
          "metadata": {},
          "execution_count": 111
        }
      ]
    },
    {
      "cell_type": "markdown",
      "metadata": {
        "id": "150kw6KkUIoW"
      },
      "source": [
        "Con esta descripción elemental podemos ver algunas características de los datos por ejemplo que la República Mexicana cuenta con 2457 Municipios y que tienen un promedio de 1452 por ubicación lo cual puede representar muchos confirmados pero depende de la cantidad de población con la que cuenta el municipio; hay lugares en donde no hay contagiados y un lugar en concreto que cuenta con casi 150,000 contagiados lo cual puede darse a entender que los municipios con mayor cantidad de habitantes son los más susceptible a esparcir el virus."
      ]
    },
    {
      "cell_type": "markdown",
      "metadata": {
        "id": "R83-pVoYVLB3"
      },
      "source": [
        "##Histograma"
      ]
    },
    {
      "cell_type": "code",
      "metadata": {
        "colab": {
          "base_uri": "https://localhost:8080/",
          "height": 294
        },
        "id": "fcW8rhVcVMtG",
        "outputId": "dd1e9f60-aef8-43ba-f110-503642cbfb82"
      },
      "source": [
        "datos[['poblacion', 'confirmados']].hist()\n",
        "plt.show()"
      ],
      "execution_count": 112,
      "outputs": [
        {
          "output_type": "display_data",
          "data": {
            "image/png": "[encoded data removed]",
            "text/plain": [
              "<Figure size 432x288 with 2 Axes>"
            ]
          },
          "metadata": {
            "needs_background": "light"
          }
        }
      ]
    },
    {
      "cell_type": "markdown",
      "metadata": {
        "id": "4LSu_FHsV2kJ"
      },
      "source": [
        "##Correlación\n",
        "\n",
        "Se encuentra la correlación entre la variable independiente población con la variable dependiente confirmados"
      ]
    },
    {
      "cell_type": "code",
      "metadata": {
        "colab": {
          "base_uri": "https://localhost:8080/"
        },
        "id": "Khc8kh9yWDBJ",
        "outputId": "2b3e3519-dc90-41c3-b186-396b6305ab22"
      },
      "source": [
        "corr_test = pearsonr(x = datos['poblacion'], y = datos['confirmados'])\n",
        "print('Coefiente de correlación de Pearson:', corr_test[0])\n",
        "print('P-value:', corr_test[1])"
      ],
      "execution_count": 113,
      "outputs": [
        {
          "output_type": "stream",
          "name": "stdout",
          "text": [
            "Coefiente de correlación de Pearson: 0.7955600277967804\n",
            "P-value: 0.0\n"
          ]
        }
      ]
    },
    {
      "cell_type": "markdown",
      "metadata": {
        "id": "Mb29zgKTWfW0"
      },
      "source": [
        "Fórmula de correlación de Pearson:\n",
        "\n",
        "$$\n",
        "\\displaystyle \\text{Coef. de correlación de Pearson} (r) = \\frac{cov(x,y)} {s_xs_y} =\\frac{\\sum(x_i-\\bar{x})(yi-\\bar{y})} {(N-1)s_xs_y}\\\\\n",
        "$$\n",
        "\n",
        "De acuerdo a la tabla de correlación de Pearson se emplean como medida de la fuerza de asociación entre dos variables (tamaño del efecto):\n",
        "\n",
        "*  0.0: asociación nula\n",
        "*  0.1: asociación pequeña\n",
        "*  0.3: asociación mediana\n",
        "*  0.5: asociación moderada\n",
        "*  **0.7: asociación alta**\n",
        "*  0.9: asociación muy alta\n",
        "\n",
        "Haciendo uso de la correlación de Pearson podemos observar el nivel de relación que existe entre la variable independiente 'poblacion' y la variable dependiente 'confirmados'; da como resultado *0.7955* y checando la lista de arriba podemos ver como es una asociación alta lo cual representa una gran relación entre la población y los confirmados, esto representa que entre más población tenga un municipio, más contagiados pueden confirmarse."
      ]
    },
    {
      "cell_type": "markdown",
      "metadata": {
        "id": "_fS-ajDuZB6R"
      },
      "source": [
        "## Diagrama de dispersión"
      ]
    },
    {
      "cell_type": "code",
      "metadata": {
        "colab": {
          "base_uri": "https://localhost:8080/",
          "height": 297
        },
        "id": "_RavQvZmZFPq",
        "outputId": "66ab61c2-cc6c-4769-9385-e6677ca96db4"
      },
      "source": [
        "fig, ax = plt.subplots(1, 1, figsize = (6, 4))\n",
        "ax.scatter(x = datos['poblacion'], y = datos['confirmados'], alpha = 0.8, c = 'lightgreen')\n",
        "ax.set_xlabel('POBLACIÓN')\n",
        "ax.set_ylabel('CONFIRMADOS')"
      ],
      "execution_count": 114,
      "outputs": [
        {
          "output_type": "execute_result",
          "data": {
            "text/plain": [
              "Text(0, 0.5, 'CONFIRMADOS')"
            ]
          },
          "metadata": {},
          "execution_count": 114
        },
        {
          "output_type": "display_data",
          "data": {
            "image/png": "[encoded data removed]",
            "text/plain": [
              "<Figure size 432x288 with 1 Axes>"
            ]
          },
          "metadata": {
            "needs_background": "light"
          }
        }
      ]
    },
    {
      "cell_type": "markdown",
      "metadata": {
        "id": "pTOLDWKfZ2fU"
      },
      "source": [
        "##Validación cruzada\n",
        "\n",
        "La validación cruzada consiste en dividir el conjunto de datos en dos partes:\n",
        "\n",
        "*  Datos de entrenamiento para crear el modelo y evaluar la eficiencia del mismo.\n",
        "*  Datos de validación para probar el modelo haciendo predicciones.\n",
        "\n",
        "Se utilizarán las siguientes variables:\n",
        "\n",
        "*  x_entrena_poblacion: son los valores de población para entrenar el modelo.\n",
        "*  x_valida_población: son los valores de población para probar el modelo\n",
        "*  y_entrena_poblacion: son los valores de confirmados para entrenar el modelo.\n",
        "*  y_valida_confirma: son los valores de confirmados con los cuales se comparan las predicciones\n"
      ]
    },
    {
      "cell_type": "markdown",
      "metadata": {
        "id": "EDbbr4l4bO7o"
      },
      "source": [
        "## Partiendo los datos"
      ]
    },
    {
      "cell_type": "code",
      "metadata": {
        "id": "-ksqY610bSrH"
      },
      "source": [
        "poblacion = datos[['poblacion']]\n",
        "confirmados = datos[['confirmados']]"
      ],
      "execution_count": 115,
      "outputs": []
    },
    {
      "cell_type": "code",
      "metadata": {
        "id": "HUbVfEYvbgnX"
      },
      "source": [
        "entrena_poblacion, valida_poblacion, entrena_confirma, valida_confirma = train_test_split(\n",
        "    poblacion.values.reshape(-1, 1),\n",
        "    confirmados.values.reshape(-1, 1),\n",
        "    train_size = 0.8,\n",
        "    random_state = 2021,\n",
        "    shuffle = True    \n",
        ")"
      ],
      "execution_count": 116,
      "outputs": []
    },
    {
      "cell_type": "markdown",
      "metadata": {
        "id": "5muEzC4LdSPx"
      },
      "source": [
        "Los datos de entrenamiento representan el 80% del total de los datos y el 20% es para realizar validaciones.\n",
        "\n",
        "El modelo se construye con los datos de entrenamiento, en este caso con las variables identificadas con entrena_poblacion y entrena_confirma"
      ]
    },
    {
      "cell_type": "markdown",
      "metadata": {
        "id": "IhytQxKXguaf"
      },
      "source": [
        "##Construyendo el modelo\n",
        "Se construye el modelo de regresión lineal"
      ]
    },
    {
      "cell_type": "code",
      "metadata": {
        "colab": {
          "base_uri": "https://localhost:8080/"
        },
        "id": "-me2C12og2WT",
        "outputId": "39a8c7f0-a0b4-4647-e66f-0541e9e06704"
      },
      "source": [
        "modelo = LinearRegression()\n",
        "modelo.fit(X = entrena_poblacion.reshape(-1, 1), y = entrena_confirma)"
      ],
      "execution_count": 117,
      "outputs": [
        {
          "output_type": "execute_result",
          "data": {
            "text/plain": [
              "LinearRegression(copy_X=True, fit_intercept=True, n_jobs=None, normalize=False)"
            ]
          },
          "metadata": {},
          "execution_count": 117
        }
      ]
    },
    {
      "cell_type": "markdown",
      "metadata": {
        "id": "b7I2H0UHhMQV"
      },
      "source": [
        "#Evaluando el modelo"
      ]
    },
    {
      "cell_type": "code",
      "metadata": {
        "colab": {
          "base_uri": "https://localhost:8080/"
        },
        "id": "qpgVe23jhOza",
        "outputId": "052f3afe-bc16-4bd1-d319-29a884aebbef"
      },
      "source": [
        "print('Coeficiente de la intercepción:', modelo.intercept_)\n",
        "print('Coeficiente de la pendiente:', modelo.coef_)\n",
        "print('Coeficiente de determinación de R^2 o R Square:', modelo.score(X = entrena_poblacion, y = entrena_confirma))\n"
      ],
      "execution_count": 118,
      "outputs": [
        {
          "output_type": "stream",
          "name": "stdout",
          "text": [
            "Coeficiente de la intercepción: [-431.17383614]\n",
            "Coeficiente de la pendiente: [[0.03636402]]\n",
            "Coeficiente de determinación de R^2 o R Square: 0.6170721867551827\n"
          ]
        }
      ]
    },
    {
      "cell_type": "markdown",
      "metadata": {
        "id": "Kjo5aXlWhtyH"
      },
      "source": [
        "El valor del coeficiente de determincación es 0.6170 en regresión lineal simple significa que la representatividad que tiene la población con respecto a los casos confirmados o lo que es lo mismo, el valor de la población representa un 61.70% del valor de los casos confirmados.\n",
        "\n",
        "R2 describe la proporción de varianza de la variable respuesta explicada por el modelo y relativa a la varianza total.\n",
        "\n",
        "R2 explica la variabilidad de los datos de la variable de respuesta o la variable independiente población explica un 62% la variable confirmados.\n",
        "\n",
        "Con esto podemos saber que la población afecta en un 62% la transmisión del virus lo cual indica que la cantidad de habitantes que tiene cada municipio no influye de forma total en la tasa de confirmados, por mencionar algunos posibles factores: las actividades económicas de la región, la cantidad de turistas que visitan el lugar y el flujo diario de personas que transitan por la ciudad."
      ]
    },
    {
      "cell_type": "markdown",
      "metadata": {
        "id": "w3Gs4EPUolES"
      },
      "source": [
        "#Predicciones\n",
        "Reaizar 5 predicciones con los datos de validación\n",
        "\n",
        "Se tiene un 61% de certeza que de las predicciones de casos confirmados se acercarán a las reales"
      ]
    },
    {
      "cell_type": "code",
      "metadata": {
        "colab": {
          "base_uri": "https://localhost:8080/"
        },
        "id": "8oSFqoBZo9IS",
        "outputId": "df54cf2e-2a26-4642-9cd7-bb6a6ba34a88"
      },
      "source": [
        "prediccion = modelo.predict([[31803]])\n",
        "print(int(prediccion))\n",
        "i = 0\n",
        "\n",
        "for x in valida_poblacion:\n",
        "   if i > 5:\n",
        "     break\n",
        "   prediccion = modelo.predict([x])\n",
        "   if(prediccion > 0):\n",
        "     print('Población: ', x, 'Predicción:', int(prediccion))\n",
        "   else:\n",
        "     print('Población: ', x, 'Predicción:', int(0))\n",
        "   i+=1"
      ],
      "execution_count": 128,
      "outputs": [
        {
          "output_type": "stream",
          "name": "stdout",
          "text": [
            "725\n",
            "Población:  [16053] Predicción: 152\n",
            "Población:  [11168] Predicción: 0\n",
            "Población:  [37479] Predicción: 931\n",
            "Población:  [5578] Predicción: 0\n",
            "Población:  [21836] Predicción: 362\n",
            "Población:  [1140] Predicción: 0\n"
          ]
        }
      ]
    },
    {
      "cell_type": "markdown",
      "metadata": {
        "id": "FZRSMsU2tugp"
      },
      "source": [
        "#Interpretación\n",
        "\n",
        "El caso me dejo a entender que al darle un mejor tratamiento a los datos es más facil poder probarlos y confirmarlo, con los datos de validación, poder separar el conjunto de datos en un conjunto de entrenamiento y en un conjunto de validación permite que se puedan hacer predicción una vez que el modelo haya \"aprendido\" a como detectar las tendencias entre los contagios y la población de los municipios.\n",
        "\n",
        "Entre más certero sea el modelo se tiene más seguridad al realizar las predicciones ya que los resultados serán más cercanos a los reales y servirá para poder implantar posible acciones para prevenir más contagios.\n",
        "\n",
        "Para la predicción de los 5 casos:\n",
        "*  Población:  [16053] Predicción: 152\n",
        "*  Población:  [11168] Predicción: 0\n",
        "*  Población:  [37479] Predicción: 931\n",
        "*  Población:  [5578] Predicción: 0\n",
        "*  Población:  [21836] Predicción: 362\n",
        "*  Población:  [1140] Predicción: 0\n",
        "\n",
        "Según las predicciones, en los municipios que tienen más de 12,000 habitantes es más posible la confirmacion de casos de COVID pero aun con esto se tiene un 62% de certeza de que sea asi en realidad, solo termina siendo una estimación de lo que podría suceder según la cantidad de habitantes pero aun la población solo es otro factor en los contagios por ejemplo: las actividades económicas de la región, la cantidad de turistas que visitan el lugar y el flujo diario de personas que transitan por la ciudad; son otros factores que se pueden tener en cuenta al hacer un analisis de casos confirmados de COVID."
      ]
    }
  ]
}